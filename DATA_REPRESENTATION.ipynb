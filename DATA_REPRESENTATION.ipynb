{
  "nbformat": 4,
  "nbformat_minor": 0,
  "metadata": {
    "colab": {
      "name": "DATA REPRESENTATION.ipynb",
      "provenance": [],
      "collapsed_sections": [],
      "authorship_tag": "ABX9TyO3YWmFB3XAAZebiplENVGr",
      "include_colab_link": true
    },
    "kernelspec": {
      "name": "python3",
      "display_name": "Python 3"
    },
    "language_info": {
      "name": "python"
    }
  },
  "cells": [
    {
      "cell_type": "markdown",
      "metadata": {
        "id": "view-in-github",
        "colab_type": "text"
      },
      "source": [
        "<a href=\"https://colab.research.google.com/github/Rimshay/DEEP-LEARNING/blob/main/DATA_REPRESENTATION.ipynb\" target=\"_parent\"><img src=\"https://colab.research.google.com/assets/colab-badge.svg\" alt=\"Open In Colab\"/></a>"
      ]
    },
    {
      "cell_type": "markdown",
      "source": [
        "## Data representations for neural networks\n",
        "nd-Array = tensor\n",
        "count number of opening brickets [[[ == number dimension, rank, axis\n",
        "### 2.2.1\n",
        "Scalars (0D tensors)"
      ],
      "metadata": {
        "id": "iUq15gLkiqUk"
      }
    },
    {
      "cell_type": "code",
      "source": [
        " import numpy as np\n",
        "\n",
        "a = np.array(25)\n",
        "print(a)\n",
        "print(a.ndim)\n",
        "print(a.shape)\n",
        "\n",
        "# OD Tesnor, 0 Rank Tensor"
      ],
      "metadata": {
        "colab": {
          "base_uri": "https://localhost:8080/"
        },
        "id": "hH4H3BMliuRj",
        "outputId": "ff069502-0caa-4469-a978-6a6189bd4ef2"
      },
      "execution_count": 2,
      "outputs": [
        {
          "output_type": "stream",
          "name": "stdout",
          "text": [
            "25\n",
            "0\n",
            "()\n"
          ]
        }
      ]
    },
    {
      "cell_type": "markdown",
      "source": [
        "## 2.2.2\n",
        "Vectors (1D tensors)"
      ],
      "metadata": {
        "id": "sliIYmCoi3WC"
      }
    },
    {
      "cell_type": "code",
      "execution_count": 3,
      "metadata": {
        "colab": {
          "base_uri": "https://localhost:8080/"
        },
        "id": "bYwMbdVMiHYi",
        "outputId": "a5fc5a12-4f37-40ca-ec0f-23585e58cc41"
      },
      "outputs": [
        {
          "output_type": "stream",
          "name": "stdout",
          "text": [
            "[1 3 4 9 6]\n",
            "Dimension 1\n",
            "Shape (5,)\n"
          ]
        }
      ],
      "source": [
        "a = np.array([1,3,4,9,6])\n",
        "print(a)\n",
        "print(\"Dimension\",a.ndim)\n",
        "print(\"Shape\",a.shape)\n",
        "\n",
        "# 1D Tensor, 1 Rank Tensor, Vector, 1Axes Tensor"
      ]
    },
    {
      "cell_type": "markdown",
      "source": [
        "## 2.2.3\n",
        "Matrices (2D tensors)"
      ],
      "metadata": {
        "id": "V6dQVrQhjBzR"
      }
    },
    {
      "cell_type": "code",
      "source": [
        "a = np.array([[5, 78, 2, 34, 0],\n",
        "              [6, 79, 3, 35, 1],\n",
        "              [7, 80, 4, 36, 2]])\n",
        "\n",
        "print(a)\n",
        "print(\"Dimension\",a.ndim)\n",
        "print(\"Shape\",a.shape)"
      ],
      "metadata": {
        "colab": {
          "base_uri": "https://localhost:8080/"
        },
        "id": "89-hJAXGi_bS",
        "outputId": "3f64ef77-041b-4f17-a5d1-a38fd0ea27d7"
      },
      "execution_count": 4,
      "outputs": [
        {
          "output_type": "stream",
          "name": "stdout",
          "text": [
            "[[ 5 78  2 34  0]\n",
            " [ 6 79  3 35  1]\n",
            " [ 7 80  4 36  2]]\n",
            "Dimension 2\n",
            "Shape (3, 5)\n"
          ]
        }
      ]
    },
    {
      "cell_type": "markdown",
      "source": [
        "## 2.2.4\n",
        "3D tensors and higher-dimensional tensors"
      ],
      "metadata": {
        "id": "7gLWd1EnjJyl"
      }
    },
    {
      "cell_type": "code",
      "source": [
        "a = np.arange(1,46).reshape((3,3,5))\n",
        "\n",
        "print(a)\n",
        "print(\"Dimension\",a.ndim)\n",
        "print(\"Shape\",a.shape)"
      ],
      "metadata": {
        "colab": {
          "base_uri": "https://localhost:8080/"
        },
        "id": "7TI5UsDejGqi",
        "outputId": "8d912b65-2e23-43ec-c59f-8bfd0b72afe4"
      },
      "execution_count": 5,
      "outputs": [
        {
          "output_type": "stream",
          "name": "stdout",
          "text": [
            "[[[ 1  2  3  4  5]\n",
            "  [ 6  7  8  9 10]\n",
            "  [11 12 13 14 15]]\n",
            "\n",
            " [[16 17 18 19 20]\n",
            "  [21 22 23 24 25]\n",
            "  [26 27 28 29 30]]\n",
            "\n",
            " [[31 32 33 34 35]\n",
            "  [36 37 38 39 40]\n",
            "  [41 42 43 44 45]]]\n",
            "Dimension 3\n",
            "Shape (3, 3, 5)\n"
          ]
        }
      ]
    },
    {
      "cell_type": "code",
      "source": [
        "a = np.ones((2,2,2,2,2))\n",
        "\n",
        "print(a)\n",
        "print(\"Dimension\",a.ndim)\n",
        "print(\"Shape\",a.shape)"
      ],
      "metadata": {
        "colab": {
          "base_uri": "https://localhost:8080/"
        },
        "id": "Sw8xx_RgjSOi",
        "outputId": "c9cc9955-0922-4a82-a5ca-e41562edb333"
      },
      "execution_count": 6,
      "outputs": [
        {
          "output_type": "stream",
          "name": "stdout",
          "text": [
            "[[[[[1. 1.]\n",
            "    [1. 1.]]\n",
            "\n",
            "   [[1. 1.]\n",
            "    [1. 1.]]]\n",
            "\n",
            "\n",
            "  [[[1. 1.]\n",
            "    [1. 1.]]\n",
            "\n",
            "   [[1. 1.]\n",
            "    [1. 1.]]]]\n",
            "\n",
            "\n",
            "\n",
            " [[[[1. 1.]\n",
            "    [1. 1.]]\n",
            "\n",
            "   [[1. 1.]\n",
            "    [1. 1.]]]\n",
            "\n",
            "\n",
            "  [[[1. 1.]\n",
            "    [1. 1.]]\n",
            "\n",
            "   [[1. 1.]\n",
            "    [1. 1.]]]]]\n",
            "Dimension 5\n",
            "Shape (2, 2, 2, 2, 2)\n"
          ]
        }
      ]
    }
  ]
}