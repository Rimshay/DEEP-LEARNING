{
  "nbformat": 4,
  "nbformat_minor": 0,
  "metadata": {
    "colab": {
      "name": "LSTM in KERAS.ipynb",
      "provenance": [],
      "authorship_tag": "ABX9TyNEp3bgDVPJZ4WL5lV/2QQs",
      "include_colab_link": true
    },
    "kernelspec": {
      "name": "python3",
      "display_name": "Python 3"
    },
    "language_info": {
      "name": "python"
    }
  },
  "cells": [
    {
      "cell_type": "markdown",
      "metadata": {
        "id": "view-in-github",
        "colab_type": "text"
      },
      "source": [
        "<a href=\"https://colab.research.google.com/github/Rimshay/DEEP-LEARNING/blob/main/LSTM_in_KERAS.ipynb\" target=\"_parent\"><img src=\"https://colab.research.google.com/assets/colab-badge.svg\" alt=\"Open In Colab\"/></a>"
      ]
    },
    {
      "cell_type": "markdown",
      "source": [
        "**6.2.3 A concrete LSTM example in Keras**\n",
        "**Listing 6.27 Using the LSTM layer in Keras**"
      ],
      "metadata": {
        "id": "BW3Tf8No3jpd"
      }
    },
    {
      "cell_type": "code",
      "execution_count": 1,
      "metadata": {
        "id": "pKHs4b_p3dV_"
      },
      "outputs": [],
      "source": [
        "# he following example returns the full state sequence:\n",
        "from tensorflow.keras.models import Sequential\n",
        "from tensorflow.keras.layers import Embedding, SimpleRNN"
      ]
    },
    {
      "cell_type": "code",
      "source": [
        "from keras.datasets import imdb\n",
        "from keras.preprocessing import sequence\n",
        "max_features = 10000\n",
        "maxlen = 500\n",
        "batch_size = 32\n",
        "print('Loading data...')\n",
        "(input_train, y_train), (input_test, y_test) = imdb.load_data(\n",
        "    num_words=max_features)\n",
        "\n",
        "print(len(input_train), 'train sequences')\n",
        "print(len(input_test), 'test sequences')\n",
        "print('Pad sequences (samples x time)')\n",
        "input_train = sequence.pad_sequences(input_train, maxlen=maxlen)\n",
        "input_test = sequence.pad_sequences(input_test, maxlen=maxlen)\n",
        "print('input_train shape:', input_train.shape)\n",
        "print('input_test shape:', input_test.shape)"
      ],
      "metadata": {
        "colab": {
          "base_uri": "https://localhost:8080/"
        },
        "id": "u1QbCumh3sI7",
        "outputId": "f933f412-6167-4bbc-a7eb-3873930a7dbb"
      },
      "execution_count": 2,
      "outputs": [
        {
          "output_type": "stream",
          "name": "stdout",
          "text": [
            "Loading data...\n",
            "Downloading data from https://storage.googleapis.com/tensorflow/tf-keras-datasets/imdb.npz\n",
            "17465344/17464789 [==============================] - 0s 0us/step\n",
            "17473536/17464789 [==============================] - 0s 0us/step\n",
            "25000 train sequences\n",
            "25000 test sequences\n",
            "Pad sequences (samples x time)\n",
            "input_train shape: (25000, 500)\n",
            "input_test shape: (25000, 500)\n"
          ]
        }
      ]
    },
    {
      "cell_type": "code",
      "source": [
        "from keras.layers import LSTM, Dense\n",
        "model = Sequential()\n",
        "model.add(Embedding(max_features, 32))\n",
        "model.add(LSTM(32))\n",
        "model.add(Dense(1, activation='sigmoid'))\n",
        "model.compile(optimizer='rmsprop',\n",
        "              loss='binary_crossentropy',\n",
        "              metrics=['acc'])\n",
        "history = model.fit(input_train, y_train,\n",
        "                    epochs=10,\n",
        "                    batch_size=128,\n",
        "                    validation_split=0.2)"
      ],
      "metadata": {
        "colab": {
          "base_uri": "https://localhost:8080/"
        },
        "id": "eJktfS1Y3u7r",
        "outputId": "b9acb86c-93d3-4eda-c32f-d75b10a6d824"
      },
      "execution_count": 3,
      "outputs": [
        {
          "output_type": "stream",
          "name": "stdout",
          "text": [
            "Epoch 1/10\n",
            "157/157 [==============================] - 59s 358ms/step - loss: 0.5421 - acc: 0.7446 - val_loss: 0.3903 - val_acc: 0.8464\n",
            "Epoch 2/10\n",
            "157/157 [==============================] - 55s 348ms/step - loss: 0.3057 - acc: 0.8808 - val_loss: 0.3615 - val_acc: 0.8408\n",
            "Epoch 3/10\n",
            "157/157 [==============================] - 54s 347ms/step - loss: 0.2398 - acc: 0.9107 - val_loss: 0.2982 - val_acc: 0.8724\n",
            "Epoch 4/10\n",
            "157/157 [==============================] - 54s 347ms/step - loss: 0.1990 - acc: 0.9266 - val_loss: 0.4517 - val_acc: 0.8644\n",
            "Epoch 5/10\n",
            "157/157 [==============================] - 54s 346ms/step - loss: 0.1801 - acc: 0.9345 - val_loss: 0.3835 - val_acc: 0.8602\n",
            "Epoch 6/10\n",
            "157/157 [==============================] - 54s 347ms/step - loss: 0.1584 - acc: 0.9439 - val_loss: 0.3336 - val_acc: 0.8522\n",
            "Epoch 7/10\n",
            "157/157 [==============================] - 55s 348ms/step - loss: 0.1428 - acc: 0.9499 - val_loss: 0.3239 - val_acc: 0.8788\n",
            "Epoch 8/10\n",
            "157/157 [==============================] - 55s 352ms/step - loss: 0.1333 - acc: 0.9538 - val_loss: 0.3266 - val_acc: 0.8878\n",
            "Epoch 9/10\n",
            "157/157 [==============================] - 55s 350ms/step - loss: 0.1174 - acc: 0.9567 - val_loss: 0.5900 - val_acc: 0.8124\n",
            "Epoch 10/10\n",
            "157/157 [==============================] - 54s 347ms/step - loss: 0.1118 - acc: 0.9599 - val_loss: 0.3523 - val_acc: 0.8812\n"
          ]
        }
      ]
    }
  ]
}