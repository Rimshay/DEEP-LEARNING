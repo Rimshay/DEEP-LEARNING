{
  "cells": [
    {
      "cell_type": "markdown",
      "metadata": {
        "id": "view-in-github",
        "colab_type": "text"
      },
      "source": [
        "<a href=\"https://colab.research.google.com/github/Rimshay/DEEP-LEARNING/blob/main/KERAS_FUNCTIONAL_API.ipynb\" target=\"_parent\"><img src=\"https://colab.research.google.com/assets/colab-badge.svg\" alt=\"Open In Colab\"/></a>"
      ]
    },
    {
      "cell_type": "markdown",
      "metadata": {
        "id": "h1sayXLZci4J"
      },
      "source": [
        "**Keras Functional API**"
      ]
    },
    {
      "cell_type": "code",
      "execution_count": 1,
      "metadata": {
        "colab": {
          "base_uri": "https://localhost:8080/"
        },
        "id": "1-Wr77PpcJk5",
        "outputId": "25dd1332-bdbc-4624-84d0-25f018900137"
      },
      "outputs": [
        {
          "output_type": "stream",
          "name": "stdout",
          "text": [
            "2.8.0\n",
            "2.8.0\n"
          ]
        }
      ],
      "source": [
        "# sudo pip3 install --ignore-installed --upgrade tensorflow\n",
        "import keras\n",
        "import tensorflow as tf\n",
        "print(keras.__version__)\n",
        "print(tf.__version__)\n",
        "# To ignore keep_dims warning\n",
        "#tf.logging.set_verbosity(tf.logging.ERROR)"
      ]
    },
    {
      "cell_type": "markdown",
      "metadata": {
        "id": "z5fwhcQKcwsP"
      },
      "source": [
        "**Let’s start with a minimal example that shows side by side a simple Sequential** **model and its equivalent in the functional API:**"
      ]
    },
    {
      "cell_type": "code",
      "execution_count": 2,
      "metadata": {
        "id": "vEGBo7Nnc5NW"
      },
      "outputs": [],
      "source": [
        "from keras.models import Sequential, Model \n",
        "from keras import layers \n",
        "from keras import Input \n",
        "\n",
        "seq_model = Sequential()\n",
        "seq_model.add(layers.Dense(32, activation='relu', input_shape=(64,))) \n",
        "seq_model.add(layers.Dense(32, activation='relu'))\n",
        "seq_model.add(layers.Dense(10, activation='softmax'))\n",
        "\n",
        "input_tensor = Input(shape=(64,))\n",
        "x = layers.Dense(32, activation='relu')(input_tensor)\n",
        "x = layers.Dense(32, activation='relu')(x)\n",
        "output_tensor = layers.Dense(10, activation='softmax')(x)\n",
        "\n",
        "model = Model(input_tensor, output_tensor)"
      ]
    },
    {
      "cell_type": "code",
      "execution_count": 3,
      "metadata": {
        "colab": {
          "base_uri": "https://localhost:8080/",
          "height": 856
        },
        "id": "D6i4w2vGc7pe",
        "outputId": "0f34eff4-b7b2-4a38-a0fd-a0445fff031b"
      },
      "outputs": [
        {
          "output_type": "stream",
          "name": "stdout",
          "text": [
            "Model: \"model\"\n",
            "_________________________________________________________________\n",
            " Layer (type)                Output Shape              Param #   \n",
            "=================================================================\n",
            " input_1 (InputLayer)        [(None, 64)]              0         \n",
            "                                                                 \n",
            " dense_3 (Dense)             (None, 32)                2080      \n",
            "                                                                 \n",
            " dense_4 (Dense)             (None, 32)                1056      \n",
            "                                                                 \n",
            " dense_5 (Dense)             (None, 10)                330       \n",
            "                                                                 \n",
            "=================================================================\n",
            "Total params: 3,466\n",
            "Trainable params: 3,466\n",
            "Non-trainable params: 0\n",
            "_________________________________________________________________\n"
          ]
        },
        {
          "output_type": "execute_result",
          "data": {
            "text/plain": [
              "<IPython.core.display.SVG object>"
            ],
            "image/svg+xml": "<svg height=\"405pt\" viewBox=\"0.00 0.00 324.00 304.00\" width=\"432pt\" xmlns=\"http://www.w3.org/2000/svg\" xmlns:xlink=\"http://www.w3.org/1999/xlink\">\n<g class=\"graph\" id=\"graph0\" transform=\"scale(1.3333 1.3333) rotate(0) translate(4 300)\">\n<title>G</title>\n<polygon fill=\"#ffffff\" points=\"-4,4 -4,-300 320,-300 320,4 -4,4\" stroke=\"transparent\"/>\n<!-- 139783334804816 -->\n<g class=\"node\" id=\"node1\">\n<title>139783334804816</title>\n<polygon fill=\"none\" points=\"0,-249.5 0,-295.5 316,-295.5 316,-249.5 0,-249.5\" stroke=\"#000000\"/>\n<text fill=\"#000000\" font-family=\"Times,serif\" font-size=\"14.00\" text-anchor=\"middle\" x=\"40\" y=\"-280.3\">input_1</text>\n<polyline fill=\"none\" points=\"0,-272.5 80,-272.5 \" stroke=\"#000000\"/>\n<text fill=\"#000000\" font-family=\"Times,serif\" font-size=\"14.00\" text-anchor=\"middle\" x=\"40\" y=\"-257.3\">InputLayer</text>\n<polyline fill=\"none\" points=\"80,-249.5 80,-295.5 \" stroke=\"#000000\"/>\n<text fill=\"#000000\" font-family=\"Times,serif\" font-size=\"14.00\" text-anchor=\"middle\" x=\"109\" y=\"-280.3\">input:</text>\n<polyline fill=\"none\" points=\"80,-272.5 138,-272.5 \" stroke=\"#000000\"/>\n<text fill=\"#000000\" font-family=\"Times,serif\" font-size=\"14.00\" text-anchor=\"middle\" x=\"109\" y=\"-257.3\">output:</text>\n<polyline fill=\"none\" points=\"138,-249.5 138,-295.5 \" stroke=\"#000000\"/>\n<text fill=\"#000000\" font-family=\"Times,serif\" font-size=\"14.00\" text-anchor=\"middle\" x=\"182.5\" y=\"-268.8\">[(None, 64)]</text>\n<polyline fill=\"none\" points=\"227,-249.5 227,-295.5 \" stroke=\"#000000\"/>\n<text fill=\"#000000\" font-family=\"Times,serif\" font-size=\"14.00\" text-anchor=\"middle\" x=\"271.5\" y=\"-268.8\">[(None, 64)]</text>\n</g>\n<!-- 139783334804880 -->\n<g class=\"node\" id=\"node2\">\n<title>139783334804880</title>\n<polygon fill=\"none\" points=\"17,-166.5 17,-212.5 299,-212.5 299,-166.5 17,-166.5\" stroke=\"#000000\"/>\n<text fill=\"#000000\" font-family=\"Times,serif\" font-size=\"14.00\" text-anchor=\"middle\" x=\"49\" y=\"-197.3\">dense_3</text>\n<polyline fill=\"none\" points=\"17,-189.5 81,-189.5 \" stroke=\"#000000\"/>\n<text fill=\"#000000\" font-family=\"Times,serif\" font-size=\"14.00\" text-anchor=\"middle\" x=\"49\" y=\"-174.3\">Dense</text>\n<polyline fill=\"none\" points=\"81,-166.5 81,-212.5 \" stroke=\"#000000\"/>\n<text fill=\"#000000\" font-family=\"Times,serif\" font-size=\"14.00\" text-anchor=\"middle\" x=\"110\" y=\"-197.3\">input:</text>\n<polyline fill=\"none\" points=\"81,-189.5 139,-189.5 \" stroke=\"#000000\"/>\n<text fill=\"#000000\" font-family=\"Times,serif\" font-size=\"14.00\" text-anchor=\"middle\" x=\"110\" y=\"-174.3\">output:</text>\n<polyline fill=\"none\" points=\"139,-166.5 139,-212.5 \" stroke=\"#000000\"/>\n<text fill=\"#000000\" font-family=\"Times,serif\" font-size=\"14.00\" text-anchor=\"middle\" x=\"179\" y=\"-185.8\">(None, 64)</text>\n<polyline fill=\"none\" points=\"219,-166.5 219,-212.5 \" stroke=\"#000000\"/>\n<text fill=\"#000000\" font-family=\"Times,serif\" font-size=\"14.00\" text-anchor=\"middle\" x=\"259\" y=\"-185.8\">(None, 32)</text>\n</g>\n<!-- 139783334804816&#45;&gt;139783334804880 -->\n<g class=\"edge\" id=\"edge1\">\n<title>139783334804816-&gt;139783334804880</title>\n<path d=\"M158,-249.3799C158,-241.1745 158,-231.7679 158,-222.8786\" fill=\"none\" stroke=\"#000000\"/>\n<polygon fill=\"#000000\" points=\"161.5001,-222.784 158,-212.784 154.5001,-222.784 161.5001,-222.784\" stroke=\"#000000\"/>\n</g>\n<!-- 139783335077968 -->\n<g class=\"node\" id=\"node3\">\n<title>139783335077968</title>\n<polygon fill=\"none\" points=\"17,-83.5 17,-129.5 299,-129.5 299,-83.5 17,-83.5\" stroke=\"#000000\"/>\n<text fill=\"#000000\" font-family=\"Times,serif\" font-size=\"14.00\" text-anchor=\"middle\" x=\"49\" y=\"-114.3\">dense_4</text>\n<polyline fill=\"none\" points=\"17,-106.5 81,-106.5 \" stroke=\"#000000\"/>\n<text fill=\"#000000\" font-family=\"Times,serif\" font-size=\"14.00\" text-anchor=\"middle\" x=\"49\" y=\"-91.3\">Dense</text>\n<polyline fill=\"none\" points=\"81,-83.5 81,-129.5 \" stroke=\"#000000\"/>\n<text fill=\"#000000\" font-family=\"Times,serif\" font-size=\"14.00\" text-anchor=\"middle\" x=\"110\" y=\"-114.3\">input:</text>\n<polyline fill=\"none\" points=\"81,-106.5 139,-106.5 \" stroke=\"#000000\"/>\n<text fill=\"#000000\" font-family=\"Times,serif\" font-size=\"14.00\" text-anchor=\"middle\" x=\"110\" y=\"-91.3\">output:</text>\n<polyline fill=\"none\" points=\"139,-83.5 139,-129.5 \" stroke=\"#000000\"/>\n<text fill=\"#000000\" font-family=\"Times,serif\" font-size=\"14.00\" text-anchor=\"middle\" x=\"179\" y=\"-102.8\">(None, 32)</text>\n<polyline fill=\"none\" points=\"219,-83.5 219,-129.5 \" stroke=\"#000000\"/>\n<text fill=\"#000000\" font-family=\"Times,serif\" font-size=\"14.00\" text-anchor=\"middle\" x=\"259\" y=\"-102.8\">(None, 32)</text>\n</g>\n<!-- 139783334804880&#45;&gt;139783335077968 -->\n<g class=\"edge\" id=\"edge2\">\n<title>139783334804880-&gt;139783335077968</title>\n<path d=\"M158,-166.3799C158,-158.1745 158,-148.7679 158,-139.8786\" fill=\"none\" stroke=\"#000000\"/>\n<polygon fill=\"#000000\" points=\"161.5001,-139.784 158,-129.784 154.5001,-139.784 161.5001,-139.784\" stroke=\"#000000\"/>\n</g>\n<!-- 139783334868112 -->\n<g class=\"node\" id=\"node4\">\n<title>139783334868112</title>\n<polygon fill=\"none\" points=\"17,-.5 17,-46.5 299,-46.5 299,-.5 17,-.5\" stroke=\"#000000\"/>\n<text fill=\"#000000\" font-family=\"Times,serif\" font-size=\"14.00\" text-anchor=\"middle\" x=\"49\" y=\"-31.3\">dense_5</text>\n<polyline fill=\"none\" points=\"17,-23.5 81,-23.5 \" stroke=\"#000000\"/>\n<text fill=\"#000000\" font-family=\"Times,serif\" font-size=\"14.00\" text-anchor=\"middle\" x=\"49\" y=\"-8.3\">Dense</text>\n<polyline fill=\"none\" points=\"81,-.5 81,-46.5 \" stroke=\"#000000\"/>\n<text fill=\"#000000\" font-family=\"Times,serif\" font-size=\"14.00\" text-anchor=\"middle\" x=\"110\" y=\"-31.3\">input:</text>\n<polyline fill=\"none\" points=\"81,-23.5 139,-23.5 \" stroke=\"#000000\"/>\n<text fill=\"#000000\" font-family=\"Times,serif\" font-size=\"14.00\" text-anchor=\"middle\" x=\"110\" y=\"-8.3\">output:</text>\n<polyline fill=\"none\" points=\"139,-.5 139,-46.5 \" stroke=\"#000000\"/>\n<text fill=\"#000000\" font-family=\"Times,serif\" font-size=\"14.00\" text-anchor=\"middle\" x=\"179\" y=\"-19.8\">(None, 32)</text>\n<polyline fill=\"none\" points=\"219,-.5 219,-46.5 \" stroke=\"#000000\"/>\n<text fill=\"#000000\" font-family=\"Times,serif\" font-size=\"14.00\" text-anchor=\"middle\" x=\"259\" y=\"-19.8\">(None, 10)</text>\n</g>\n<!-- 139783335077968&#45;&gt;139783334868112 -->\n<g class=\"edge\" id=\"edge3\">\n<title>139783335077968-&gt;139783334868112</title>\n<path d=\"M158,-83.3799C158,-75.1745 158,-65.7679 158,-56.8786\" fill=\"none\" stroke=\"#000000\"/>\n<polygon fill=\"#000000\" points=\"161.5001,-56.784 158,-46.784 154.5001,-56.784 161.5001,-56.784\" stroke=\"#000000\"/>\n</g>\n</g>\n</svg>"
          },
          "metadata": {},
          "execution_count": 3
        }
      ],
      "source": [
        "model.summary()\n",
        "\n",
        "from IPython.display import SVG\n",
        "from keras.utils.vis_utils import model_to_dot\n",
        "\n",
        "SVG(model_to_dot(model,show_shapes=True).create(prog='dot', format='svg'))"
      ]
    },
    {
      "cell_type": "markdown",
      "metadata": {
        "id": "E0hNZD6Rc-yh"
      },
      "source": [
        "The only part that may seem a bit magical at this point is instantiating a Model object using only an input tensor and an output tensor. Behind the scenes, Keras retrieves every layer involved in going from input_tensor to output_tensor, bringing them together into a graph-like data structure—a Model. Of course, the reason it works is that output_tensor was obtained by repeatedly transforming input_tensor.\n",
        "\n",
        "If you tried to build a model from inputs and outputs that weren’t related, you’d get a RuntimeError:"
      ]
    },
    {
      "cell_type": "code",
      "execution_count": null,
      "metadata": {
        "colab": {
          "base_uri": "https://localhost:8080/",
          "height": 363
        },
        "id": "I62fYCmCdCUX",
        "outputId": "11cb3bea-d356-4480-83d6-f8cc1a2388d8"
      },
      "outputs": [
        {
          "ename": "ValueError",
          "evalue": "ignored",
          "output_type": "error",
          "traceback": [
            "\u001b[0;31m---------------------------------------------------------------------------\u001b[0m",
            "\u001b[0;31mValueError\u001b[0m                                Traceback (most recent call last)",
            "\u001b[0;32m<ipython-input-4-b18fa274e6fe>\u001b[0m in \u001b[0;36m<module>\u001b[0;34m()\u001b[0m\n\u001b[1;32m      1\u001b[0m \u001b[0munrelated_input\u001b[0m \u001b[0;34m=\u001b[0m \u001b[0mInput\u001b[0m\u001b[0;34m(\u001b[0m\u001b[0mshape\u001b[0m\u001b[0;34m=\u001b[0m\u001b[0;34m(\u001b[0m\u001b[0;36m32\u001b[0m\u001b[0;34m,\u001b[0m\u001b[0;34m)\u001b[0m\u001b[0;34m)\u001b[0m\u001b[0;34m\u001b[0m\u001b[0;34m\u001b[0m\u001b[0m\n\u001b[0;32m----> 2\u001b[0;31m \u001b[0mbad_model\u001b[0m \u001b[0;34m=\u001b[0m \u001b[0mModel\u001b[0m\u001b[0;34m(\u001b[0m\u001b[0munrelated_input\u001b[0m\u001b[0;34m,\u001b[0m \u001b[0moutput_tensor\u001b[0m\u001b[0;34m)\u001b[0m\u001b[0;34m\u001b[0m\u001b[0;34m\u001b[0m\u001b[0m\n\u001b[0m",
            "\u001b[0;32m/usr/local/lib/python3.7/dist-packages/tensorflow/python/training/tracking/base.py\u001b[0m in \u001b[0;36m_method_wrapper\u001b[0;34m(self, *args, **kwargs)\u001b[0m\n\u001b[1;32m    627\u001b[0m     \u001b[0mself\u001b[0m\u001b[0;34m.\u001b[0m\u001b[0m_self_setattr_tracking\u001b[0m \u001b[0;34m=\u001b[0m \u001b[0;32mFalse\u001b[0m  \u001b[0;31m# pylint: disable=protected-access\u001b[0m\u001b[0;34m\u001b[0m\u001b[0;34m\u001b[0m\u001b[0m\n\u001b[1;32m    628\u001b[0m     \u001b[0;32mtry\u001b[0m\u001b[0;34m:\u001b[0m\u001b[0;34m\u001b[0m\u001b[0;34m\u001b[0m\u001b[0m\n\u001b[0;32m--> 629\u001b[0;31m       \u001b[0mresult\u001b[0m \u001b[0;34m=\u001b[0m \u001b[0mmethod\u001b[0m\u001b[0;34m(\u001b[0m\u001b[0mself\u001b[0m\u001b[0;34m,\u001b[0m \u001b[0;34m*\u001b[0m\u001b[0margs\u001b[0m\u001b[0;34m,\u001b[0m \u001b[0;34m**\u001b[0m\u001b[0mkwargs\u001b[0m\u001b[0;34m)\u001b[0m\u001b[0;34m\u001b[0m\u001b[0;34m\u001b[0m\u001b[0m\n\u001b[0m\u001b[1;32m    630\u001b[0m     \u001b[0;32mfinally\u001b[0m\u001b[0;34m:\u001b[0m\u001b[0;34m\u001b[0m\u001b[0;34m\u001b[0m\u001b[0m\n\u001b[1;32m    631\u001b[0m       \u001b[0mself\u001b[0m\u001b[0;34m.\u001b[0m\u001b[0m_self_setattr_tracking\u001b[0m \u001b[0;34m=\u001b[0m \u001b[0mprevious_value\u001b[0m  \u001b[0;31m# pylint: disable=protected-access\u001b[0m\u001b[0;34m\u001b[0m\u001b[0;34m\u001b[0m\u001b[0m\n",
            "\u001b[0;32m/usr/local/lib/python3.7/dist-packages/keras/engine/functional.py\u001b[0m in \u001b[0;36m__init__\u001b[0;34m(self, inputs, outputs, name, trainable, **kwargs)\u001b[0m\n\u001b[1;32m    144\u001b[0m                   for t in tf.nest.flatten(inputs)]):\n\u001b[1;32m    145\u001b[0m         \u001b[0minputs\u001b[0m\u001b[0;34m,\u001b[0m \u001b[0moutputs\u001b[0m \u001b[0;34m=\u001b[0m \u001b[0mfunctional_utils\u001b[0m\u001b[0;34m.\u001b[0m\u001b[0mclone_graph_nodes\u001b[0m\u001b[0;34m(\u001b[0m\u001b[0minputs\u001b[0m\u001b[0;34m,\u001b[0m \u001b[0moutputs\u001b[0m\u001b[0;34m)\u001b[0m\u001b[0;34m\u001b[0m\u001b[0;34m\u001b[0m\u001b[0m\n\u001b[0;32m--> 146\u001b[0;31m     \u001b[0mself\u001b[0m\u001b[0;34m.\u001b[0m\u001b[0m_init_graph_network\u001b[0m\u001b[0;34m(\u001b[0m\u001b[0minputs\u001b[0m\u001b[0;34m,\u001b[0m \u001b[0moutputs\u001b[0m\u001b[0;34m)\u001b[0m\u001b[0;34m\u001b[0m\u001b[0;34m\u001b[0m\u001b[0m\n\u001b[0m\u001b[1;32m    147\u001b[0m \u001b[0;34m\u001b[0m\u001b[0m\n\u001b[1;32m    148\u001b[0m   \u001b[0;34m@\u001b[0m\u001b[0mtf\u001b[0m\u001b[0;34m.\u001b[0m\u001b[0m__internal__\u001b[0m\u001b[0;34m.\u001b[0m\u001b[0mtracking\u001b[0m\u001b[0;34m.\u001b[0m\u001b[0mno_automatic_dependency_tracking\u001b[0m\u001b[0;34m\u001b[0m\u001b[0;34m\u001b[0m\u001b[0m\n",
            "\u001b[0;32m/usr/local/lib/python3.7/dist-packages/tensorflow/python/training/tracking/base.py\u001b[0m in \u001b[0;36m_method_wrapper\u001b[0;34m(self, *args, **kwargs)\u001b[0m\n\u001b[1;32m    627\u001b[0m     \u001b[0mself\u001b[0m\u001b[0;34m.\u001b[0m\u001b[0m_self_setattr_tracking\u001b[0m \u001b[0;34m=\u001b[0m \u001b[0;32mFalse\u001b[0m  \u001b[0;31m# pylint: disable=protected-access\u001b[0m\u001b[0;34m\u001b[0m\u001b[0;34m\u001b[0m\u001b[0m\n\u001b[1;32m    628\u001b[0m     \u001b[0;32mtry\u001b[0m\u001b[0;34m:\u001b[0m\u001b[0;34m\u001b[0m\u001b[0;34m\u001b[0m\u001b[0m\n\u001b[0;32m--> 629\u001b[0;31m       \u001b[0mresult\u001b[0m \u001b[0;34m=\u001b[0m \u001b[0mmethod\u001b[0m\u001b[0;34m(\u001b[0m\u001b[0mself\u001b[0m\u001b[0;34m,\u001b[0m \u001b[0;34m*\u001b[0m\u001b[0margs\u001b[0m\u001b[0;34m,\u001b[0m \u001b[0;34m**\u001b[0m\u001b[0mkwargs\u001b[0m\u001b[0;34m)\u001b[0m\u001b[0;34m\u001b[0m\u001b[0;34m\u001b[0m\u001b[0m\n\u001b[0m\u001b[1;32m    630\u001b[0m     \u001b[0;32mfinally\u001b[0m\u001b[0;34m:\u001b[0m\u001b[0;34m\u001b[0m\u001b[0;34m\u001b[0m\u001b[0m\n\u001b[1;32m    631\u001b[0m       \u001b[0mself\u001b[0m\u001b[0;34m.\u001b[0m\u001b[0m_self_setattr_tracking\u001b[0m \u001b[0;34m=\u001b[0m \u001b[0mprevious_value\u001b[0m  \u001b[0;31m# pylint: disable=protected-access\u001b[0m\u001b[0;34m\u001b[0m\u001b[0;34m\u001b[0m\u001b[0m\n",
            "\u001b[0;32m/usr/local/lib/python3.7/dist-packages/keras/engine/functional.py\u001b[0m in \u001b[0;36m_init_graph_network\u001b[0;34m(self, inputs, outputs)\u001b[0m\n\u001b[1;32m    228\u001b[0m     \u001b[0;31m# Keep track of the network's nodes and layers.\u001b[0m\u001b[0;34m\u001b[0m\u001b[0;34m\u001b[0m\u001b[0;34m\u001b[0m\u001b[0m\n\u001b[1;32m    229\u001b[0m     nodes, nodes_by_depth, layers, _ = _map_graph_network(\n\u001b[0;32m--> 230\u001b[0;31m         self.inputs, self.outputs)\n\u001b[0m\u001b[1;32m    231\u001b[0m     \u001b[0mself\u001b[0m\u001b[0;34m.\u001b[0m\u001b[0m_network_nodes\u001b[0m \u001b[0;34m=\u001b[0m \u001b[0mnodes\u001b[0m\u001b[0;34m\u001b[0m\u001b[0;34m\u001b[0m\u001b[0m\n\u001b[1;32m    232\u001b[0m     \u001b[0mself\u001b[0m\u001b[0;34m.\u001b[0m\u001b[0m_nodes_by_depth\u001b[0m \u001b[0;34m=\u001b[0m \u001b[0mnodes_by_depth\u001b[0m\u001b[0;34m\u001b[0m\u001b[0;34m\u001b[0m\u001b[0m\n",
            "\u001b[0;32m/usr/local/lib/python3.7/dist-packages/keras/engine/functional.py\u001b[0m in \u001b[0;36m_map_graph_network\u001b[0;34m(inputs, outputs)\u001b[0m\n\u001b[1;32m   1035\u001b[0m           \u001b[0;32mif\u001b[0m \u001b[0mid\u001b[0m\u001b[0;34m(\u001b[0m\u001b[0mx\u001b[0m\u001b[0;34m)\u001b[0m \u001b[0;32mnot\u001b[0m \u001b[0;32min\u001b[0m \u001b[0mcomputable_tensors\u001b[0m\u001b[0;34m:\u001b[0m\u001b[0;34m\u001b[0m\u001b[0;34m\u001b[0m\u001b[0m\n\u001b[1;32m   1036\u001b[0m             raise ValueError(\n\u001b[0;32m-> 1037\u001b[0;31m                 \u001b[0;34mf'Graph disconnected: cannot obtain value for tensor {x} '\u001b[0m\u001b[0;34m\u001b[0m\u001b[0;34m\u001b[0m\u001b[0m\n\u001b[0m\u001b[1;32m   1038\u001b[0m                 \u001b[0;34mf'at layer \"{layer.name}\". The following previous layers '\u001b[0m\u001b[0;34m\u001b[0m\u001b[0;34m\u001b[0m\u001b[0m\n\u001b[1;32m   1039\u001b[0m                 f'were accessed without issue: {layers_with_complete_input}')\n",
            "\u001b[0;31mValueError\u001b[0m: Graph disconnected: cannot obtain value for tensor KerasTensor(type_spec=TensorSpec(shape=(None, 64), dtype=tf.float32, name='input_1'), name='input_1', description=\"created by layer 'input_1'\") at layer \"dense_3\". The following previous layers were accessed without issue: []"
          ]
        }
      ],
      "source": [
        "unrelated_input = Input(shape=(32,))\n",
        "bad_model = Model(unrelated_input, output_tensor)"
      ]
    },
    {
      "cell_type": "markdown",
      "metadata": {
        "id": "qg1j14hKdGAl"
      },
      "source": [
        "This error tells you, in essence, that Keras couldn’t reach input_2 from the provided output tensor.\n",
        "\n",
        "When it comes to compiling, training, or evaluating such an instance of Model, the API is the same as that of Sequential:"
      ]
    },
    {
      "cell_type": "code",
      "execution_count": 4,
      "metadata": {
        "colab": {
          "base_uri": "https://localhost:8080/"
        },
        "id": "u5FupD20dJrt",
        "outputId": "170a7673-8083-4eb3-854b-829ca658f8d1"
      },
      "outputs": [
        {
          "output_type": "stream",
          "name": "stdout",
          "text": [
            "Epoch 1/10\n",
            "8/8 [==============================] - 1s 3ms/step - loss: 11.8454\n",
            "Epoch 2/10\n",
            "8/8 [==============================] - 0s 3ms/step - loss: 12.3725\n",
            "Epoch 3/10\n",
            "8/8 [==============================] - 0s 2ms/step - loss: 13.7189\n",
            "Epoch 4/10\n",
            "8/8 [==============================] - 0s 2ms/step - loss: 16.0193\n",
            "Epoch 5/10\n",
            "8/8 [==============================] - 0s 3ms/step - loss: 19.0910\n",
            "Epoch 6/10\n",
            "8/8 [==============================] - 0s 3ms/step - loss: 22.6516\n",
            "Epoch 7/10\n",
            "8/8 [==============================] - 0s 2ms/step - loss: 26.3857\n",
            "Epoch 8/10\n",
            "8/8 [==============================] - 0s 2ms/step - loss: 30.3779\n",
            "Epoch 9/10\n",
            "8/8 [==============================] - 0s 3ms/step - loss: 34.4106\n",
            "Epoch 10/10\n",
            "8/8 [==============================] - 0s 3ms/step - loss: 39.0080\n",
            "32/32 [==============================] - 0s 1ms/step - loss: 42.2649\n"
          ]
        }
      ],
      "source": [
        "model.compile(optimizer='rmsprop', loss='categorical_crossentropy')\n",
        "\n",
        "import numpy as np\n",
        "x_train = np.random.random((1000, 64))\n",
        "y_train = np.random.random((1000, 10)) \n",
        "\n",
        "model.fit(x_train, y_train, epochs=10, batch_size=128)\n",
        "\n",
        "score = model.evaluate(x_train, y_train)"
      ]
    },
    {
      "cell_type": "markdown",
      "metadata": {
        "id": "XM3rqgVldNIV"
      },
      "source": [
        "**Multi-input models**\n",
        "\n",
        "**A question-answering model example**\n",
        "\n",
        "Following is an example of how you can build such a model with the functional API. You set up two independent branches, encoding the text input and the question input as representation vectors; then, concatenate these vectors; and finally, add a softmax classifier on top of the concatenated representations."
      ]
    },
    {
      "cell_type": "code",
      "execution_count": 5,
      "metadata": {
        "id": "fr1BEl5ZdWHV"
      },
      "outputs": [],
      "source": [
        "from keras.models import Model\n",
        "from keras import layers\n",
        "from keras import Input\n",
        "\n",
        "text_vocabulary_size = 10000\n",
        "question_vocabulary_size = 10000\n",
        "answer_vocabulary_size = 500\n",
        "\n",
        "# The text input is a variable-length sequence of integers. \n",
        "# Note that you can optionally name the inputs.\n",
        "text_input = Input(shape=(None,), dtype='int32', name='text')\n",
        "\n",
        "# Embeds the inputs into a sequence of vectors of size 64\n",
        "# embedded_text = layers.Embedding(64, text_vocabulary_size)(text_input)\n",
        "# embedded_text = layers.Embedding(output_dim=64, input_dim=text_vocabulary_size)(text_input)\n",
        "embedded_text = layers.Embedding(text_vocabulary_size,64)(text_input)\n",
        "\n",
        "# Encodes the vectors in a single vector via an LSTM\n",
        "encoded_text = layers.LSTM(32)(embedded_text)\n",
        "\n",
        "\n",
        "# Same process (with different layer instances) for the question\n",
        "question_input = Input(shape=(None,),dtype='int32',name='question')\n",
        "\n",
        "# embedded_question = layers.Embedding(32, question_vocabulary_size)(question_input)\n",
        "# embedded_question = layers.Embedding(output_dim=32, input_dim=question_vocabulary_size)(question_input)\n",
        "embedded_question = layers.Embedding(question_vocabulary_size,32)(question_input)\n",
        "\n",
        "encoded_question = layers.LSTM(16)(embedded_question) \n",
        "\n",
        "# Concatenates the encoded question and encoded text\n",
        "concatenated = layers.concatenate([encoded_text, encoded_question],axis=-1)\n",
        "\n",
        "# Adds a softmax classifier on top\n",
        "answer = layers.Dense(answer_vocabulary_size, activation='softmax')(concatenated)\n",
        "\n",
        "# At model instantiation, you specify the two inputs and the output.\n",
        "model = Model([text_input, question_input], answer)\n",
        "model.compile(optimizer='rmsprop',loss='categorical_crossentropy',metrics=['acc'])"
      ]
    },
    {
      "cell_type": "code",
      "execution_count": 6,
      "metadata": {
        "colab": {
          "base_uri": "https://localhost:8080/",
          "height": 1000
        },
        "id": "JsO_IbFMdaOM",
        "outputId": "50c852eb-1eb5-48f2-c6c2-d3d403d6bcf2"
      },
      "outputs": [
        {
          "output_type": "stream",
          "name": "stdout",
          "text": [
            "Model: \"model_1\"\n",
            "__________________________________________________________________________________________________\n",
            " Layer (type)                   Output Shape         Param #     Connected to                     \n",
            "==================================================================================================\n",
            " text (InputLayer)              [(None, None)]       0           []                               \n",
            "                                                                                                  \n",
            " question (InputLayer)          [(None, None)]       0           []                               \n",
            "                                                                                                  \n",
            " embedding (Embedding)          (None, None, 64)     640000      ['text[0][0]']                   \n",
            "                                                                                                  \n",
            " embedding_1 (Embedding)        (None, None, 32)     320000      ['question[0][0]']               \n",
            "                                                                                                  \n",
            " lstm (LSTM)                    (None, 32)           12416       ['embedding[0][0]']              \n",
            "                                                                                                  \n",
            " lstm_1 (LSTM)                  (None, 16)           3136        ['embedding_1[0][0]']            \n",
            "                                                                                                  \n",
            " concatenate (Concatenate)      (None, 48)           0           ['lstm[0][0]',                   \n",
            "                                                                  'lstm_1[0][0]']                 \n",
            "                                                                                                  \n",
            " dense_6 (Dense)                (None, 500)          24500       ['concatenate[0][0]']            \n",
            "                                                                                                  \n",
            "==================================================================================================\n",
            "Total params: 1,000,052\n",
            "Trainable params: 1,000,052\n",
            "Non-trainable params: 0\n",
            "__________________________________________________________________________________________________\n"
          ]
        },
        {
          "output_type": "execute_result",
          "data": {
            "text/plain": [
              "<IPython.core.display.SVG object>"
            ],
            "image/svg+xml": "<svg height=\"516pt\" viewBox=\"0.00 0.00 752.00 387.00\" width=\"1003pt\" xmlns=\"http://www.w3.org/2000/svg\" xmlns:xlink=\"http://www.w3.org/1999/xlink\">\n<g class=\"graph\" id=\"graph0\" transform=\"scale(1.3333 1.3333) rotate(0) translate(4 383)\">\n<title>G</title>\n<polygon fill=\"#ffffff\" points=\"-4,4 -4,-383 748,-383 748,4 -4,4\" stroke=\"transparent\"/>\n<!-- 139785586653712 -->\n<g class=\"node\" id=\"node1\">\n<title>139785586653712</title>\n<polygon fill=\"none\" points=\"4.5,-332.5 4.5,-378.5 352.5,-378.5 352.5,-332.5 4.5,-332.5\" stroke=\"#000000\"/>\n<text fill=\"#000000\" font-family=\"Times,serif\" font-size=\"14.00\" text-anchor=\"middle\" x=\"44.5\" y=\"-363.3\">text</text>\n<polyline fill=\"none\" points=\"4.5,-355.5 84.5,-355.5 \" stroke=\"#000000\"/>\n<text fill=\"#000000\" font-family=\"Times,serif\" font-size=\"14.00\" text-anchor=\"middle\" x=\"44.5\" y=\"-340.3\">InputLayer</text>\n<polyline fill=\"none\" points=\"84.5,-332.5 84.5,-378.5 \" stroke=\"#000000\"/>\n<text fill=\"#000000\" font-family=\"Times,serif\" font-size=\"14.00\" text-anchor=\"middle\" x=\"113.5\" y=\"-363.3\">input:</text>\n<polyline fill=\"none\" points=\"84.5,-355.5 142.5,-355.5 \" stroke=\"#000000\"/>\n<text fill=\"#000000\" font-family=\"Times,serif\" font-size=\"14.00\" text-anchor=\"middle\" x=\"113.5\" y=\"-340.3\">output:</text>\n<polyline fill=\"none\" points=\"142.5,-332.5 142.5,-378.5 \" stroke=\"#000000\"/>\n<text fill=\"#000000\" font-family=\"Times,serif\" font-size=\"14.00\" text-anchor=\"middle\" x=\"195\" y=\"-351.8\">[(None, None)]</text>\n<polyline fill=\"none\" points=\"247.5,-332.5 247.5,-378.5 \" stroke=\"#000000\"/>\n<text fill=\"#000000\" font-family=\"Times,serif\" font-size=\"14.00\" text-anchor=\"middle\" x=\"300\" y=\"-351.8\">[(None, None)]</text>\n</g>\n<!-- 139785586653776 -->\n<g class=\"node\" id=\"node3\">\n<title>139785586653776</title>\n<polygon fill=\"none\" points=\"0,-249.5 0,-295.5 357,-295.5 357,-249.5 0,-249.5\" stroke=\"#000000\"/>\n<text fill=\"#000000\" font-family=\"Times,serif\" font-size=\"14.00\" text-anchor=\"middle\" x=\"42\" y=\"-280.3\">embedding</text>\n<polyline fill=\"none\" points=\"0,-272.5 84,-272.5 \" stroke=\"#000000\"/>\n<text fill=\"#000000\" font-family=\"Times,serif\" font-size=\"14.00\" text-anchor=\"middle\" x=\"42\" y=\"-257.3\">Embedding</text>\n<polyline fill=\"none\" points=\"84,-249.5 84,-295.5 \" stroke=\"#000000\"/>\n<text fill=\"#000000\" font-family=\"Times,serif\" font-size=\"14.00\" text-anchor=\"middle\" x=\"113\" y=\"-280.3\">input:</text>\n<polyline fill=\"none\" points=\"84,-272.5 142,-272.5 \" stroke=\"#000000\"/>\n<text fill=\"#000000\" font-family=\"Times,serif\" font-size=\"14.00\" text-anchor=\"middle\" x=\"113\" y=\"-257.3\">output:</text>\n<polyline fill=\"none\" points=\"142,-249.5 142,-295.5 \" stroke=\"#000000\"/>\n<text fill=\"#000000\" font-family=\"Times,serif\" font-size=\"14.00\" text-anchor=\"middle\" x=\"190\" y=\"-268.8\">(None, None)</text>\n<polyline fill=\"none\" points=\"238,-249.5 238,-295.5 \" stroke=\"#000000\"/>\n<text fill=\"#000000\" font-family=\"Times,serif\" font-size=\"14.00\" text-anchor=\"middle\" x=\"297.5\" y=\"-268.8\">(None, None, 64)</text>\n</g>\n<!-- 139785586653712&#45;&gt;139785586653776 -->\n<g class=\"edge\" id=\"edge1\">\n<title>139785586653712-&gt;139785586653776</title>\n<path d=\"M178.5,-332.3799C178.5,-324.1745 178.5,-314.7679 178.5,-305.8786\" fill=\"none\" stroke=\"#000000\"/>\n<polygon fill=\"#000000\" points=\"182.0001,-305.784 178.5,-295.784 175.0001,-305.784 182.0001,-305.784\" stroke=\"#000000\"/>\n</g>\n<!-- 139783333549904 -->\n<g class=\"node\" id=\"node2\">\n<title>139783333549904</title>\n<polygon fill=\"none\" points=\"385.5,-332.5 385.5,-378.5 733.5,-378.5 733.5,-332.5 385.5,-332.5\" stroke=\"#000000\"/>\n<text fill=\"#000000\" font-family=\"Times,serif\" font-size=\"14.00\" text-anchor=\"middle\" x=\"425.5\" y=\"-363.3\">question</text>\n<polyline fill=\"none\" points=\"385.5,-355.5 465.5,-355.5 \" stroke=\"#000000\"/>\n<text fill=\"#000000\" font-family=\"Times,serif\" font-size=\"14.00\" text-anchor=\"middle\" x=\"425.5\" y=\"-340.3\">InputLayer</text>\n<polyline fill=\"none\" points=\"465.5,-332.5 465.5,-378.5 \" stroke=\"#000000\"/>\n<text fill=\"#000000\" font-family=\"Times,serif\" font-size=\"14.00\" text-anchor=\"middle\" x=\"494.5\" y=\"-363.3\">input:</text>\n<polyline fill=\"none\" points=\"465.5,-355.5 523.5,-355.5 \" stroke=\"#000000\"/>\n<text fill=\"#000000\" font-family=\"Times,serif\" font-size=\"14.00\" text-anchor=\"middle\" x=\"494.5\" y=\"-340.3\">output:</text>\n<polyline fill=\"none\" points=\"523.5,-332.5 523.5,-378.5 \" stroke=\"#000000\"/>\n<text fill=\"#000000\" font-family=\"Times,serif\" font-size=\"14.00\" text-anchor=\"middle\" x=\"576\" y=\"-351.8\">[(None, None)]</text>\n<polyline fill=\"none\" points=\"628.5,-332.5 628.5,-378.5 \" stroke=\"#000000\"/>\n<text fill=\"#000000\" font-family=\"Times,serif\" font-size=\"14.00\" text-anchor=\"middle\" x=\"681\" y=\"-351.8\">[(None, None)]</text>\n</g>\n<!-- 139783334645840 -->\n<g class=\"node\" id=\"node4\">\n<title>139783334645840</title>\n<polygon fill=\"none\" points=\"375,-249.5 375,-295.5 744,-295.5 744,-249.5 375,-249.5\" stroke=\"#000000\"/>\n<text fill=\"#000000\" font-family=\"Times,serif\" font-size=\"14.00\" text-anchor=\"middle\" x=\"423\" y=\"-280.3\">embedding_1</text>\n<polyline fill=\"none\" points=\"375,-272.5 471,-272.5 \" stroke=\"#000000\"/>\n<text fill=\"#000000\" font-family=\"Times,serif\" font-size=\"14.00\" text-anchor=\"middle\" x=\"423\" y=\"-257.3\">Embedding</text>\n<polyline fill=\"none\" points=\"471,-249.5 471,-295.5 \" stroke=\"#000000\"/>\n<text fill=\"#000000\" font-family=\"Times,serif\" font-size=\"14.00\" text-anchor=\"middle\" x=\"500\" y=\"-280.3\">input:</text>\n<polyline fill=\"none\" points=\"471,-272.5 529,-272.5 \" stroke=\"#000000\"/>\n<text fill=\"#000000\" font-family=\"Times,serif\" font-size=\"14.00\" text-anchor=\"middle\" x=\"500\" y=\"-257.3\">output:</text>\n<polyline fill=\"none\" points=\"529,-249.5 529,-295.5 \" stroke=\"#000000\"/>\n<text fill=\"#000000\" font-family=\"Times,serif\" font-size=\"14.00\" text-anchor=\"middle\" x=\"577\" y=\"-268.8\">(None, None)</text>\n<polyline fill=\"none\" points=\"625,-249.5 625,-295.5 \" stroke=\"#000000\"/>\n<text fill=\"#000000\" font-family=\"Times,serif\" font-size=\"14.00\" text-anchor=\"middle\" x=\"684.5\" y=\"-268.8\">(None, None, 32)</text>\n</g>\n<!-- 139783333549904&#45;&gt;139783334645840 -->\n<g class=\"edge\" id=\"edge2\">\n<title>139783333549904-&gt;139783334645840</title>\n<path d=\"M559.5,-332.3799C559.5,-324.1745 559.5,-314.7679 559.5,-305.8786\" fill=\"none\" stroke=\"#000000\"/>\n<polygon fill=\"#000000\" points=\"563.0001,-305.784 559.5,-295.784 556.0001,-305.784 563.0001,-305.784\" stroke=\"#000000\"/>\n</g>\n<!-- 139783316286800 -->\n<g class=\"node\" id=\"node5\">\n<title>139783316286800</title>\n<polygon fill=\"none\" points=\"47,-166.5 47,-212.5 360,-212.5 360,-166.5 47,-166.5\" stroke=\"#000000\"/>\n<text fill=\"#000000\" font-family=\"Times,serif\" font-size=\"14.00\" text-anchor=\"middle\" x=\"75\" y=\"-197.3\">lstm</text>\n<polyline fill=\"none\" points=\"47,-189.5 103,-189.5 \" stroke=\"#000000\"/>\n<text fill=\"#000000\" font-family=\"Times,serif\" font-size=\"14.00\" text-anchor=\"middle\" x=\"75\" y=\"-174.3\">LSTM</text>\n<polyline fill=\"none\" points=\"103,-166.5 103,-212.5 \" stroke=\"#000000\"/>\n<text fill=\"#000000\" font-family=\"Times,serif\" font-size=\"14.00\" text-anchor=\"middle\" x=\"132\" y=\"-197.3\">input:</text>\n<polyline fill=\"none\" points=\"103,-189.5 161,-189.5 \" stroke=\"#000000\"/>\n<text fill=\"#000000\" font-family=\"Times,serif\" font-size=\"14.00\" text-anchor=\"middle\" x=\"132\" y=\"-174.3\">output:</text>\n<polyline fill=\"none\" points=\"161,-166.5 161,-212.5 \" stroke=\"#000000\"/>\n<text fill=\"#000000\" font-family=\"Times,serif\" font-size=\"14.00\" text-anchor=\"middle\" x=\"220.5\" y=\"-185.8\">(None, None, 64)</text>\n<polyline fill=\"none\" points=\"280,-166.5 280,-212.5 \" stroke=\"#000000\"/>\n<text fill=\"#000000\" font-family=\"Times,serif\" font-size=\"14.00\" text-anchor=\"middle\" x=\"320\" y=\"-185.8\">(None, 32)</text>\n</g>\n<!-- 139785586653776&#45;&gt;139783316286800 -->\n<g class=\"edge\" id=\"edge3\">\n<title>139785586653776-&gt;139783316286800</title>\n<path d=\"M185.4639,-249.3799C187.9622,-241.0854 190.8303,-231.5633 193.5335,-222.5889\" fill=\"none\" stroke=\"#000000\"/>\n<polygon fill=\"#000000\" points=\"196.9539,-223.3685 196.4867,-212.784 190.2513,-221.3496 196.9539,-223.3685\" stroke=\"#000000\"/>\n</g>\n<!-- 139783314666384 -->\n<g class=\"node\" id=\"node6\">\n<title>139783314666384</title>\n<polygon fill=\"none\" points=\"390,-166.5 390,-212.5 703,-212.5 703,-166.5 390,-166.5\" stroke=\"#000000\"/>\n<text fill=\"#000000\" font-family=\"Times,serif\" font-size=\"14.00\" text-anchor=\"middle\" x=\"418\" y=\"-197.3\">lstm_1</text>\n<polyline fill=\"none\" points=\"390,-189.5 446,-189.5 \" stroke=\"#000000\"/>\n<text fill=\"#000000\" font-family=\"Times,serif\" font-size=\"14.00\" text-anchor=\"middle\" x=\"418\" y=\"-174.3\">LSTM</text>\n<polyline fill=\"none\" points=\"446,-166.5 446,-212.5 \" stroke=\"#000000\"/>\n<text fill=\"#000000\" font-family=\"Times,serif\" font-size=\"14.00\" text-anchor=\"middle\" x=\"475\" y=\"-197.3\">input:</text>\n<polyline fill=\"none\" points=\"446,-189.5 504,-189.5 \" stroke=\"#000000\"/>\n<text fill=\"#000000\" font-family=\"Times,serif\" font-size=\"14.00\" text-anchor=\"middle\" x=\"475\" y=\"-174.3\">output:</text>\n<polyline fill=\"none\" points=\"504,-166.5 504,-212.5 \" stroke=\"#000000\"/>\n<text fill=\"#000000\" font-family=\"Times,serif\" font-size=\"14.00\" text-anchor=\"middle\" x=\"563.5\" y=\"-185.8\">(None, None, 32)</text>\n<polyline fill=\"none\" points=\"623,-166.5 623,-212.5 \" stroke=\"#000000\"/>\n<text fill=\"#000000\" font-family=\"Times,serif\" font-size=\"14.00\" text-anchor=\"middle\" x=\"663\" y=\"-185.8\">(None, 16)</text>\n</g>\n<!-- 139783334645840&#45;&gt;139783314666384 -->\n<g class=\"edge\" id=\"edge4\">\n<title>139783334645840-&gt;139783314666384</title>\n<path d=\"M555.8788,-249.3799C554.5936,-241.1745 553.1203,-231.7679 551.728,-222.8786\" fill=\"none\" stroke=\"#000000\"/>\n<polygon fill=\"#000000\" points=\"555.1522,-222.1219 550.1469,-212.784 548.2365,-223.2052 555.1522,-222.1219\" stroke=\"#000000\"/>\n</g>\n<!-- 139785585401680 -->\n<g class=\"node\" id=\"node7\">\n<title>139785585401680</title>\n<polygon fill=\"none\" points=\"177,-83.5 177,-129.5 560,-129.5 560,-83.5 177,-83.5\" stroke=\"#000000\"/>\n<text fill=\"#000000\" font-family=\"Times,serif\" font-size=\"14.00\" text-anchor=\"middle\" x=\"220\" y=\"-114.3\">concatenate</text>\n<polyline fill=\"none\" points=\"177,-106.5 263,-106.5 \" stroke=\"#000000\"/>\n<text fill=\"#000000\" font-family=\"Times,serif\" font-size=\"14.00\" text-anchor=\"middle\" x=\"220\" y=\"-91.3\">Concatenate</text>\n<polyline fill=\"none\" points=\"263,-83.5 263,-129.5 \" stroke=\"#000000\"/>\n<text fill=\"#000000\" font-family=\"Times,serif\" font-size=\"14.00\" text-anchor=\"middle\" x=\"292\" y=\"-114.3\">input:</text>\n<polyline fill=\"none\" points=\"263,-106.5 321,-106.5 \" stroke=\"#000000\"/>\n<text fill=\"#000000\" font-family=\"Times,serif\" font-size=\"14.00\" text-anchor=\"middle\" x=\"292\" y=\"-91.3\">output:</text>\n<polyline fill=\"none\" points=\"321,-83.5 321,-129.5 \" stroke=\"#000000\"/>\n<text fill=\"#000000\" font-family=\"Times,serif\" font-size=\"14.00\" text-anchor=\"middle\" x=\"400.5\" y=\"-102.8\">[(None, 32), (None, 16)]</text>\n<polyline fill=\"none\" points=\"480,-83.5 480,-129.5 \" stroke=\"#000000\"/>\n<text fill=\"#000000\" font-family=\"Times,serif\" font-size=\"14.00\" text-anchor=\"middle\" x=\"520\" y=\"-102.8\">(None, 48)</text>\n</g>\n<!-- 139783316286800&#45;&gt;139785585401680 -->\n<g class=\"edge\" id=\"edge5\">\n<title>139783316286800-&gt;139785585401680</title>\n<path d=\"M249.4617,-166.3799C269.314,-156.3936 292.7036,-144.6279 313.4713,-134.1811\" fill=\"none\" stroke=\"#000000\"/>\n<polygon fill=\"#000000\" points=\"315.1383,-137.2605 322.4989,-129.6399 311.9926,-131.0071 315.1383,-137.2605\" stroke=\"#000000\"/>\n</g>\n<!-- 139783314666384&#45;&gt;139785585401680 -->\n<g class=\"edge\" id=\"edge6\">\n<title>139783314666384-&gt;139785585401680</title>\n<path d=\"M496.9171,-166.3799C475.3086,-156.304 449.8154,-144.4167 427.2622,-133.9003\" fill=\"none\" stroke=\"#000000\"/>\n<polygon fill=\"#000000\" points=\"428.6677,-130.694 418.1254,-129.6399 425.7094,-137.0382 428.6677,-130.694\" stroke=\"#000000\"/>\n</g>\n<!-- 139785585298960 -->\n<g class=\"node\" id=\"node8\">\n<title>139785585298960</title>\n<polygon fill=\"none\" points=\"224,-.5 224,-46.5 513,-46.5 513,-.5 224,-.5\" stroke=\"#000000\"/>\n<text fill=\"#000000\" font-family=\"Times,serif\" font-size=\"14.00\" text-anchor=\"middle\" x=\"256\" y=\"-31.3\">dense_6</text>\n<polyline fill=\"none\" points=\"224,-23.5 288,-23.5 \" stroke=\"#000000\"/>\n<text fill=\"#000000\" font-family=\"Times,serif\" font-size=\"14.00\" text-anchor=\"middle\" x=\"256\" y=\"-8.3\">Dense</text>\n<polyline fill=\"none\" points=\"288,-.5 288,-46.5 \" stroke=\"#000000\"/>\n<text fill=\"#000000\" font-family=\"Times,serif\" font-size=\"14.00\" text-anchor=\"middle\" x=\"317\" y=\"-31.3\">input:</text>\n<polyline fill=\"none\" points=\"288,-23.5 346,-23.5 \" stroke=\"#000000\"/>\n<text fill=\"#000000\" font-family=\"Times,serif\" font-size=\"14.00\" text-anchor=\"middle\" x=\"317\" y=\"-8.3\">output:</text>\n<polyline fill=\"none\" points=\"346,-.5 346,-46.5 \" stroke=\"#000000\"/>\n<text fill=\"#000000\" font-family=\"Times,serif\" font-size=\"14.00\" text-anchor=\"middle\" x=\"386\" y=\"-19.8\">(None, 48)</text>\n<polyline fill=\"none\" points=\"426,-.5 426,-46.5 \" stroke=\"#000000\"/>\n<text fill=\"#000000\" font-family=\"Times,serif\" font-size=\"14.00\" text-anchor=\"middle\" x=\"469.5\" y=\"-19.8\">(None, 500)</text>\n</g>\n<!-- 139785585401680&#45;&gt;139785585298960 -->\n<g class=\"edge\" id=\"edge7\">\n<title>139785585401680-&gt;139785585298960</title>\n<path d=\"M368.5,-83.3799C368.5,-75.1745 368.5,-65.7679 368.5,-56.8786\" fill=\"none\" stroke=\"#000000\"/>\n<polygon fill=\"#000000\" points=\"372.0001,-56.784 368.5,-46.784 365.0001,-56.784 372.0001,-56.784\" stroke=\"#000000\"/>\n</g>\n</g>\n</svg>"
          },
          "metadata": {},
          "execution_count": 6
        }
      ],
      "source": [
        "model.summary()\n",
        "\n",
        "from IPython.display import SVG\n",
        "from keras.utils.vis_utils import model_to_dot\n",
        "\n",
        "SVG(model_to_dot(model,show_shapes=True).create(prog='dot', format='svg'))"
      ]
    },
    {
      "cell_type": "markdown",
      "metadata": {
        "id": "KPfDmg3JdgD3"
      },
      "source": [
        "\n",
        "Now, how do you train this two-input model?\n",
        "\n",
        "There are two possible APIs:\n",
        "\n",
        "you can feed the model a list of Numpy arrays as inputs\n",
        "you can feed it a dictionary that maps input names to Numpy arrays.\n",
        "Naturally, the latter option is available only if you give names to your inputs.\n",
        "\n",
        "**Training the multi-input model**"
      ]
    },
    {
      "cell_type": "code",
      "execution_count": 7,
      "metadata": {
        "colab": {
          "base_uri": "https://localhost:8080/"
        },
        "id": "91g9mqyDdpYv",
        "outputId": "38b7a6ec-7494-4af8-8f23-ee6e85fd1ad8"
      },
      "outputs": [
        {
          "output_type": "stream",
          "name": "stdout",
          "text": [
            "---------- First training run with list of NumPy arrays ------------------------------------------------------------\n",
            "Epoch 1/10\n",
            "8/8 [==============================] - 5s 122ms/step - loss: 6.2144 - acc: 0.0010\n",
            "Epoch 2/10\n",
            "8/8 [==============================] - 1s 123ms/step - loss: 6.1970 - acc: 0.0440\n",
            "Epoch 3/10\n",
            "8/8 [==============================] - 1s 120ms/step - loss: 6.1464 - acc: 0.0100\n",
            "Epoch 4/10\n",
            "8/8 [==============================] - 1s 124ms/step - loss: 6.0577 - acc: 0.0050\n",
            "Epoch 5/10\n",
            "8/8 [==============================] - 1s 122ms/step - loss: 5.9873 - acc: 0.0060\n",
            "Epoch 6/10\n",
            "8/8 [==============================] - 1s 121ms/step - loss: 5.9004 - acc: 0.0100\n",
            "Epoch 7/10\n",
            "8/8 [==============================] - 1s 120ms/step - loss: 5.7878 - acc: 0.0080\n",
            "Epoch 8/10\n",
            "8/8 [==============================] - 1s 121ms/step - loss: 5.7034 - acc: 0.0110\n",
            "Epoch 9/10\n",
            "8/8 [==============================] - 1s 116ms/step - loss: 5.6343 - acc: 0.0120\n",
            "Epoch 10/10\n",
            "8/8 [==============================] - 1s 120ms/step - loss: 5.5548 - acc: 0.0290\n",
            "\n",
            "---------- Second training run with dictionary and named inputs ------------------------------------------------------------\n",
            "Epoch 1/10\n",
            "8/8 [==============================] - 3s 121ms/step - loss: 5.4856 - acc: 0.0370\n",
            "Epoch 2/10\n",
            "8/8 [==============================] - 1s 120ms/step - loss: 5.4122 - acc: 0.0460\n",
            "Epoch 3/10\n",
            "8/8 [==============================] - 1s 126ms/step - loss: 5.3522 - acc: 0.0490\n",
            "Epoch 4/10\n",
            "8/8 [==============================] - 1s 123ms/step - loss: 5.2902 - acc: 0.0580\n",
            "Epoch 5/10\n",
            "8/8 [==============================] - 1s 120ms/step - loss: 5.2171 - acc: 0.0650\n",
            "Epoch 6/10\n",
            "8/8 [==============================] - 1s 119ms/step - loss: 5.1560 - acc: 0.0800\n",
            "Epoch 7/10\n",
            "8/8 [==============================] - 1s 119ms/step - loss: 5.0997 - acc: 0.0830\n",
            "Epoch 8/10\n",
            "8/8 [==============================] - 1s 121ms/step - loss: 5.0515 - acc: 0.0960\n",
            "Epoch 9/10\n",
            "8/8 [==============================] - 1s 120ms/step - loss: 4.9856 - acc: 0.1210\n",
            "Epoch 10/10\n",
            "8/8 [==============================] - 1s 120ms/step - loss: 4.9184 - acc: 0.1300\n"
          ]
        },
        {
          "output_type": "execute_result",
          "data": {
            "text/plain": [
              "<keras.callbacks.History at 0x7f21d5880910>"
            ]
          },
          "metadata": {},
          "execution_count": 7
        }
      ],
      "source": [
        "import numpy as np\n",
        "from tensorflow.keras.utils import to_categorical\n",
        "from keras.utils import np_utils\n",
        "num_samples = 1000 \n",
        "max_length = 100\n",
        "\n",
        "# Generates dummy Numpy data\n",
        "text = np.random.randint(1, text_vocabulary_size,size=(num_samples, max_length))\n",
        "question = np.random.randint(1, question_vocabulary_size,size=(num_samples, max_length)) \n",
        "\n",
        "# Answers are one-hot encoded, not integers\n",
        "# answers = np.random.randint(0, 1,size=(num_samples, answer_vocabulary_size))\n",
        "answers = np.random.randint(answer_vocabulary_size, size=(num_samples))\n",
        "answers = keras.utils.np_utils.to_categorical(answers, answer_vocabulary_size)\n",
        "\n",
        "# Fitting using a list of inputs\n",
        "print('-'*10,\"First training run with list of NumPy arrays\",'-'*60)\n",
        "\n",
        "model.fit([text, question], answers, epochs=10, batch_size=128)\n",
        "\n",
        "print()\n",
        "\n",
        "# Fitting using a dictionary of inputs (only if inputs are named)\n",
        "print('-'*10,\"Second training run with dictionary and named inputs\",'-'*60)\n",
        "\n",
        "model.fit({'text': text, 'question': question}, answers,epochs=10, batch_size=128)"
      ]
    },
    {
      "cell_type": "markdown",
      "metadata": {
        "id": "Tpc2LEG1dvYl"
      },
      "source": [
        "**Multi-output models**\n",
        "\n",
        "You can also use the functional API to build models with multiple outputs (or multiple heads).\n",
        "\n",
        "Example - prediction of Age, Gender and Income from social media posts **bold text**\n",
        "\n",
        "A simple example is a network that attempts to simultaneously predict different properties of the data, such as a network that takes as input a series of social media posts from a single anonymous person and tries to predict attributes of that person, such as age, gender, and income level."
      ]
    },
    {
      "cell_type": "code",
      "execution_count": 8,
      "metadata": {
        "colab": {
          "base_uri": "https://localhost:8080/"
        },
        "id": "ebqkrptddttN",
        "outputId": "3347b307-2a13-421f-c319-eef833327b9c"
      },
      "outputs": [
        {
          "output_type": "stream",
          "name": "stdout",
          "text": [
            "Model is ready!\n"
          ]
        }
      ],
      "source": [
        "from keras import layers\n",
        "from keras import Input \n",
        "from keras.models import Model \n",
        "\n",
        "vocabulary_size = 50000 \n",
        "num_income_groups = 10 \n",
        "\n",
        "posts_input = Input(shape=(None,), dtype='int32', name='posts')\n",
        "\n",
        "#embedded_posts = layers.Embedding(256, vocabulary_size)(posts_input) \n",
        "embedded_posts = layers.Embedding(vocabulary_size,256)(posts_input)\n",
        "\n",
        "x = layers.Conv1D(128, 5, activation='relu', padding='same')(embedded_posts)\n",
        "x = layers.MaxPooling1D(5)(x)\n",
        "x = layers.Conv1D(256, 5, activation='relu', padding='same')(x)\n",
        "x = layers.Conv1D(256, 5, activation='relu', padding='same')(x)\n",
        "x = layers.MaxPooling1D(5)(x)\n",
        "x = layers.Conv1D(256, 5, activation='relu', padding='same')(x)\n",
        "x = layers.Conv1D(256, 5, activation='relu', padding='same')(x) \n",
        "x = layers.GlobalMaxPooling1D()(x)\n",
        "x = layers.Dense(128, activation='relu')(x) \n",
        "\n",
        "# Note that the output layers are given names.\n",
        "\n",
        "age_prediction = layers.Dense(1, name='age')(x)\n",
        "\n",
        "income_prediction = layers.Dense(num_income_groups, activation='softmax',name='income')(x)\n",
        "\n",
        "gender_prediction = layers.Dense(1, activation='sigmoid', name='gender')(x)\n",
        "\n",
        "model = Model(posts_input,[age_prediction, income_prediction, gender_prediction])\n",
        "\n",
        "print(\"Model is ready!\")"
      ]
    },
    {
      "cell_type": "markdown",
      "metadata": {
        "id": "HR3hJKVmd6-k"
      },
      "source": [
        "**Compilation options of a multi-output model: multiple losses**"
      ]
    },
    {
      "cell_type": "code",
      "execution_count": 9,
      "metadata": {
        "id": "sL5ZrShTd9jG"
      },
      "outputs": [],
      "source": [
        "model.compile(optimizer='rmsprop', loss=['mse', 'categorical_crossentropy', 'binary_crossentropy'])\n",
        "\n",
        "# Equivalent (possible only if you give names to the output layers)\n",
        "model.compile(optimizer='rmsprop',loss={'age': 'mse',\n",
        "                                        'income': 'categorical_crossentropy',\n",
        "                                        'gender': 'binary_crossentropy'})"
      ]
    },
    {
      "cell_type": "code",
      "execution_count": 10,
      "metadata": {
        "id": "CZwh1tlKeAD8"
      },
      "outputs": [],
      "source": [
        "model.compile(optimizer='rmsprop',\n",
        "              loss=['mse', 'categorical_crossentropy', 'binary_crossentropy'],\n",
        "              loss_weights=[0.25, 1., 10.]) \n",
        "\n",
        "# Equivalent (possible only if you give names to the output layers)\n",
        "model.compile(optimizer='rmsprop',\n",
        "              loss={'age': 'mse','income': 'categorical_crossentropy','gender': 'binary_crossentropy'},\n",
        "              loss_weights={'age': 0.25,\n",
        "                            'income': 1.,\n",
        "                            'gender': 10.})"
      ]
    },
    {
      "cell_type": "code",
      "execution_count": 11,
      "metadata": {
        "colab": {
          "base_uri": "https://localhost:8080/",
          "height": 1000
        },
        "id": "hPWEz1OReCnT",
        "outputId": "a4f15689-8bd5-4ba7-f8d1-202f8e43eab8"
      },
      "outputs": [
        {
          "output_type": "stream",
          "name": "stdout",
          "text": [
            "Model: \"model_2\"\n",
            "__________________________________________________________________________________________________\n",
            " Layer (type)                   Output Shape         Param #     Connected to                     \n",
            "==================================================================================================\n",
            " posts (InputLayer)             [(None, None)]       0           []                               \n",
            "                                                                                                  \n",
            " embedding_2 (Embedding)        (None, None, 256)    12800000    ['posts[0][0]']                  \n",
            "                                                                                                  \n",
            " conv1d (Conv1D)                (None, None, 128)    163968      ['embedding_2[0][0]']            \n",
            "                                                                                                  \n",
            " max_pooling1d (MaxPooling1D)   (None, None, 128)    0           ['conv1d[0][0]']                 \n",
            "                                                                                                  \n",
            " conv1d_1 (Conv1D)              (None, None, 256)    164096      ['max_pooling1d[0][0]']          \n",
            "                                                                                                  \n",
            " conv1d_2 (Conv1D)              (None, None, 256)    327936      ['conv1d_1[0][0]']               \n",
            "                                                                                                  \n",
            " max_pooling1d_1 (MaxPooling1D)  (None, None, 256)   0           ['conv1d_2[0][0]']               \n",
            "                                                                                                  \n",
            " conv1d_3 (Conv1D)              (None, None, 256)    327936      ['max_pooling1d_1[0][0]']        \n",
            "                                                                                                  \n",
            " conv1d_4 (Conv1D)              (None, None, 256)    327936      ['conv1d_3[0][0]']               \n",
            "                                                                                                  \n",
            " global_max_pooling1d (GlobalMa  (None, 256)         0           ['conv1d_4[0][0]']               \n",
            " xPooling1D)                                                                                      \n",
            "                                                                                                  \n",
            " dense_7 (Dense)                (None, 128)          32896       ['global_max_pooling1d[0][0]']   \n",
            "                                                                                                  \n",
            " age (Dense)                    (None, 1)            129         ['dense_7[0][0]']                \n",
            "                                                                                                  \n",
            " income (Dense)                 (None, 10)           1290        ['dense_7[0][0]']                \n",
            "                                                                                                  \n",
            " gender (Dense)                 (None, 1)            129         ['dense_7[0][0]']                \n",
            "                                                                                                  \n",
            "==================================================================================================\n",
            "Total params: 14,146,316\n",
            "Trainable params: 14,146,316\n",
            "Non-trainable params: 0\n",
            "__________________________________________________________________________________________________\n"
          ]
        },
        {
          "output_type": "execute_result",
          "data": {
            "text/plain": [
              "<IPython.core.display.SVG object>"
            ],
            "image/svg+xml": "<svg height=\"1291pt\" viewBox=\"0.00 0.00 871.00 968.00\" width=\"1161pt\" xmlns=\"http://www.w3.org/2000/svg\" xmlns:xlink=\"http://www.w3.org/1999/xlink\">\n<g class=\"graph\" id=\"graph0\" transform=\"scale(1.3333 1.3333) rotate(0) translate(4 964)\">\n<title>G</title>\n<polygon fill=\"#ffffff\" points=\"-4,4 -4,-964 867,-964 867,4 -4,4\" stroke=\"transparent\"/>\n<!-- 139783274622352 -->\n<g class=\"node\" id=\"node1\">\n<title>139783274622352</title>\n<polygon fill=\"none\" points=\"255.5,-913.5 255.5,-959.5 603.5,-959.5 603.5,-913.5 255.5,-913.5\" stroke=\"#000000\"/>\n<text fill=\"#000000\" font-family=\"Times,serif\" font-size=\"14.00\" text-anchor=\"middle\" x=\"295.5\" y=\"-944.3\">posts</text>\n<polyline fill=\"none\" points=\"255.5,-936.5 335.5,-936.5 \" stroke=\"#000000\"/>\n<text fill=\"#000000\" font-family=\"Times,serif\" font-size=\"14.00\" text-anchor=\"middle\" x=\"295.5\" y=\"-921.3\">InputLayer</text>\n<polyline fill=\"none\" points=\"335.5,-913.5 335.5,-959.5 \" stroke=\"#000000\"/>\n<text fill=\"#000000\" font-family=\"Times,serif\" font-size=\"14.00\" text-anchor=\"middle\" x=\"364.5\" y=\"-944.3\">input:</text>\n<polyline fill=\"none\" points=\"335.5,-936.5 393.5,-936.5 \" stroke=\"#000000\"/>\n<text fill=\"#000000\" font-family=\"Times,serif\" font-size=\"14.00\" text-anchor=\"middle\" x=\"364.5\" y=\"-921.3\">output:</text>\n<polyline fill=\"none\" points=\"393.5,-913.5 393.5,-959.5 \" stroke=\"#000000\"/>\n<text fill=\"#000000\" font-family=\"Times,serif\" font-size=\"14.00\" text-anchor=\"middle\" x=\"446\" y=\"-932.8\">[(None, None)]</text>\n<polyline fill=\"none\" points=\"498.5,-913.5 498.5,-959.5 \" stroke=\"#000000\"/>\n<text fill=\"#000000\" font-family=\"Times,serif\" font-size=\"14.00\" text-anchor=\"middle\" x=\"551\" y=\"-932.8\">[(None, None)]</text>\n</g>\n<!-- 139783274622608 -->\n<g class=\"node\" id=\"node2\">\n<title>139783274622608</title>\n<polygon fill=\"none\" points=\"241.5,-830.5 241.5,-876.5 617.5,-876.5 617.5,-830.5 241.5,-830.5\" stroke=\"#000000\"/>\n<text fill=\"#000000\" font-family=\"Times,serif\" font-size=\"14.00\" text-anchor=\"middle\" x=\"289.5\" y=\"-861.3\">embedding_2</text>\n<polyline fill=\"none\" points=\"241.5,-853.5 337.5,-853.5 \" stroke=\"#000000\"/>\n<text fill=\"#000000\" font-family=\"Times,serif\" font-size=\"14.00\" text-anchor=\"middle\" x=\"289.5\" y=\"-838.3\">Embedding</text>\n<polyline fill=\"none\" points=\"337.5,-830.5 337.5,-876.5 \" stroke=\"#000000\"/>\n<text fill=\"#000000\" font-family=\"Times,serif\" font-size=\"14.00\" text-anchor=\"middle\" x=\"366.5\" y=\"-861.3\">input:</text>\n<polyline fill=\"none\" points=\"337.5,-853.5 395.5,-853.5 \" stroke=\"#000000\"/>\n<text fill=\"#000000\" font-family=\"Times,serif\" font-size=\"14.00\" text-anchor=\"middle\" x=\"366.5\" y=\"-838.3\">output:</text>\n<polyline fill=\"none\" points=\"395.5,-830.5 395.5,-876.5 \" stroke=\"#000000\"/>\n<text fill=\"#000000\" font-family=\"Times,serif\" font-size=\"14.00\" text-anchor=\"middle\" x=\"443.5\" y=\"-849.8\">(None, None)</text>\n<polyline fill=\"none\" points=\"491.5,-830.5 491.5,-876.5 \" stroke=\"#000000\"/>\n<text fill=\"#000000\" font-family=\"Times,serif\" font-size=\"14.00\" text-anchor=\"middle\" x=\"554.5\" y=\"-849.8\">(None, None, 256)</text>\n</g>\n<!-- 139783274622352&#45;&gt;139783274622608 -->\n<g class=\"edge\" id=\"edge1\">\n<title>139783274622352-&gt;139783274622608</title>\n<path d=\"M429.5,-913.3799C429.5,-905.1745 429.5,-895.7679 429.5,-886.8786\" fill=\"none\" stroke=\"#000000\"/>\n<polygon fill=\"#000000\" points=\"433.0001,-886.784 429.5,-876.784 426.0001,-886.784 433.0001,-886.784\" stroke=\"#000000\"/>\n</g>\n<!-- 139783274622864 -->\n<g class=\"node\" id=\"node3\">\n<title>139783274622864</title>\n<polygon fill=\"none\" points=\"241,-747.5 241,-793.5 618,-793.5 618,-747.5 241,-747.5\" stroke=\"#000000\"/>\n<text fill=\"#000000\" font-family=\"Times,serif\" font-size=\"14.00\" text-anchor=\"middle\" x=\"274.5\" y=\"-778.3\">conv1d</text>\n<polyline fill=\"none\" points=\"241,-770.5 308,-770.5 \" stroke=\"#000000\"/>\n<text fill=\"#000000\" font-family=\"Times,serif\" font-size=\"14.00\" text-anchor=\"middle\" x=\"274.5\" y=\"-755.3\">Conv1D</text>\n<polyline fill=\"none\" points=\"308,-747.5 308,-793.5 \" stroke=\"#000000\"/>\n<text fill=\"#000000\" font-family=\"Times,serif\" font-size=\"14.00\" text-anchor=\"middle\" x=\"337\" y=\"-778.3\">input:</text>\n<polyline fill=\"none\" points=\"308,-770.5 366,-770.5 \" stroke=\"#000000\"/>\n<text fill=\"#000000\" font-family=\"Times,serif\" font-size=\"14.00\" text-anchor=\"middle\" x=\"337\" y=\"-755.3\">output:</text>\n<polyline fill=\"none\" points=\"366,-747.5 366,-793.5 \" stroke=\"#000000\"/>\n<text fill=\"#000000\" font-family=\"Times,serif\" font-size=\"14.00\" text-anchor=\"middle\" x=\"429\" y=\"-766.8\">(None, None, 256)</text>\n<polyline fill=\"none\" points=\"492,-747.5 492,-793.5 \" stroke=\"#000000\"/>\n<text fill=\"#000000\" font-family=\"Times,serif\" font-size=\"14.00\" text-anchor=\"middle\" x=\"555\" y=\"-766.8\">(None, None, 128)</text>\n</g>\n<!-- 139783274622608&#45;&gt;139783274622864 -->\n<g class=\"edge\" id=\"edge2\">\n<title>139783274622608-&gt;139783274622864</title>\n<path d=\"M429.5,-830.3799C429.5,-822.1745 429.5,-812.7679 429.5,-803.8786\" fill=\"none\" stroke=\"#000000\"/>\n<polygon fill=\"#000000\" points=\"433.0001,-803.784 429.5,-793.784 426.0001,-803.784 433.0001,-803.784\" stroke=\"#000000\"/>\n</g>\n<!-- 139785584608912 -->\n<g class=\"node\" id=\"node4\">\n<title>139785584608912</title>\n<polygon fill=\"none\" points=\"220,-664.5 220,-710.5 639,-710.5 639,-664.5 220,-664.5\" stroke=\"#000000\"/>\n<text fill=\"#000000\" font-family=\"Times,serif\" font-size=\"14.00\" text-anchor=\"middle\" x=\"274.5\" y=\"-695.3\">max_pooling1d</text>\n<polyline fill=\"none\" points=\"220,-687.5 329,-687.5 \" stroke=\"#000000\"/>\n<text fill=\"#000000\" font-family=\"Times,serif\" font-size=\"14.00\" text-anchor=\"middle\" x=\"274.5\" y=\"-672.3\">MaxPooling1D</text>\n<polyline fill=\"none\" points=\"329,-664.5 329,-710.5 \" stroke=\"#000000\"/>\n<text fill=\"#000000\" font-family=\"Times,serif\" font-size=\"14.00\" text-anchor=\"middle\" x=\"358\" y=\"-695.3\">input:</text>\n<polyline fill=\"none\" points=\"329,-687.5 387,-687.5 \" stroke=\"#000000\"/>\n<text fill=\"#000000\" font-family=\"Times,serif\" font-size=\"14.00\" text-anchor=\"middle\" x=\"358\" y=\"-672.3\">output:</text>\n<polyline fill=\"none\" points=\"387,-664.5 387,-710.5 \" stroke=\"#000000\"/>\n<text fill=\"#000000\" font-family=\"Times,serif\" font-size=\"14.00\" text-anchor=\"middle\" x=\"450\" y=\"-683.8\">(None, None, 128)</text>\n<polyline fill=\"none\" points=\"513,-664.5 513,-710.5 \" stroke=\"#000000\"/>\n<text fill=\"#000000\" font-family=\"Times,serif\" font-size=\"14.00\" text-anchor=\"middle\" x=\"576\" y=\"-683.8\">(None, None, 128)</text>\n</g>\n<!-- 139783274622864&#45;&gt;139785584608912 -->\n<g class=\"edge\" id=\"edge3\">\n<title>139783274622864-&gt;139785584608912</title>\n<path d=\"M429.5,-747.3799C429.5,-739.1745 429.5,-729.7679 429.5,-720.8786\" fill=\"none\" stroke=\"#000000\"/>\n<polygon fill=\"#000000\" points=\"433.0001,-720.784 429.5,-710.784 426.0001,-720.784 433.0001,-720.784\" stroke=\"#000000\"/>\n</g>\n<!-- 139783274711184 -->\n<g class=\"node\" id=\"node5\">\n<title>139783274711184</title>\n<polygon fill=\"none\" points=\"237,-581.5 237,-627.5 622,-627.5 622,-581.5 237,-581.5\" stroke=\"#000000\"/>\n<text fill=\"#000000\" font-family=\"Times,serif\" font-size=\"14.00\" text-anchor=\"middle\" x=\"274.5\" y=\"-612.3\">conv1d_1</text>\n<polyline fill=\"none\" points=\"237,-604.5 312,-604.5 \" stroke=\"#000000\"/>\n<text fill=\"#000000\" font-family=\"Times,serif\" font-size=\"14.00\" text-anchor=\"middle\" x=\"274.5\" y=\"-589.3\">Conv1D</text>\n<polyline fill=\"none\" points=\"312,-581.5 312,-627.5 \" stroke=\"#000000\"/>\n<text fill=\"#000000\" font-family=\"Times,serif\" font-size=\"14.00\" text-anchor=\"middle\" x=\"341\" y=\"-612.3\">input:</text>\n<polyline fill=\"none\" points=\"312,-604.5 370,-604.5 \" stroke=\"#000000\"/>\n<text fill=\"#000000\" font-family=\"Times,serif\" font-size=\"14.00\" text-anchor=\"middle\" x=\"341\" y=\"-589.3\">output:</text>\n<polyline fill=\"none\" points=\"370,-581.5 370,-627.5 \" stroke=\"#000000\"/>\n<text fill=\"#000000\" font-family=\"Times,serif\" font-size=\"14.00\" text-anchor=\"middle\" x=\"433\" y=\"-600.8\">(None, None, 128)</text>\n<polyline fill=\"none\" points=\"496,-581.5 496,-627.5 \" stroke=\"#000000\"/>\n<text fill=\"#000000\" font-family=\"Times,serif\" font-size=\"14.00\" text-anchor=\"middle\" x=\"559\" y=\"-600.8\">(None, None, 256)</text>\n</g>\n<!-- 139785584608912&#45;&gt;139783274711184 -->\n<g class=\"edge\" id=\"edge4\">\n<title>139785584608912-&gt;139783274711184</title>\n<path d=\"M429.5,-664.3799C429.5,-656.1745 429.5,-646.7679 429.5,-637.8786\" fill=\"none\" stroke=\"#000000\"/>\n<polygon fill=\"#000000\" points=\"433.0001,-637.784 429.5,-627.784 426.0001,-637.784 433.0001,-637.784\" stroke=\"#000000\"/>\n</g>\n<!-- 139783274655632 -->\n<g class=\"node\" id=\"node6\">\n<title>139783274655632</title>\n<polygon fill=\"none\" points=\"237,-498.5 237,-544.5 622,-544.5 622,-498.5 237,-498.5\" stroke=\"#000000\"/>\n<text fill=\"#000000\" font-family=\"Times,serif\" font-size=\"14.00\" text-anchor=\"middle\" x=\"274.5\" y=\"-529.3\">conv1d_2</text>\n<polyline fill=\"none\" points=\"237,-521.5 312,-521.5 \" stroke=\"#000000\"/>\n<text fill=\"#000000\" font-family=\"Times,serif\" font-size=\"14.00\" text-anchor=\"middle\" x=\"274.5\" y=\"-506.3\">Conv1D</text>\n<polyline fill=\"none\" points=\"312,-498.5 312,-544.5 \" stroke=\"#000000\"/>\n<text fill=\"#000000\" font-family=\"Times,serif\" font-size=\"14.00\" text-anchor=\"middle\" x=\"341\" y=\"-529.3\">input:</text>\n<polyline fill=\"none\" points=\"312,-521.5 370,-521.5 \" stroke=\"#000000\"/>\n<text fill=\"#000000\" font-family=\"Times,serif\" font-size=\"14.00\" text-anchor=\"middle\" x=\"341\" y=\"-506.3\">output:</text>\n<polyline fill=\"none\" points=\"370,-498.5 370,-544.5 \" stroke=\"#000000\"/>\n<text fill=\"#000000\" font-family=\"Times,serif\" font-size=\"14.00\" text-anchor=\"middle\" x=\"433\" y=\"-517.8\">(None, None, 256)</text>\n<polyline fill=\"none\" points=\"496,-498.5 496,-544.5 \" stroke=\"#000000\"/>\n<text fill=\"#000000\" font-family=\"Times,serif\" font-size=\"14.00\" text-anchor=\"middle\" x=\"559\" y=\"-517.8\">(None, None, 256)</text>\n</g>\n<!-- 139783274711184&#45;&gt;139783274655632 -->\n<g class=\"edge\" id=\"edge5\">\n<title>139783274711184-&gt;139783274655632</title>\n<path d=\"M429.5,-581.3799C429.5,-573.1745 429.5,-563.7679 429.5,-554.8786\" fill=\"none\" stroke=\"#000000\"/>\n<polygon fill=\"#000000\" points=\"433.0001,-554.784 429.5,-544.784 426.0001,-554.784 433.0001,-554.784\" stroke=\"#000000\"/>\n</g>\n<!-- 139783274645584 -->\n<g class=\"node\" id=\"node7\">\n<title>139783274645584</title>\n<polygon fill=\"none\" points=\"212.5,-415.5 212.5,-461.5 646.5,-461.5 646.5,-415.5 212.5,-415.5\" stroke=\"#000000\"/>\n<text fill=\"#000000\" font-family=\"Times,serif\" font-size=\"14.00\" text-anchor=\"middle\" x=\"274.5\" y=\"-446.3\">max_pooling1d_1</text>\n<polyline fill=\"none\" points=\"212.5,-438.5 336.5,-438.5 \" stroke=\"#000000\"/>\n<text fill=\"#000000\" font-family=\"Times,serif\" font-size=\"14.00\" text-anchor=\"middle\" x=\"274.5\" y=\"-423.3\">MaxPooling1D</text>\n<polyline fill=\"none\" points=\"336.5,-415.5 336.5,-461.5 \" stroke=\"#000000\"/>\n<text fill=\"#000000\" font-family=\"Times,serif\" font-size=\"14.00\" text-anchor=\"middle\" x=\"365.5\" y=\"-446.3\">input:</text>\n<polyline fill=\"none\" points=\"336.5,-438.5 394.5,-438.5 \" stroke=\"#000000\"/>\n<text fill=\"#000000\" font-family=\"Times,serif\" font-size=\"14.00\" text-anchor=\"middle\" x=\"365.5\" y=\"-423.3\">output:</text>\n<polyline fill=\"none\" points=\"394.5,-415.5 394.5,-461.5 \" stroke=\"#000000\"/>\n<text fill=\"#000000\" font-family=\"Times,serif\" font-size=\"14.00\" text-anchor=\"middle\" x=\"457.5\" y=\"-434.8\">(None, None, 256)</text>\n<polyline fill=\"none\" points=\"520.5,-415.5 520.5,-461.5 \" stroke=\"#000000\"/>\n<text fill=\"#000000\" font-family=\"Times,serif\" font-size=\"14.00\" text-anchor=\"middle\" x=\"583.5\" y=\"-434.8\">(None, None, 256)</text>\n</g>\n<!-- 139783274655632&#45;&gt;139783274645584 -->\n<g class=\"edge\" id=\"edge6\">\n<title>139783274655632-&gt;139783274645584</title>\n<path d=\"M429.5,-498.3799C429.5,-490.1745 429.5,-480.7679 429.5,-471.8786\" fill=\"none\" stroke=\"#000000\"/>\n<polygon fill=\"#000000\" points=\"433.0001,-471.784 429.5,-461.784 426.0001,-471.784 433.0001,-471.784\" stroke=\"#000000\"/>\n</g>\n<!-- 139785586573584 -->\n<g class=\"node\" id=\"node8\">\n<title>139785586573584</title>\n<polygon fill=\"none\" points=\"237,-332.5 237,-378.5 622,-378.5 622,-332.5 237,-332.5\" stroke=\"#000000\"/>\n<text fill=\"#000000\" font-family=\"Times,serif\" font-size=\"14.00\" text-anchor=\"middle\" x=\"274.5\" y=\"-363.3\">conv1d_3</text>\n<polyline fill=\"none\" points=\"237,-355.5 312,-355.5 \" stroke=\"#000000\"/>\n<text fill=\"#000000\" font-family=\"Times,serif\" font-size=\"14.00\" text-anchor=\"middle\" x=\"274.5\" y=\"-340.3\">Conv1D</text>\n<polyline fill=\"none\" points=\"312,-332.5 312,-378.5 \" stroke=\"#000000\"/>\n<text fill=\"#000000\" font-family=\"Times,serif\" font-size=\"14.00\" text-anchor=\"middle\" x=\"341\" y=\"-363.3\">input:</text>\n<polyline fill=\"none\" points=\"312,-355.5 370,-355.5 \" stroke=\"#000000\"/>\n<text fill=\"#000000\" font-family=\"Times,serif\" font-size=\"14.00\" text-anchor=\"middle\" x=\"341\" y=\"-340.3\">output:</text>\n<polyline fill=\"none\" points=\"370,-332.5 370,-378.5 \" stroke=\"#000000\"/>\n<text fill=\"#000000\" font-family=\"Times,serif\" font-size=\"14.00\" text-anchor=\"middle\" x=\"433\" y=\"-351.8\">(None, None, 256)</text>\n<polyline fill=\"none\" points=\"496,-332.5 496,-378.5 \" stroke=\"#000000\"/>\n<text fill=\"#000000\" font-family=\"Times,serif\" font-size=\"14.00\" text-anchor=\"middle\" x=\"559\" y=\"-351.8\">(None, None, 256)</text>\n</g>\n<!-- 139783274645584&#45;&gt;139785586573584 -->\n<g class=\"edge\" id=\"edge7\">\n<title>139783274645584-&gt;139785586573584</title>\n<path d=\"M429.5,-415.3799C429.5,-407.1745 429.5,-397.7679 429.5,-388.8786\" fill=\"none\" stroke=\"#000000\"/>\n<polygon fill=\"#000000\" points=\"433.0001,-388.784 429.5,-378.784 426.0001,-388.784 433.0001,-388.784\" stroke=\"#000000\"/>\n</g>\n<!-- 139783305986960 -->\n<g class=\"node\" id=\"node9\">\n<title>139783305986960</title>\n<polygon fill=\"none\" points=\"237,-249.5 237,-295.5 622,-295.5 622,-249.5 237,-249.5\" stroke=\"#000000\"/>\n<text fill=\"#000000\" font-family=\"Times,serif\" font-size=\"14.00\" text-anchor=\"middle\" x=\"274.5\" y=\"-280.3\">conv1d_4</text>\n<polyline fill=\"none\" points=\"237,-272.5 312,-272.5 \" stroke=\"#000000\"/>\n<text fill=\"#000000\" font-family=\"Times,serif\" font-size=\"14.00\" text-anchor=\"middle\" x=\"274.5\" y=\"-257.3\">Conv1D</text>\n<polyline fill=\"none\" points=\"312,-249.5 312,-295.5 \" stroke=\"#000000\"/>\n<text fill=\"#000000\" font-family=\"Times,serif\" font-size=\"14.00\" text-anchor=\"middle\" x=\"341\" y=\"-280.3\">input:</text>\n<polyline fill=\"none\" points=\"312,-272.5 370,-272.5 \" stroke=\"#000000\"/>\n<text fill=\"#000000\" font-family=\"Times,serif\" font-size=\"14.00\" text-anchor=\"middle\" x=\"341\" y=\"-257.3\">output:</text>\n<polyline fill=\"none\" points=\"370,-249.5 370,-295.5 \" stroke=\"#000000\"/>\n<text fill=\"#000000\" font-family=\"Times,serif\" font-size=\"14.00\" text-anchor=\"middle\" x=\"433\" y=\"-268.8\">(None, None, 256)</text>\n<polyline fill=\"none\" points=\"496,-249.5 496,-295.5 \" stroke=\"#000000\"/>\n<text fill=\"#000000\" font-family=\"Times,serif\" font-size=\"14.00\" text-anchor=\"middle\" x=\"559\" y=\"-268.8\">(None, None, 256)</text>\n</g>\n<!-- 139785586573584&#45;&gt;139783305986960 -->\n<g class=\"edge\" id=\"edge8\">\n<title>139785586573584-&gt;139783305986960</title>\n<path d=\"M429.5,-332.3799C429.5,-324.1745 429.5,-314.7679 429.5,-305.8786\" fill=\"none\" stroke=\"#000000\"/>\n<polygon fill=\"#000000\" points=\"433.0001,-305.784 429.5,-295.784 426.0001,-305.784 433.0001,-305.784\" stroke=\"#000000\"/>\n</g>\n<!-- 139785584610768 -->\n<g class=\"node\" id=\"node10\">\n<title>139785584610768</title>\n<polygon fill=\"none\" points=\"218,-166.5 218,-212.5 641,-212.5 641,-166.5 218,-166.5\" stroke=\"#000000\"/>\n<text fill=\"#000000\" font-family=\"Times,serif\" font-size=\"14.00\" text-anchor=\"middle\" x=\"294\" y=\"-197.3\">global_max_pooling1d</text>\n<polyline fill=\"none\" points=\"218,-189.5 370,-189.5 \" stroke=\"#000000\"/>\n<text fill=\"#000000\" font-family=\"Times,serif\" font-size=\"14.00\" text-anchor=\"middle\" x=\"294\" y=\"-174.3\">GlobalMaxPooling1D</text>\n<polyline fill=\"none\" points=\"370,-166.5 370,-212.5 \" stroke=\"#000000\"/>\n<text fill=\"#000000\" font-family=\"Times,serif\" font-size=\"14.00\" text-anchor=\"middle\" x=\"399\" y=\"-197.3\">input:</text>\n<polyline fill=\"none\" points=\"370,-189.5 428,-189.5 \" stroke=\"#000000\"/>\n<text fill=\"#000000\" font-family=\"Times,serif\" font-size=\"14.00\" text-anchor=\"middle\" x=\"399\" y=\"-174.3\">output:</text>\n<polyline fill=\"none\" points=\"428,-166.5 428,-212.5 \" stroke=\"#000000\"/>\n<text fill=\"#000000\" font-family=\"Times,serif\" font-size=\"14.00\" text-anchor=\"middle\" x=\"491\" y=\"-185.8\">(None, None, 256)</text>\n<polyline fill=\"none\" points=\"554,-166.5 554,-212.5 \" stroke=\"#000000\"/>\n<text fill=\"#000000\" font-family=\"Times,serif\" font-size=\"14.00\" text-anchor=\"middle\" x=\"597.5\" y=\"-185.8\">(None, 256)</text>\n</g>\n<!-- 139783305986960&#45;&gt;139785584610768 -->\n<g class=\"edge\" id=\"edge9\">\n<title>139783305986960-&gt;139785584610768</title>\n<path d=\"M429.5,-249.3799C429.5,-241.1745 429.5,-231.7679 429.5,-222.8786\" fill=\"none\" stroke=\"#000000\"/>\n<polygon fill=\"#000000\" points=\"433.0001,-222.784 429.5,-212.784 426.0001,-222.784 433.0001,-222.784\" stroke=\"#000000\"/>\n</g>\n<!-- 139785584591376 -->\n<g class=\"node\" id=\"node11\">\n<title>139785584591376</title>\n<polygon fill=\"none\" points=\"281.5,-83.5 281.5,-129.5 577.5,-129.5 577.5,-83.5 281.5,-83.5\" stroke=\"#000000\"/>\n<text fill=\"#000000\" font-family=\"Times,serif\" font-size=\"14.00\" text-anchor=\"middle\" x=\"313.5\" y=\"-114.3\">dense_7</text>\n<polyline fill=\"none\" points=\"281.5,-106.5 345.5,-106.5 \" stroke=\"#000000\"/>\n<text fill=\"#000000\" font-family=\"Times,serif\" font-size=\"14.00\" text-anchor=\"middle\" x=\"313.5\" y=\"-91.3\">Dense</text>\n<polyline fill=\"none\" points=\"345.5,-83.5 345.5,-129.5 \" stroke=\"#000000\"/>\n<text fill=\"#000000\" font-family=\"Times,serif\" font-size=\"14.00\" text-anchor=\"middle\" x=\"374.5\" y=\"-114.3\">input:</text>\n<polyline fill=\"none\" points=\"345.5,-106.5 403.5,-106.5 \" stroke=\"#000000\"/>\n<text fill=\"#000000\" font-family=\"Times,serif\" font-size=\"14.00\" text-anchor=\"middle\" x=\"374.5\" y=\"-91.3\">output:</text>\n<polyline fill=\"none\" points=\"403.5,-83.5 403.5,-129.5 \" stroke=\"#000000\"/>\n<text fill=\"#000000\" font-family=\"Times,serif\" font-size=\"14.00\" text-anchor=\"middle\" x=\"447\" y=\"-102.8\">(None, 256)</text>\n<polyline fill=\"none\" points=\"490.5,-83.5 490.5,-129.5 \" stroke=\"#000000\"/>\n<text fill=\"#000000\" font-family=\"Times,serif\" font-size=\"14.00\" text-anchor=\"middle\" x=\"534\" y=\"-102.8\">(None, 128)</text>\n</g>\n<!-- 139785584610768&#45;&gt;139785584591376 -->\n<g class=\"edge\" id=\"edge10\">\n<title>139785584610768-&gt;139785584591376</title>\n<path d=\"M429.5,-166.3799C429.5,-158.1745 429.5,-148.7679 429.5,-139.8786\" fill=\"none\" stroke=\"#000000\"/>\n<polygon fill=\"#000000\" points=\"433.0001,-139.784 429.5,-129.784 426.0001,-139.784 433.0001,-139.784\" stroke=\"#000000\"/>\n</g>\n<!-- 139783274654032 -->\n<g class=\"node\" id=\"node12\">\n<title>139783274654032</title>\n<polygon fill=\"none\" points=\"0,-.5 0,-46.5 269,-46.5 269,-.5 0,-.5\" stroke=\"#000000\"/>\n<text fill=\"#000000\" font-family=\"Times,serif\" font-size=\"14.00\" text-anchor=\"middle\" x=\"26\" y=\"-31.3\">age</text>\n<polyline fill=\"none\" points=\"0,-23.5 52,-23.5 \" stroke=\"#000000\"/>\n<text fill=\"#000000\" font-family=\"Times,serif\" font-size=\"14.00\" text-anchor=\"middle\" x=\"26\" y=\"-8.3\">Dense</text>\n<polyline fill=\"none\" points=\"52,-.5 52,-46.5 \" stroke=\"#000000\"/>\n<text fill=\"#000000\" font-family=\"Times,serif\" font-size=\"14.00\" text-anchor=\"middle\" x=\"81\" y=\"-31.3\">input:</text>\n<polyline fill=\"none\" points=\"52,-23.5 110,-23.5 \" stroke=\"#000000\"/>\n<text fill=\"#000000\" font-family=\"Times,serif\" font-size=\"14.00\" text-anchor=\"middle\" x=\"81\" y=\"-8.3\">output:</text>\n<polyline fill=\"none\" points=\"110,-.5 110,-46.5 \" stroke=\"#000000\"/>\n<text fill=\"#000000\" font-family=\"Times,serif\" font-size=\"14.00\" text-anchor=\"middle\" x=\"153.5\" y=\"-19.8\">(None, 128)</text>\n<polyline fill=\"none\" points=\"197,-.5 197,-46.5 \" stroke=\"#000000\"/>\n<text fill=\"#000000\" font-family=\"Times,serif\" font-size=\"14.00\" text-anchor=\"middle\" x=\"233\" y=\"-19.8\">(None, 1)</text>\n</g>\n<!-- 139785584591376&#45;&gt;139783274654032 -->\n<g class=\"edge\" id=\"edge11\">\n<title>139785584591376-&gt;139783274654032</title>\n<path d=\"M347.7178,-83.4901C309.9913,-72.8755 265.055,-60.2324 226.1848,-49.2961\" fill=\"none\" stroke=\"#000000\"/>\n<polygon fill=\"#000000\" points=\"227.0155,-45.894 216.4413,-46.5547 225.1196,-52.6323 227.0155,-45.894\" stroke=\"#000000\"/>\n</g>\n<!-- 139783316419984 -->\n<g class=\"node\" id=\"node13\">\n<title>139783316419984</title>\n<polygon fill=\"none\" points=\"287.5,-.5 287.5,-46.5 571.5,-46.5 571.5,-.5 287.5,-.5\" stroke=\"#000000\"/>\n<text fill=\"#000000\" font-family=\"Times,serif\" font-size=\"14.00\" text-anchor=\"middle\" x=\"317\" y=\"-31.3\">income</text>\n<polyline fill=\"none\" points=\"287.5,-23.5 346.5,-23.5 \" stroke=\"#000000\"/>\n<text fill=\"#000000\" font-family=\"Times,serif\" font-size=\"14.00\" text-anchor=\"middle\" x=\"317\" y=\"-8.3\">Dense</text>\n<polyline fill=\"none\" points=\"346.5,-.5 346.5,-46.5 \" stroke=\"#000000\"/>\n<text fill=\"#000000\" font-family=\"Times,serif\" font-size=\"14.00\" text-anchor=\"middle\" x=\"375.5\" y=\"-31.3\">input:</text>\n<polyline fill=\"none\" points=\"346.5,-23.5 404.5,-23.5 \" stroke=\"#000000\"/>\n<text fill=\"#000000\" font-family=\"Times,serif\" font-size=\"14.00\" text-anchor=\"middle\" x=\"375.5\" y=\"-8.3\">output:</text>\n<polyline fill=\"none\" points=\"404.5,-.5 404.5,-46.5 \" stroke=\"#000000\"/>\n<text fill=\"#000000\" font-family=\"Times,serif\" font-size=\"14.00\" text-anchor=\"middle\" x=\"448\" y=\"-19.8\">(None, 128)</text>\n<polyline fill=\"none\" points=\"491.5,-.5 491.5,-46.5 \" stroke=\"#000000\"/>\n<text fill=\"#000000\" font-family=\"Times,serif\" font-size=\"14.00\" text-anchor=\"middle\" x=\"531.5\" y=\"-19.8\">(None, 10)</text>\n</g>\n<!-- 139785584591376&#45;&gt;139783316419984 -->\n<g class=\"edge\" id=\"edge12\">\n<title>139785584591376-&gt;139783316419984</title>\n<path d=\"M429.5,-83.3799C429.5,-75.1745 429.5,-65.7679 429.5,-56.8786\" fill=\"none\" stroke=\"#000000\"/>\n<polygon fill=\"#000000\" points=\"433.0001,-56.784 429.5,-46.784 426.0001,-56.784 433.0001,-56.784\" stroke=\"#000000\"/>\n</g>\n<!-- 139783306075472 -->\n<g class=\"node\" id=\"node14\">\n<title>139783306075472</title>\n<polygon fill=\"none\" points=\"590,-.5 590,-46.5 863,-46.5 863,-.5 590,-.5\" stroke=\"#000000\"/>\n<text fill=\"#000000\" font-family=\"Times,serif\" font-size=\"14.00\" text-anchor=\"middle\" x=\"618\" y=\"-31.3\">gender</text>\n<polyline fill=\"none\" points=\"590,-23.5 646,-23.5 \" stroke=\"#000000\"/>\n<text fill=\"#000000\" font-family=\"Times,serif\" font-size=\"14.00\" text-anchor=\"middle\" x=\"618\" y=\"-8.3\">Dense</text>\n<polyline fill=\"none\" points=\"646,-.5 646,-46.5 \" stroke=\"#000000\"/>\n<text fill=\"#000000\" font-family=\"Times,serif\" font-size=\"14.00\" text-anchor=\"middle\" x=\"675\" y=\"-31.3\">input:</text>\n<polyline fill=\"none\" points=\"646,-23.5 704,-23.5 \" stroke=\"#000000\"/>\n<text fill=\"#000000\" font-family=\"Times,serif\" font-size=\"14.00\" text-anchor=\"middle\" x=\"675\" y=\"-8.3\">output:</text>\n<polyline fill=\"none\" points=\"704,-.5 704,-46.5 \" stroke=\"#000000\"/>\n<text fill=\"#000000\" font-family=\"Times,serif\" font-size=\"14.00\" text-anchor=\"middle\" x=\"747.5\" y=\"-19.8\">(None, 128)</text>\n<polyline fill=\"none\" points=\"791,-.5 791,-46.5 \" stroke=\"#000000\"/>\n<text fill=\"#000000\" font-family=\"Times,serif\" font-size=\"14.00\" text-anchor=\"middle\" x=\"827\" y=\"-19.8\">(None, 1)</text>\n</g>\n<!-- 139785584591376&#45;&gt;139783306075472 -->\n<g class=\"edge\" id=\"edge13\">\n<title>139785584591376-&gt;139783306075472</title>\n<path d=\"M511.8366,-83.4901C549.8189,-72.8755 595.0599,-60.2324 634.1937,-49.2961\" fill=\"none\" stroke=\"#000000\"/>\n<polygon fill=\"#000000\" points=\"635.3142,-52.6171 644.0032,-46.5547 633.4302,-45.8754 635.3142,-52.6171\" stroke=\"#000000\"/>\n</g>\n</g>\n</svg>"
          },
          "metadata": {},
          "execution_count": 11
        }
      ],
      "source": [
        "model.summary()\n",
        "\n",
        "from IPython.display import SVG\n",
        "from keras.utils.vis_utils import model_to_dot\n",
        "\n",
        "SVG(model_to_dot(model,show_shapes=True).create(prog='dot', format='svg'))"
      ]
    },
    {
      "cell_type": "markdown",
      "metadata": {
        "id": "V1IokyPreHk0"
      },
      "source": [
        "**Feeding data to a multi-output model**\n",
        "Much as in the case of multi-input models, you can pass Numpy data to the model for training either via a list of arrays or via a dictionary of arrays.\n",
        "\n",
        "**Training a multi-output model** "
      ]
    },
    {
      "cell_type": "code",
      "execution_count": 12,
      "metadata": {
        "colab": {
          "base_uri": "https://localhost:8080/"
        },
        "id": "zUYd3zrCeRo7",
        "outputId": "fa6b6b62-52f6-4400-bdab-93deeb7a34bc"
      },
      "outputs": [
        {
          "output_type": "stream",
          "name": "stdout",
          "text": [
            "---------- First training run with NumPy arrays ------------------------------------------------------------\n",
            "Epoch 1/10\n",
            "16/16 [==============================] - 9s 456ms/step - loss: 544.4525 - age_loss: 2088.3914 - income_loss: 4.3054 - gender_loss: 1.8049\n",
            "Epoch 2/10\n",
            "16/16 [==============================] - 7s 457ms/step - loss: 154.8507 - age_loss: 579.1871 - income_loss: 2.8025 - gender_loss: 0.7251\n",
            "Epoch 3/10\n",
            "16/16 [==============================] - 7s 458ms/step - loss: 122.9687 - age_loss: 449.0422 - income_loss: 2.2934 - gender_loss: 0.8415\n",
            "Epoch 4/10\n",
            "16/16 [==============================] - 7s 454ms/step - loss: 110.0703 - age_loss: 398.7350 - income_loss: 2.2611 - gender_loss: 0.8126\n",
            "Epoch 5/10\n",
            "16/16 [==============================] - 7s 454ms/step - loss: 85.7641 - age_loss: 298.3332 - income_loss: 2.2687 - gender_loss: 0.8912\n",
            "Epoch 6/10\n",
            "16/16 [==============================] - 7s 466ms/step - loss: 104.2564 - age_loss: 376.3743 - income_loss: 2.2736 - gender_loss: 0.7889\n",
            "Epoch 7/10\n",
            "16/16 [==============================] - 7s 462ms/step - loss: 103.8434 - age_loss: 375.8829 - income_loss: 2.2869 - gender_loss: 0.7586\n",
            "Epoch 8/10\n",
            "16/16 [==============================] - 8s 499ms/step - loss: 69.3725 - age_loss: 231.9607 - income_loss: 2.2693 - gender_loss: 0.9113\n",
            "Epoch 9/10\n",
            "16/16 [==============================] - 7s 457ms/step - loss: 74.8575 - age_loss: 257.3932 - income_loss: 2.2802 - gender_loss: 0.8229\n",
            "Epoch 10/10\n",
            "16/16 [==============================] - 7s 454ms/step - loss: 79.5048 - age_loss: 277.7084 - income_loss: 2.2566 - gender_loss: 0.7821\n",
            "---------- Second training run with dictionary and named outputs ------------------------------------------------------------\n",
            "Epoch 1/10\n",
            "16/16 [==============================] - 8s 457ms/step - loss: 79.6648 - age_loss: 277.4310 - income_loss: 2.3100 - gender_loss: 0.7997\n",
            "Epoch 2/10\n",
            "16/16 [==============================] - 7s 456ms/step - loss: 69.7211 - age_loss: 240.5203 - income_loss: 2.2509 - gender_loss: 0.7340\n",
            "Epoch 3/10\n",
            "16/16 [==============================] - 7s 456ms/step - loss: 58.5877 - age_loss: 194.7182 - income_loss: 2.2631 - gender_loss: 0.7645\n",
            "Epoch 4/10\n",
            "16/16 [==============================] - 7s 459ms/step - loss: 64.3008 - age_loss: 218.9234 - income_loss: 2.2671 - gender_loss: 0.7303\n",
            "Epoch 5/10\n",
            "16/16 [==============================] - 7s 459ms/step - loss: 56.7074 - age_loss: 183.6509 - income_loss: 2.2863 - gender_loss: 0.8508\n",
            "Epoch 6/10\n",
            "16/16 [==============================] - 7s 460ms/step - loss: 56.5538 - age_loss: 183.9646 - income_loss: 2.2893 - gender_loss: 0.8273\n",
            "Epoch 7/10\n",
            "16/16 [==============================] - 7s 456ms/step - loss: 56.9132 - age_loss: 183.9283 - income_loss: 2.2966 - gender_loss: 0.8635\n",
            "Epoch 8/10\n",
            "16/16 [==============================] - 7s 459ms/step - loss: 54.0793 - age_loss: 176.6150 - income_loss: 2.2952 - gender_loss: 0.7630\n",
            "Epoch 9/10\n",
            "16/16 [==============================] - 7s 459ms/step - loss: 50.9255 - age_loss: 158.5900 - income_loss: 2.2841 - gender_loss: 0.8994\n",
            "Epoch 10/10\n",
            "16/16 [==============================] - 7s 460ms/step - loss: 51.5636 - age_loss: 166.5953 - income_loss: 2.2680 - gender_loss: 0.7647\n"
          ]
        },
        {
          "output_type": "execute_result",
          "data": {
            "text/plain": [
              "<keras.callbacks.History at 0x7f21d5fd26d0>"
            ]
          },
          "metadata": {},
          "execution_count": 12
        }
      ],
      "source": [
        "import numpy as np \n",
        "\n",
        "TRACE = False\n",
        "\n",
        "num_samples = 1000 \n",
        "max_length = 100 \n",
        "\n",
        "posts = np.random.randint(1, vocabulary_size, size=(num_samples, max_length))\n",
        "if TRACE:\n",
        "    print(\"*** POSTS ***\")\n",
        "    print(posts.shape)\n",
        "    print(posts[:10])\n",
        "    print()\n",
        "\n",
        "age_targets = np.random.randint(0, 100, size=(num_samples,1))\n",
        "if TRACE:\n",
        "    print(\"*** AGE ***\")\n",
        "    print(age_targets.shape)\n",
        "    print(age_targets[:10])\n",
        "    print()\n",
        "\n",
        "income_targets = np.random.randint(1, num_income_groups, size=(num_samples,1))\n",
        "income_targets = keras.utils.np_utils.to_categorical(income_targets,num_income_groups)\n",
        "if TRACE:\n",
        "    print(\"*** INCOME ***\")\n",
        "    print(income_targets.shape)\n",
        "    print(income_targets[:10])\n",
        "    print()\n",
        "\n",
        "gender_targets = np.random.randint(0, 2, size=(num_samples,1))\n",
        "if TRACE:\n",
        "    print(\"*** GENDER ***\")\n",
        "    print(gender_targets.shape)\n",
        "    print(gender_targets[:10])\n",
        "    print()\n",
        "\n",
        "print('-'*10, \"First training run with NumPy arrays\", '-'*60)\n",
        "\n",
        "# age_targets, income_targets, and gender_targets are assumed to be Numpy arrays.\n",
        "\n",
        "model.fit(posts, [age_targets, income_targets, gender_targets], epochs=10, batch_size=64)\n",
        "\n",
        "print('-'*10,\"Second training run with dictionary and named outputs\",'-'*60)\n",
        "\n",
        "# Equivalent (possible only if you give names to the output layers)\n",
        "\n",
        "model.fit(posts, {'age': age_targets,\n",
        "                  'income': income_targets,\n",
        "                  'gender': gender_targets},\n",
        "          epochs=10, batch_size=64)"
      ]
    },
    {
      "cell_type": "markdown",
      "metadata": {
        "id": "CPwCCpoXeVSr"
      },
      "source": [
        "**7.1.4 Directed acyclic graphs of layers**\n",
        "With the functional API, not only can you build models with multiple inputs and multiple outputs, but you can also implement networks with a complex internal topology.\n",
        "\n",
        "Neural networks in Keras are allowed to be arbitrary directed acyclic graphs of layers (the only processing loops that are allowed are those internal to recurrent layers).\n",
        "\n",
        "Several common neural-network components are implemented as graphs. Two notable ones are Inception modules and residual connections. To better understand how the functional API can be used to build graphs of layers, let’s take a look at how you can implement both of them in Keras.\n",
        "\n",
        "**Inception modules**\n",
        "Inception [3] is a popular type of network architecture for convolutional neural networks. It consists of a stack of modules that themselves look like small independent networks, split into several parallel branches.\n",
        "\n",
        "**The purpose of 1 × 1 convolutions**\n",
        "1 × 1 convolutions (also called pointwise convolutions) are featured in Inception modules, where they contribute to factoring out channel-wise feature learning and space-wise feature learning."
      ]
    },
    {
      "cell_type": "code",
      "execution_count": 13,
      "metadata": {
        "colab": {
          "base_uri": "https://localhost:8080/"
        },
        "id": "y5VKvNUfehea",
        "outputId": "9b27108c-eb50-45a3-8e08-ba723590b485"
      },
      "outputs": [
        {
          "output_type": "stream",
          "name": "stdout",
          "text": [
            "x.shape: (None, 28, 28, 1)\n"
          ]
        }
      ],
      "source": [
        "from keras import layers \n",
        "from keras.layers import Input\n",
        "\n",
        "# This example assumes the existence of a 4D input tensor x:\n",
        "# This returns a typical image tensor like those of MNIST dataset \n",
        "x = Input(shape=(28, 28, 1), dtype='float32', name='images')\n",
        "print(\"x.shape:\",x.shape)\n",
        "\n",
        "# Every branch has the same stride value (2), which is necessary to \n",
        "# keep all branch outputs the same size so you can concatenate them\n",
        "branch_a = layers.Conv2D(128, 1, padding='same', activation='relu', strides=2)(x)\n",
        "\n",
        "# In this branch, the striding occurs in the spatial convolution layer.\n",
        "branch_b = layers.Conv2D(128, 1, padding='same', activation='relu')(x)\n",
        "branch_b = layers.Conv2D(128, 3, padding='same', activation='relu', strides=2)(branch_b)\n",
        "\n",
        "# In this branch, the striding occurs in the average pooling layer.\n",
        "branch_c = layers.AveragePooling2D(3,  padding='same', strides=2)(x)\n",
        "branch_c = layers.Conv2D(128, 3, padding='same', activation='relu')(branch_c)\n",
        "\n",
        "branch_d = layers.Conv2D(128, 1, padding='same', activation='relu')(x) \n",
        "branch_d = layers.Conv2D(128, 3, padding='same', activation='relu')(branch_d)\n",
        "branch_d = layers.Conv2D(128, 3, padding='same', activation='relu', strides=2)(branch_d)\n",
        "\n",
        "# Concatenates the branch outputs to obtain the module output\n",
        "output = layers.concatenate([branch_a, branch_b, branch_c, branch_d], axis=-1)\n",
        "\n",
        "# Adding a classifier on top of the convnet\n",
        "output = layers.Flatten()(output)\n",
        "output = layers.Dense(512, activation='relu')(output)\n",
        "predictions = layers.Dense(10, activation='softmax')(output)\n",
        "\n",
        "model = keras.models.Model(inputs=x, outputs=predictions)"
      ]
    },
    {
      "cell_type": "markdown",
      "metadata": {
        "id": "2FN5oTPBen2b"
      },
      "source": [
        "**Train the Inception model using the Dataset API and the MNIST data**\n",
        "Inspired by: https://github.com/keras-team/keras/blob/master/examples/mnist_dataset_api.py"
      ]
    },
    {
      "cell_type": "code",
      "execution_count": 14,
      "metadata": {
        "colab": {
          "base_uri": "https://localhost:8080/"
        },
        "id": "AJnzOwgoevQj",
        "outputId": "1c667c8b-0037-40d1-e0b5-5c0212df4004"
      },
      "outputs": [
        {
          "output_type": "stream",
          "name": "stdout",
          "text": [
            "Downloading data from https://storage.googleapis.com/tensorflow/tf-keras-datasets/mnist.npz\n",
            "11493376/11490434 [==============================] - 0s 0us/step\n",
            "11501568/11490434 [==============================] - 0s 0us/step\n",
            "inputs.shape: (128, 28, 28, 1)\n",
            "targets.shape: (128, 10)\n",
            "x.shape: (128, 28, 28, 1)\n"
          ]
        },
        {
          "output_type": "stream",
          "name": "stderr",
          "text": [
            "/usr/local/lib/python3.7/dist-packages/keras/optimizer_v2/rmsprop.py:130: UserWarning: The `lr` argument is deprecated, use `learning_rate` instead.\n",
            "  super(RMSprop, self).__init__(name, **kwargs)\n"
          ]
        }
      ],
      "source": [
        "import numpy as np\n",
        "import os\n",
        "import tempfile\n",
        "import tensorflow.keras\n",
        "\n",
        "from tensorflow.keras import backend as K\n",
        "from tensorflow.keras import layers\n",
        "from tensorflow.keras.datasets import mnist\n",
        "from tensorflow import keras\n",
        "from tensorflow.keras import optimizers\n",
        "from tensorflow.keras.utils import Sequence\n",
        "from tensorflow.keras.optimizers import RMSprop\n",
        "\n",
        "import tensorflow as tf\n",
        "\n",
        "if K.backend() != 'tensorflow':\n",
        "    raise RuntimeError('This example can only run with the TensorFlow backend,'\n",
        "                       ' because it requires the Dataset API, which is not'\n",
        "                       ' supported on other platforms.')\n",
        "\n",
        "batch_size = 128\n",
        "buffer_size = 10000\n",
        "steps_per_epoch = int(np.ceil(60000 / float(batch_size)))  # = 469\n",
        "epochs = 5\n",
        "num_classes = 10\n",
        "\n",
        "def cnn_layers(x):\n",
        "    \n",
        "    # This example assumes the existence of a 4D input tensor x:\n",
        "    # This returns a typical image tensor like those of MNIST dataset \n",
        "    print(\"x.shape:\",x.shape)\n",
        "\n",
        "    # Every branch has the same stride value (2), which is necessary to \n",
        "    # keep all branch outputs the same size so you can concatenate them\n",
        "    branch_a = layers.Conv2D(128, 1, padding='same', activation='relu', strides=2)(x)\n",
        "\n",
        "    # In this branch, the striding occurs in the spatial convolution layer.\n",
        "    branch_b = layers.Conv2D(128, 1, padding='same', activation='relu')(x)\n",
        "    branch_b = layers.Conv2D(128, 3, padding='same', activation='relu', strides=2)(branch_b)\n",
        "\n",
        "    # In this branch, the striding occurs in the average pooling layer.\n",
        "    branch_c = layers.AveragePooling2D(3,  padding='same', strides=2)(x)\n",
        "    branch_c = layers.Conv2D(128, 3, padding='same', activation='relu')(branch_c)\n",
        "\n",
        "    branch_d = layers.Conv2D(128, 1, padding='same', activation='relu')(x) \n",
        "    branch_d = layers.Conv2D(128, 3, padding='same', activation='relu')(branch_d)\n",
        "    branch_d = layers.Conv2D(128, 3, padding='same', activation='relu', strides=2)(branch_d)\n",
        "\n",
        "    # Concatenates the branch outputs to obtain the module output\n",
        "    output = layers.concatenate([branch_a, branch_b, branch_c, branch_d], axis=-1)\n",
        "\n",
        "    # Adding a classifier on top of the convnet\n",
        "    output = layers.Flatten()(output)\n",
        "    output = layers.Dense(512, activation='relu')(output)\n",
        "    predictions = layers.Dense(num_classes, activation='softmax')(output)\n",
        "    \n",
        "    return predictions\n",
        "\n",
        "(x_train, y_train), (x_test, y_test) = mnist.load_data()\n",
        "x_train = x_train.astype(np.float32) / 255\n",
        "x_train = np.expand_dims(x_train, -1)\n",
        "y_train = tf.one_hot(y_train, num_classes)\n",
        "\n",
        "# Create the dataset and its associated one-shot iterator.\n",
        "dataset = tf.data.Dataset.from_tensor_slices((x_train, y_train))\n",
        "dataset = dataset.repeat()\n",
        "dataset = dataset.shuffle(buffer_size)\n",
        "dataset = dataset.batch(batch_size)\n",
        "iterator = iter(dataset)\n",
        "#iterator = dataset.make_one_shot_iterator()\n",
        "#iterator = tf.compat.v1.data.get_output_shapes(dataset)\n",
        "\n",
        "# Model creation using tensors from the get_next() graph node.\n",
        "inputs, targets = iterator.get_next()\n",
        "\n",
        "print(\"inputs.shape:\",inputs.shape)\n",
        "print(\"targets.shape:\",targets.shape)\n",
        "\n",
        "model_input = layers.Input(tensor=inputs)\n",
        "model_output = cnn_layers(model_input)\n",
        "\n",
        "model = keras.models.Model(inputs=model_input, outputs=model_output)\n",
        "\n",
        "model.compile(optimizer=RMSprop(lr=2e-3, decay=1e-5),\n",
        "              loss='categorical_crossentropy',\n",
        "              metrics=['accuracy'],\n",
        "             ) # target_tensors=[targets]"
      ]
    },
    {
      "cell_type": "code",
      "execution_count": 15,
      "metadata": {
        "colab": {
          "base_uri": "https://localhost:8080/",
          "height": 1000
        },
        "id": "ZAqLUOhTey5h",
        "outputId": "d96402c3-571e-47cc-9e49-b52395f0f982"
      },
      "outputs": [
        {
          "output_type": "stream",
          "name": "stdout",
          "text": [
            "Model: \"model_4\"\n",
            "__________________________________________________________________________________________________\n",
            " Layer (type)                   Output Shape         Param #     Connected to                     \n",
            "==================================================================================================\n",
            " input_2 (InputLayer)           [(128, 28, 28, 1)]   0           []                               \n",
            "                                                                                                  \n",
            " conv2d_11 (Conv2D)             (128, 28, 28, 128)   256         ['input_2[0][0]']                \n",
            "                                                                                                  \n",
            " conv2d_8 (Conv2D)              (128, 28, 28, 128)   256         ['input_2[0][0]']                \n",
            "                                                                                                  \n",
            " average_pooling2d_1 (AveragePo  (128, 14, 14, 1)    0           ['input_2[0][0]']                \n",
            " oling2D)                                                                                         \n",
            "                                                                                                  \n",
            " conv2d_12 (Conv2D)             (128, 28, 28, 128)   147584      ['conv2d_11[0][0]']              \n",
            "                                                                                                  \n",
            " conv2d_7 (Conv2D)              (128, 14, 14, 128)   256         ['input_2[0][0]']                \n",
            "                                                                                                  \n",
            " conv2d_9 (Conv2D)              (128, 14, 14, 128)   147584      ['conv2d_8[0][0]']               \n",
            "                                                                                                  \n",
            " conv2d_10 (Conv2D)             (128, 14, 14, 128)   1280        ['average_pooling2d_1[0][0]']    \n",
            "                                                                                                  \n",
            " conv2d_13 (Conv2D)             (128, 14, 14, 128)   147584      ['conv2d_12[0][0]']              \n",
            "                                                                                                  \n",
            " concatenate_2 (Concatenate)    (128, 14, 14, 512)   0           ['conv2d_7[0][0]',               \n",
            "                                                                  'conv2d_9[0][0]',               \n",
            "                                                                  'conv2d_10[0][0]',              \n",
            "                                                                  'conv2d_13[0][0]']              \n",
            "                                                                                                  \n",
            " flatten_1 (Flatten)            (128, 100352)        0           ['concatenate_2[0][0]']          \n",
            "                                                                                                  \n",
            " dense_10 (Dense)               (128, 512)           51380736    ['flatten_1[0][0]']              \n",
            "                                                                                                  \n",
            " dense_11 (Dense)               (128, 10)            5130        ['dense_10[0][0]']               \n",
            "                                                                                                  \n",
            "==================================================================================================\n",
            "Total params: 51,830,666\n",
            "Trainable params: 51,830,666\n",
            "Non-trainable params: 0\n",
            "__________________________________________________________________________________________________\n"
          ]
        },
        {
          "output_type": "execute_result",
          "data": {
            "text/plain": [
              "<IPython.core.display.SVG object>"
            ],
            "image/svg+xml": "<svg height=\"848pt\" viewBox=\"0.00 0.00 1364.50 636.00\" width=\"1819pt\" xmlns=\"http://www.w3.org/2000/svg\" xmlns:xlink=\"http://www.w3.org/1999/xlink\">\n<g class=\"graph\" id=\"graph0\" transform=\"scale(1.3333 1.3333) rotate(0) translate(4 632)\">\n<title>G</title>\n<polygon fill=\"#ffffff\" points=\"-4,4 -4,-632 1360.5,-632 1360.5,4 -4,4\" stroke=\"transparent\"/>\n<!-- 139783300896912 -->\n<g class=\"node\" id=\"node1\">\n<title>139783300896912</title>\n<polygon fill=\"none\" points=\"615.5,-581.5 615.5,-627.5 987.5,-627.5 987.5,-581.5 615.5,-581.5\" stroke=\"#000000\"/>\n<text fill=\"#000000\" font-family=\"Times,serif\" font-size=\"14.00\" text-anchor=\"middle\" x=\"655.5\" y=\"-612.3\">input_2</text>\n<polyline fill=\"none\" points=\"615.5,-604.5 695.5,-604.5 \" stroke=\"#000000\"/>\n<text fill=\"#000000\" font-family=\"Times,serif\" font-size=\"14.00\" text-anchor=\"middle\" x=\"655.5\" y=\"-589.3\">InputLayer</text>\n<polyline fill=\"none\" points=\"695.5,-581.5 695.5,-627.5 \" stroke=\"#000000\"/>\n<text fill=\"#000000\" font-family=\"Times,serif\" font-size=\"14.00\" text-anchor=\"middle\" x=\"724.5\" y=\"-612.3\">input:</text>\n<polyline fill=\"none\" points=\"695.5,-604.5 753.5,-604.5 \" stroke=\"#000000\"/>\n<text fill=\"#000000\" font-family=\"Times,serif\" font-size=\"14.00\" text-anchor=\"middle\" x=\"724.5\" y=\"-589.3\">output:</text>\n<polyline fill=\"none\" points=\"753.5,-581.5 753.5,-627.5 \" stroke=\"#000000\"/>\n<text fill=\"#000000\" font-family=\"Times,serif\" font-size=\"14.00\" text-anchor=\"middle\" x=\"812\" y=\"-600.8\">[(128, 28, 28, 1)]</text>\n<polyline fill=\"none\" points=\"870.5,-581.5 870.5,-627.5 \" stroke=\"#000000\"/>\n<text fill=\"#000000\" font-family=\"Times,serif\" font-size=\"14.00\" text-anchor=\"middle\" x=\"929\" y=\"-600.8\">[(128, 28, 28, 1)]</text>\n</g>\n<!-- 139783302580816 -->\n<g class=\"node\" id=\"node2\">\n<title>139783302580816</title>\n<polygon fill=\"none\" points=\"130,-498.5 130,-544.5 501,-544.5 501,-498.5 130,-498.5\" stroke=\"#000000\"/>\n<text fill=\"#000000\" font-family=\"Times,serif\" font-size=\"14.00\" text-anchor=\"middle\" x=\"171\" y=\"-529.3\">conv2d_11</text>\n<polyline fill=\"none\" points=\"130,-521.5 212,-521.5 \" stroke=\"#000000\"/>\n<text fill=\"#000000\" font-family=\"Times,serif\" font-size=\"14.00\" text-anchor=\"middle\" x=\"171\" y=\"-506.3\">Conv2D</text>\n<polyline fill=\"none\" points=\"212,-498.5 212,-544.5 \" stroke=\"#000000\"/>\n<text fill=\"#000000\" font-family=\"Times,serif\" font-size=\"14.00\" text-anchor=\"middle\" x=\"241\" y=\"-529.3\">input:</text>\n<polyline fill=\"none\" points=\"212,-521.5 270,-521.5 \" stroke=\"#000000\"/>\n<text fill=\"#000000\" font-family=\"Times,serif\" font-size=\"14.00\" text-anchor=\"middle\" x=\"241\" y=\"-506.3\">output:</text>\n<polyline fill=\"none\" points=\"270,-498.5 270,-544.5 \" stroke=\"#000000\"/>\n<text fill=\"#000000\" font-family=\"Times,serif\" font-size=\"14.00\" text-anchor=\"middle\" x=\"324\" y=\"-517.8\">(128, 28, 28, 1)</text>\n<polyline fill=\"none\" points=\"378,-498.5 378,-544.5 \" stroke=\"#000000\"/>\n<text fill=\"#000000\" font-family=\"Times,serif\" font-size=\"14.00\" text-anchor=\"middle\" x=\"439.5\" y=\"-517.8\">(128, 28, 28, 128)</text>\n</g>\n<!-- 139783300896912&#45;&gt;139783302580816 -->\n<g class=\"edge\" id=\"edge1\">\n<title>139783300896912-&gt;139783302580816</title>\n<path d=\"M666.7673,-581.4901C602.6394,-570.5382 525.8664,-557.4268 460.4725,-546.2587\" fill=\"none\" stroke=\"#000000\"/>\n<polygon fill=\"#000000\" points=\"460.9413,-542.7881 450.4948,-544.5547 459.7628,-549.6882 460.9413,-542.7881\" stroke=\"#000000\"/>\n</g>\n<!-- 139783298736464 -->\n<g class=\"node\" id=\"node3\">\n<title>139783298736464</title>\n<polygon fill=\"none\" points=\"405.5,-415.5 405.5,-461.5 769.5,-461.5 769.5,-415.5 405.5,-415.5\" stroke=\"#000000\"/>\n<text fill=\"#000000\" font-family=\"Times,serif\" font-size=\"14.00\" text-anchor=\"middle\" x=\"443\" y=\"-446.3\">conv2d_8</text>\n<polyline fill=\"none\" points=\"405.5,-438.5 480.5,-438.5 \" stroke=\"#000000\"/>\n<text fill=\"#000000\" font-family=\"Times,serif\" font-size=\"14.00\" text-anchor=\"middle\" x=\"443\" y=\"-423.3\">Conv2D</text>\n<polyline fill=\"none\" points=\"480.5,-415.5 480.5,-461.5 \" stroke=\"#000000\"/>\n<text fill=\"#000000\" font-family=\"Times,serif\" font-size=\"14.00\" text-anchor=\"middle\" x=\"509.5\" y=\"-446.3\">input:</text>\n<polyline fill=\"none\" points=\"480.5,-438.5 538.5,-438.5 \" stroke=\"#000000\"/>\n<text fill=\"#000000\" font-family=\"Times,serif\" font-size=\"14.00\" text-anchor=\"middle\" x=\"509.5\" y=\"-423.3\">output:</text>\n<polyline fill=\"none\" points=\"538.5,-415.5 538.5,-461.5 \" stroke=\"#000000\"/>\n<text fill=\"#000000\" font-family=\"Times,serif\" font-size=\"14.00\" text-anchor=\"middle\" x=\"592.5\" y=\"-434.8\">(128, 28, 28, 1)</text>\n<polyline fill=\"none\" points=\"646.5,-415.5 646.5,-461.5 \" stroke=\"#000000\"/>\n<text fill=\"#000000\" font-family=\"Times,serif\" font-size=\"14.00\" text-anchor=\"middle\" x=\"708\" y=\"-434.8\">(128, 28, 28, 128)</text>\n</g>\n<!-- 139783300896912&#45;&gt;139783298736464 -->\n<g class=\"edge\" id=\"edge2\">\n<title>139783300896912-&gt;139783298736464</title>\n<path d=\"M733.448,-581.3665C711.7237,-572.0769 688.429,-559.9678 669.5,-545 643.3222,-524.3003 620.8013,-493.4904 606.0214,-470.3269\" fill=\"none\" stroke=\"#000000\"/>\n<polygon fill=\"#000000\" points=\"608.8117,-468.1865 600.5543,-461.5482 602.8697,-471.8869 608.8117,-468.1865\" stroke=\"#000000\"/>\n</g>\n<!-- 139783300787664 -->\n<g class=\"node\" id=\"node4\">\n<title>139783300787664</title>\n<polygon fill=\"none\" points=\"679,-498.5 679,-544.5 1096,-544.5 1096,-498.5 679,-498.5\" stroke=\"#000000\"/>\n<text fill=\"#000000\" font-family=\"Times,serif\" font-size=\"14.00\" text-anchor=\"middle\" x=\"750.5\" y=\"-529.3\">average_pooling2d_1</text>\n<polyline fill=\"none\" points=\"679,-521.5 822,-521.5 \" stroke=\"#000000\"/>\n<text fill=\"#000000\" font-family=\"Times,serif\" font-size=\"14.00\" text-anchor=\"middle\" x=\"750.5\" y=\"-506.3\">AveragePooling2D</text>\n<polyline fill=\"none\" points=\"822,-498.5 822,-544.5 \" stroke=\"#000000\"/>\n<text fill=\"#000000\" font-family=\"Times,serif\" font-size=\"14.00\" text-anchor=\"middle\" x=\"851\" y=\"-529.3\">input:</text>\n<polyline fill=\"none\" points=\"822,-521.5 880,-521.5 \" stroke=\"#000000\"/>\n<text fill=\"#000000\" font-family=\"Times,serif\" font-size=\"14.00\" text-anchor=\"middle\" x=\"851\" y=\"-506.3\">output:</text>\n<polyline fill=\"none\" points=\"880,-498.5 880,-544.5 \" stroke=\"#000000\"/>\n<text fill=\"#000000\" font-family=\"Times,serif\" font-size=\"14.00\" text-anchor=\"middle\" x=\"934\" y=\"-517.8\">(128, 28, 28, 1)</text>\n<polyline fill=\"none\" points=\"988,-498.5 988,-544.5 \" stroke=\"#000000\"/>\n<text fill=\"#000000\" font-family=\"Times,serif\" font-size=\"14.00\" text-anchor=\"middle\" x=\"1042\" y=\"-517.8\">(128, 14, 14, 1)</text>\n</g>\n<!-- 139783300896912&#45;&gt;139783300787664 -->\n<g class=\"edge\" id=\"edge3\">\n<title>139783300896912-&gt;139783300787664</title>\n<path d=\"M825.4558,-581.3799C834.8818,-572.2827 845.8379,-561.7088 855.8971,-552.0005\" fill=\"none\" stroke=\"#000000\"/>\n<polygon fill=\"#000000\" points=\"858.6095,-554.2469 863.3744,-544.784 853.7484,-549.2101 858.6095,-554.2469\" stroke=\"#000000\"/>\n</g>\n<!-- 139783298694736 -->\n<g class=\"node\" id=\"node6\">\n<title>139783298694736</title>\n<polygon fill=\"none\" points=\"992.5,-332.5 992.5,-378.5 1356.5,-378.5 1356.5,-332.5 992.5,-332.5\" stroke=\"#000000\"/>\n<text fill=\"#000000\" font-family=\"Times,serif\" font-size=\"14.00\" text-anchor=\"middle\" x=\"1030\" y=\"-363.3\">conv2d_7</text>\n<polyline fill=\"none\" points=\"992.5,-355.5 1067.5,-355.5 \" stroke=\"#000000\"/>\n<text fill=\"#000000\" font-family=\"Times,serif\" font-size=\"14.00\" text-anchor=\"middle\" x=\"1030\" y=\"-340.3\">Conv2D</text>\n<polyline fill=\"none\" points=\"1067.5,-332.5 1067.5,-378.5 \" stroke=\"#000000\"/>\n<text fill=\"#000000\" font-family=\"Times,serif\" font-size=\"14.00\" text-anchor=\"middle\" x=\"1096.5\" y=\"-363.3\">input:</text>\n<polyline fill=\"none\" points=\"1067.5,-355.5 1125.5,-355.5 \" stroke=\"#000000\"/>\n<text fill=\"#000000\" font-family=\"Times,serif\" font-size=\"14.00\" text-anchor=\"middle\" x=\"1096.5\" y=\"-340.3\">output:</text>\n<polyline fill=\"none\" points=\"1125.5,-332.5 1125.5,-378.5 \" stroke=\"#000000\"/>\n<text fill=\"#000000\" font-family=\"Times,serif\" font-size=\"14.00\" text-anchor=\"middle\" x=\"1179.5\" y=\"-351.8\">(128, 28, 28, 1)</text>\n<polyline fill=\"none\" points=\"1233.5,-332.5 1233.5,-378.5 \" stroke=\"#000000\"/>\n<text fill=\"#000000\" font-family=\"Times,serif\" font-size=\"14.00\" text-anchor=\"middle\" x=\"1295\" y=\"-351.8\">(128, 14, 14, 128)</text>\n</g>\n<!-- 139783300896912&#45;&gt;139783298694736 -->\n<g class=\"edge\" id=\"edge5\">\n<title>139783300896912-&gt;139783298694736</title>\n<path d=\"M972.8764,-581.4946C1028.1635,-571.8095 1081.1908,-559.417 1104.5,-545 1144.1165,-520.4967 1152.2401,-505.6519 1168.5,-462 1177.182,-438.692 1178.4056,-410.5266 1177.6071,-389.0161\" fill=\"none\" stroke=\"#000000\"/>\n<polygon fill=\"#000000\" points=\"1181.0865,-388.537 1177.0554,-378.739 1174.0966,-388.9122 1181.0865,-388.537\" stroke=\"#000000\"/>\n</g>\n<!-- 139783298773968 -->\n<g class=\"node\" id=\"node5\">\n<title>139783298773968</title>\n<polygon fill=\"none\" points=\"0,-415.5 0,-461.5 387,-461.5 387,-415.5 0,-415.5\" stroke=\"#000000\"/>\n<text fill=\"#000000\" font-family=\"Times,serif\" font-size=\"14.00\" text-anchor=\"middle\" x=\"41.5\" y=\"-446.3\">conv2d_12</text>\n<polyline fill=\"none\" points=\"0,-438.5 83,-438.5 \" stroke=\"#000000\"/>\n<text fill=\"#000000\" font-family=\"Times,serif\" font-size=\"14.00\" text-anchor=\"middle\" x=\"41.5\" y=\"-423.3\">Conv2D</text>\n<polyline fill=\"none\" points=\"83,-415.5 83,-461.5 \" stroke=\"#000000\"/>\n<text fill=\"#000000\" font-family=\"Times,serif\" font-size=\"14.00\" text-anchor=\"middle\" x=\"112\" y=\"-446.3\">input:</text>\n<polyline fill=\"none\" points=\"83,-438.5 141,-438.5 \" stroke=\"#000000\"/>\n<text fill=\"#000000\" font-family=\"Times,serif\" font-size=\"14.00\" text-anchor=\"middle\" x=\"112\" y=\"-423.3\">output:</text>\n<polyline fill=\"none\" points=\"141,-415.5 141,-461.5 \" stroke=\"#000000\"/>\n<text fill=\"#000000\" font-family=\"Times,serif\" font-size=\"14.00\" text-anchor=\"middle\" x=\"202.5\" y=\"-434.8\">(128, 28, 28, 128)</text>\n<polyline fill=\"none\" points=\"264,-415.5 264,-461.5 \" stroke=\"#000000\"/>\n<text fill=\"#000000\" font-family=\"Times,serif\" font-size=\"14.00\" text-anchor=\"middle\" x=\"325.5\" y=\"-434.8\">(128, 28, 28, 128)</text>\n</g>\n<!-- 139783302580816&#45;&gt;139783298773968 -->\n<g class=\"edge\" id=\"edge4\">\n<title>139783302580816-&gt;139783298773968</title>\n<path d=\"M281.5162,-498.3799C267.4889,-488.8367 251.0731,-477.6686 236.2431,-467.5793\" fill=\"none\" stroke=\"#000000\"/>\n<polygon fill=\"#000000\" points=\"237.9615,-464.5152 227.7247,-461.784 234.024,-470.3028 237.9615,-464.5152\" stroke=\"#000000\"/>\n</g>\n<!-- 139783301400976 -->\n<g class=\"node\" id=\"node7\">\n<title>139783301400976</title>\n<polygon fill=\"none\" points=\"526,-332.5 526,-378.5 905,-378.5 905,-332.5 526,-332.5\" stroke=\"#000000\"/>\n<text fill=\"#000000\" font-family=\"Times,serif\" font-size=\"14.00\" text-anchor=\"middle\" x=\"563.5\" y=\"-363.3\">conv2d_9</text>\n<polyline fill=\"none\" points=\"526,-355.5 601,-355.5 \" stroke=\"#000000\"/>\n<text fill=\"#000000\" font-family=\"Times,serif\" font-size=\"14.00\" text-anchor=\"middle\" x=\"563.5\" y=\"-340.3\">Conv2D</text>\n<polyline fill=\"none\" points=\"601,-332.5 601,-378.5 \" stroke=\"#000000\"/>\n<text fill=\"#000000\" font-family=\"Times,serif\" font-size=\"14.00\" text-anchor=\"middle\" x=\"630\" y=\"-363.3\">input:</text>\n<polyline fill=\"none\" points=\"601,-355.5 659,-355.5 \" stroke=\"#000000\"/>\n<text fill=\"#000000\" font-family=\"Times,serif\" font-size=\"14.00\" text-anchor=\"middle\" x=\"630\" y=\"-340.3\">output:</text>\n<polyline fill=\"none\" points=\"659,-332.5 659,-378.5 \" stroke=\"#000000\"/>\n<text fill=\"#000000\" font-family=\"Times,serif\" font-size=\"14.00\" text-anchor=\"middle\" x=\"720.5\" y=\"-351.8\">(128, 28, 28, 128)</text>\n<polyline fill=\"none\" points=\"782,-332.5 782,-378.5 \" stroke=\"#000000\"/>\n<text fill=\"#000000\" font-family=\"Times,serif\" font-size=\"14.00\" text-anchor=\"middle\" x=\"843.5\" y=\"-351.8\">(128, 14, 14, 128)</text>\n</g>\n<!-- 139783298736464&#45;&gt;139783301400976 -->\n<g class=\"edge\" id=\"edge6\">\n<title>139783298736464-&gt;139783301400976</title>\n<path d=\"M623.1551,-415.3799C638.0098,-405.7475 655.4176,-394.4597 671.0906,-384.2967\" fill=\"none\" stroke=\"#000000\"/>\n<polygon fill=\"#000000\" points=\"673.1059,-387.1614 679.5921,-378.784 669.2975,-381.2881 673.1059,-387.1614\" stroke=\"#000000\"/>\n</g>\n<!-- 139783298781840 -->\n<g class=\"node\" id=\"node8\">\n<title>139783298781840</title>\n<polygon fill=\"none\" points=\"787.5,-415.5 787.5,-461.5 1159.5,-461.5 1159.5,-415.5 787.5,-415.5\" stroke=\"#000000\"/>\n<text fill=\"#000000\" font-family=\"Times,serif\" font-size=\"14.00\" text-anchor=\"middle\" x=\"829\" y=\"-446.3\">conv2d_10</text>\n<polyline fill=\"none\" points=\"787.5,-438.5 870.5,-438.5 \" stroke=\"#000000\"/>\n<text fill=\"#000000\" font-family=\"Times,serif\" font-size=\"14.00\" text-anchor=\"middle\" x=\"829\" y=\"-423.3\">Conv2D</text>\n<polyline fill=\"none\" points=\"870.5,-415.5 870.5,-461.5 \" stroke=\"#000000\"/>\n<text fill=\"#000000\" font-family=\"Times,serif\" font-size=\"14.00\" text-anchor=\"middle\" x=\"899.5\" y=\"-446.3\">input:</text>\n<polyline fill=\"none\" points=\"870.5,-438.5 928.5,-438.5 \" stroke=\"#000000\"/>\n<text fill=\"#000000\" font-family=\"Times,serif\" font-size=\"14.00\" text-anchor=\"middle\" x=\"899.5\" y=\"-423.3\">output:</text>\n<polyline fill=\"none\" points=\"928.5,-415.5 928.5,-461.5 \" stroke=\"#000000\"/>\n<text fill=\"#000000\" font-family=\"Times,serif\" font-size=\"14.00\" text-anchor=\"middle\" x=\"982.5\" y=\"-434.8\">(128, 14, 14, 1)</text>\n<polyline fill=\"none\" points=\"1036.5,-415.5 1036.5,-461.5 \" stroke=\"#000000\"/>\n<text fill=\"#000000\" font-family=\"Times,serif\" font-size=\"14.00\" text-anchor=\"middle\" x=\"1098\" y=\"-434.8\">(128, 14, 14, 128)</text>\n</g>\n<!-- 139783300787664&#45;&gt;139783298781840 -->\n<g class=\"edge\" id=\"edge7\">\n<title>139783300787664-&gt;139783298781840</title>\n<path d=\"M911.4558,-498.3799C920.8818,-489.2827 931.8379,-478.7088 941.8971,-469.0005\" fill=\"none\" stroke=\"#000000\"/>\n<polygon fill=\"#000000\" points=\"944.6095,-471.2469 949.3744,-461.784 939.7484,-466.2101 944.6095,-471.2469\" stroke=\"#000000\"/>\n</g>\n<!-- 139783305233936 -->\n<g class=\"node\" id=\"node9\">\n<title>139783305233936</title>\n<polygon fill=\"none\" points=\"81,-332.5 81,-378.5 468,-378.5 468,-332.5 81,-332.5\" stroke=\"#000000\"/>\n<text fill=\"#000000\" font-family=\"Times,serif\" font-size=\"14.00\" text-anchor=\"middle\" x=\"122.5\" y=\"-363.3\">conv2d_13</text>\n<polyline fill=\"none\" points=\"81,-355.5 164,-355.5 \" stroke=\"#000000\"/>\n<text fill=\"#000000\" font-family=\"Times,serif\" font-size=\"14.00\" text-anchor=\"middle\" x=\"122.5\" y=\"-340.3\">Conv2D</text>\n<polyline fill=\"none\" points=\"164,-332.5 164,-378.5 \" stroke=\"#000000\"/>\n<text fill=\"#000000\" font-family=\"Times,serif\" font-size=\"14.00\" text-anchor=\"middle\" x=\"193\" y=\"-363.3\">input:</text>\n<polyline fill=\"none\" points=\"164,-355.5 222,-355.5 \" stroke=\"#000000\"/>\n<text fill=\"#000000\" font-family=\"Times,serif\" font-size=\"14.00\" text-anchor=\"middle\" x=\"193\" y=\"-340.3\">output:</text>\n<polyline fill=\"none\" points=\"222,-332.5 222,-378.5 \" stroke=\"#000000\"/>\n<text fill=\"#000000\" font-family=\"Times,serif\" font-size=\"14.00\" text-anchor=\"middle\" x=\"283.5\" y=\"-351.8\">(128, 28, 28, 128)</text>\n<polyline fill=\"none\" points=\"345,-332.5 345,-378.5 \" stroke=\"#000000\"/>\n<text fill=\"#000000\" font-family=\"Times,serif\" font-size=\"14.00\" text-anchor=\"middle\" x=\"406.5\" y=\"-351.8\">(128, 14, 14, 128)</text>\n</g>\n<!-- 139783298773968&#45;&gt;139783305233936 -->\n<g class=\"edge\" id=\"edge8\">\n<title>139783298773968-&gt;139783305233936</title>\n<path d=\"M216.063,-415.3799C224.941,-406.2827 235.2601,-395.7088 244.7345,-386.0005\" fill=\"none\" stroke=\"#000000\"/>\n<polygon fill=\"#000000\" points=\"247.2976,-388.3853 251.7771,-378.784 242.2878,-383.4963 247.2976,-388.3853\" stroke=\"#000000\"/>\n</g>\n<!-- 139783305943440 -->\n<g class=\"node\" id=\"node10\">\n<title>139783305943440</title>\n<polygon fill=\"none\" points=\"457,-249.5 457,-295.5 1210,-295.5 1210,-249.5 457,-249.5\" stroke=\"#000000\"/>\n<text fill=\"#000000\" font-family=\"Times,serif\" font-size=\"14.00\" text-anchor=\"middle\" x=\"506\" y=\"-280.3\">concatenate_2</text>\n<polyline fill=\"none\" points=\"457,-272.5 555,-272.5 \" stroke=\"#000000\"/>\n<text fill=\"#000000\" font-family=\"Times,serif\" font-size=\"14.00\" text-anchor=\"middle\" x=\"506\" y=\"-257.3\">Concatenate</text>\n<polyline fill=\"none\" points=\"555,-249.5 555,-295.5 \" stroke=\"#000000\"/>\n<text fill=\"#000000\" font-family=\"Times,serif\" font-size=\"14.00\" text-anchor=\"middle\" x=\"584\" y=\"-280.3\">input:</text>\n<polyline fill=\"none\" points=\"555,-272.5 613,-272.5 \" stroke=\"#000000\"/>\n<text fill=\"#000000\" font-family=\"Times,serif\" font-size=\"14.00\" text-anchor=\"middle\" x=\"584\" y=\"-257.3\">output:</text>\n<polyline fill=\"none\" points=\"613,-249.5 613,-295.5 \" stroke=\"#000000\"/>\n<text fill=\"#000000\" font-family=\"Times,serif\" font-size=\"14.00\" text-anchor=\"middle\" x=\"850\" y=\"-268.8\">[(128, 14, 14, 128), (128, 14, 14, 128), (128, 14, 14, 128), (128, 14, 14, 128)]</text>\n<polyline fill=\"none\" points=\"1087,-249.5 1087,-295.5 \" stroke=\"#000000\"/>\n<text fill=\"#000000\" font-family=\"Times,serif\" font-size=\"14.00\" text-anchor=\"middle\" x=\"1148.5\" y=\"-268.8\">(128, 14, 14, 512)</text>\n</g>\n<!-- 139783298694736&#45;&gt;139783305943440 -->\n<g class=\"edge\" id=\"edge9\">\n<title>139783298694736-&gt;139783305943440</title>\n<path d=\"M1079.9653,-332.4901C1035.8941,-321.7631 983.3113,-308.9643 938.0558,-297.9491\" fill=\"none\" stroke=\"#000000\"/>\n<polygon fill=\"#000000\" points=\"938.7627,-294.519 928.2186,-295.5547 937.1071,-301.3204 938.7627,-294.519\" stroke=\"#000000\"/>\n</g>\n<!-- 139783301400976&#45;&gt;139783305943440 -->\n<g class=\"edge\" id=\"edge10\">\n<title>139783301400976-&gt;139783305943440</title>\n<path d=\"M748.3696,-332.3799C761.937,-322.8367 777.8145,-311.6686 792.1583,-301.5793\" fill=\"none\" stroke=\"#000000\"/>\n<polygon fill=\"#000000\" points=\"794.2318,-304.4 800.3974,-295.784 790.2045,-298.6745 794.2318,-304.4\" stroke=\"#000000\"/>\n</g>\n<!-- 139783298781840&#45;&gt;139783305943440 -->\n<g class=\"edge\" id=\"edge11\">\n<title>139783298781840-&gt;139783305943440</title>\n<path d=\"M963.7923,-415.1219C953.5484,-392.2706 935.8049,-357.3195 913.5,-332 903.6458,-320.8139 891.3674,-310.4201 879.4113,-301.5515\" fill=\"none\" stroke=\"#000000\"/>\n<polygon fill=\"#000000\" points=\"881.3823,-298.6579 871.2192,-295.6643 877.2973,-304.3423 881.3823,-298.6579\" stroke=\"#000000\"/>\n</g>\n<!-- 139783305233936&#45;&gt;139783305943440 -->\n<g class=\"edge\" id=\"edge12\">\n<title>139783305233936-&gt;139783305943440</title>\n<path d=\"M429.4703,-332.4901C503.685,-321.4707 592.6238,-308.2652 668.1403,-297.0525\" fill=\"none\" stroke=\"#000000\"/>\n<polygon fill=\"#000000\" points=\"668.8507,-300.4855 678.2282,-295.5547 667.8226,-293.5614 668.8507,-300.4855\" stroke=\"#000000\"/>\n</g>\n<!-- 139783305278352 -->\n<g class=\"node\" id=\"node11\">\n<title>139783305278352</title>\n<polygon fill=\"none\" points=\"659,-166.5 659,-212.5 1008,-212.5 1008,-166.5 659,-166.5\" stroke=\"#000000\"/>\n<text fill=\"#000000\" font-family=\"Times,serif\" font-size=\"14.00\" text-anchor=\"middle\" x=\"692.5\" y=\"-197.3\">flatten_1</text>\n<polyline fill=\"none\" points=\"659,-189.5 726,-189.5 \" stroke=\"#000000\"/>\n<text fill=\"#000000\" font-family=\"Times,serif\" font-size=\"14.00\" text-anchor=\"middle\" x=\"692.5\" y=\"-174.3\">Flatten</text>\n<polyline fill=\"none\" points=\"726,-166.5 726,-212.5 \" stroke=\"#000000\"/>\n<text fill=\"#000000\" font-family=\"Times,serif\" font-size=\"14.00\" text-anchor=\"middle\" x=\"755\" y=\"-197.3\">input:</text>\n<polyline fill=\"none\" points=\"726,-189.5 784,-189.5 \" stroke=\"#000000\"/>\n<text fill=\"#000000\" font-family=\"Times,serif\" font-size=\"14.00\" text-anchor=\"middle\" x=\"755\" y=\"-174.3\">output:</text>\n<polyline fill=\"none\" points=\"784,-166.5 784,-212.5 \" stroke=\"#000000\"/>\n<text fill=\"#000000\" font-family=\"Times,serif\" font-size=\"14.00\" text-anchor=\"middle\" x=\"845.5\" y=\"-185.8\">(128, 14, 14, 512)</text>\n<polyline fill=\"none\" points=\"907,-166.5 907,-212.5 \" stroke=\"#000000\"/>\n<text fill=\"#000000\" font-family=\"Times,serif\" font-size=\"14.00\" text-anchor=\"middle\" x=\"957.5\" y=\"-185.8\">(128, 100352)</text>\n</g>\n<!-- 139783305943440&#45;&gt;139783305278352 -->\n<g class=\"edge\" id=\"edge13\">\n<title>139783305943440-&gt;139783305278352</title>\n<path d=\"M833.5,-249.3799C833.5,-241.1745 833.5,-231.7679 833.5,-222.8786\" fill=\"none\" stroke=\"#000000\"/>\n<polygon fill=\"#000000\" points=\"837.0001,-222.784 833.5,-212.784 830.0001,-222.784 837.0001,-222.784\" stroke=\"#000000\"/>\n</g>\n<!-- 139783305319184 -->\n<g class=\"node\" id=\"node12\">\n<title>139783305319184</title>\n<polygon fill=\"none\" points=\"679.5,-83.5 679.5,-129.5 987.5,-129.5 987.5,-83.5 679.5,-83.5\" stroke=\"#000000\"/>\n<text fill=\"#000000\" font-family=\"Times,serif\" font-size=\"14.00\" text-anchor=\"middle\" x=\"715\" y=\"-114.3\">dense_10</text>\n<polyline fill=\"none\" points=\"679.5,-106.5 750.5,-106.5 \" stroke=\"#000000\"/>\n<text fill=\"#000000\" font-family=\"Times,serif\" font-size=\"14.00\" text-anchor=\"middle\" x=\"715\" y=\"-91.3\">Dense</text>\n<polyline fill=\"none\" points=\"750.5,-83.5 750.5,-129.5 \" stroke=\"#000000\"/>\n<text fill=\"#000000\" font-family=\"Times,serif\" font-size=\"14.00\" text-anchor=\"middle\" x=\"779.5\" y=\"-114.3\">input:</text>\n<polyline fill=\"none\" points=\"750.5,-106.5 808.5,-106.5 \" stroke=\"#000000\"/>\n<text fill=\"#000000\" font-family=\"Times,serif\" font-size=\"14.00\" text-anchor=\"middle\" x=\"779.5\" y=\"-91.3\">output:</text>\n<polyline fill=\"none\" points=\"808.5,-83.5 808.5,-129.5 \" stroke=\"#000000\"/>\n<text fill=\"#000000\" font-family=\"Times,serif\" font-size=\"14.00\" text-anchor=\"middle\" x=\"859\" y=\"-102.8\">(128, 100352)</text>\n<polyline fill=\"none\" points=\"909.5,-83.5 909.5,-129.5 \" stroke=\"#000000\"/>\n<text fill=\"#000000\" font-family=\"Times,serif\" font-size=\"14.00\" text-anchor=\"middle\" x=\"948.5\" y=\"-102.8\">(128, 512)</text>\n</g>\n<!-- 139783305278352&#45;&gt;139783305319184 -->\n<g class=\"edge\" id=\"edge14\">\n<title>139783305278352-&gt;139783305319184</title>\n<path d=\"M833.5,-166.3799C833.5,-158.1745 833.5,-148.7679 833.5,-139.8786\" fill=\"none\" stroke=\"#000000\"/>\n<polygon fill=\"#000000\" points=\"837.0001,-139.784 833.5,-129.784 830.0001,-139.784 837.0001,-139.784\" stroke=\"#000000\"/>\n</g>\n<!-- 139783298776080 -->\n<g class=\"node\" id=\"node13\">\n<title>139783298776080</title>\n<polygon fill=\"none\" points=\"694.5,-.5 694.5,-46.5 972.5,-46.5 972.5,-.5 694.5,-.5\" stroke=\"#000000\"/>\n<text fill=\"#000000\" font-family=\"Times,serif\" font-size=\"14.00\" text-anchor=\"middle\" x=\"730\" y=\"-31.3\">dense_11</text>\n<polyline fill=\"none\" points=\"694.5,-23.5 765.5,-23.5 \" stroke=\"#000000\"/>\n<text fill=\"#000000\" font-family=\"Times,serif\" font-size=\"14.00\" text-anchor=\"middle\" x=\"730\" y=\"-8.3\">Dense</text>\n<polyline fill=\"none\" points=\"765.5,-.5 765.5,-46.5 \" stroke=\"#000000\"/>\n<text fill=\"#000000\" font-family=\"Times,serif\" font-size=\"14.00\" text-anchor=\"middle\" x=\"794.5\" y=\"-31.3\">input:</text>\n<polyline fill=\"none\" points=\"765.5,-23.5 823.5,-23.5 \" stroke=\"#000000\"/>\n<text fill=\"#000000\" font-family=\"Times,serif\" font-size=\"14.00\" text-anchor=\"middle\" x=\"794.5\" y=\"-8.3\">output:</text>\n<polyline fill=\"none\" points=\"823.5,-.5 823.5,-46.5 \" stroke=\"#000000\"/>\n<text fill=\"#000000\" font-family=\"Times,serif\" font-size=\"14.00\" text-anchor=\"middle\" x=\"862.5\" y=\"-19.8\">(128, 512)</text>\n<polyline fill=\"none\" points=\"901.5,-.5 901.5,-46.5 \" stroke=\"#000000\"/>\n<text fill=\"#000000\" font-family=\"Times,serif\" font-size=\"14.00\" text-anchor=\"middle\" x=\"937\" y=\"-19.8\">(128, 10)</text>\n</g>\n<!-- 139783305319184&#45;&gt;139783298776080 -->\n<g class=\"edge\" id=\"edge15\">\n<title>139783305319184-&gt;139783298776080</title>\n<path d=\"M833.5,-83.3799C833.5,-75.1745 833.5,-65.7679 833.5,-56.8786\" fill=\"none\" stroke=\"#000000\"/>\n<polygon fill=\"#000000\" points=\"837.0001,-56.784 833.5,-46.784 830.0001,-56.784 837.0001,-56.784\" stroke=\"#000000\"/>\n</g>\n</g>\n</svg>"
          },
          "metadata": {},
          "execution_count": 15
        }
      ],
      "source": [
        "model.summary()\n",
        "\n",
        "from IPython.display import SVG\n",
        "from keras.utils.vis_utils import model_to_dot\n",
        "\n",
        "SVG(model_to_dot(model,show_shapes=True).create(prog='dot', format='svg'))"
      ]
    },
    {
      "cell_type": "markdown",
      "metadata": {
        "id": "JrIedWE9e2Za"
      },
      "source": [
        "**Train Inception model**"
      ]
    },
    {
      "cell_type": "code",
      "execution_count": null,
      "metadata": {
        "colab": {
          "base_uri": "https://localhost:8080/"
        },
        "id": "x5cbFR9we46h",
        "outputId": "4199ad8b-1cff-4b2d-8a22-7a60437dd289"
      },
      "outputs": [
        {
          "output_type": "stream",
          "name": "stdout",
          "text": [
            "Epoch 1/5\n",
            "469/469 [==============================] - 2061s 4s/step - loss: 0.2395 - accuracy: 0.9515\n",
            "Epoch 2/5\n",
            "469/469 [==============================] - 2124s 5s/step - loss: 0.0429 - accuracy: 0.9870\n",
            "Epoch 3/5\n",
            "469/469 [==============================] - 2132s 5s/step - loss: 0.0216 - accuracy: 0.9935\n",
            "Epoch 4/5\n",
            "469/469 [==============================] - 2249s 5s/step - loss: 0.0146 - accuracy: 0.9955\n",
            "Epoch 5/5\n",
            "468/469 [============================>.] - ETA: 4s - loss: 0.0097 - accuracy: 0.9972"
          ]
        }
      ],
      "source": [
        "model.fit(dataset, epochs=epochs,\n",
        "          steps_per_epoch=steps_per_epoch)\n",
        "\n",
        "# Save the model weights.\n",
        "weight_path = os.path.join(tempfile.gettempdir(), 'saved_Inception_wt.h5')\n",
        "model.save_weights(weight_path)"
      ]
    },
    {
      "cell_type": "markdown",
      "metadata": {
        "id": "rzgRK9ODe9Yx"
      },
      "source": [
        "**Test the Inception model**\n",
        "Second session to test loading trained model without tensors."
      ]
    },
    {
      "cell_type": "code",
      "execution_count": 17,
      "metadata": {
        "id": "e94Qj8WlfAhR",
        "colab": {
          "base_uri": "https://localhost:8080/"
        },
        "outputId": "612348d8-8f6b-430a-c0a9-eb13ffcfc5f2"
      },
      "outputs": [
        {
          "output_type": "stream",
          "name": "stdout",
          "text": [
            "x.shape: (None, 28, 28, 1)\n",
            "Model: \"model\"\n",
            "__________________________________________________________________________________________________\n",
            " Layer (type)                   Output Shape         Param #     Connected to                     \n",
            "==================================================================================================\n",
            " input_1 (InputLayer)           [(None, 28, 28, 1)]  0           []                               \n",
            "                                                                                                  \n",
            " conv2d_4 (Conv2D)              (None, 28, 28, 128)  256         ['input_1[0][0]']                \n",
            "                                                                                                  \n",
            " conv2d_1 (Conv2D)              (None, 28, 28, 128)  256         ['input_1[0][0]']                \n",
            "                                                                                                  \n",
            " average_pooling2d (AveragePool  (None, 14, 14, 1)   0           ['input_1[0][0]']                \n",
            " ing2D)                                                                                           \n",
            "                                                                                                  \n",
            " conv2d_5 (Conv2D)              (None, 28, 28, 128)  147584      ['conv2d_4[0][0]']               \n",
            "                                                                                                  \n",
            " conv2d (Conv2D)                (None, 14, 14, 128)  256         ['input_1[0][0]']                \n",
            "                                                                                                  \n",
            " conv2d_2 (Conv2D)              (None, 14, 14, 128)  147584      ['conv2d_1[0][0]']               \n",
            "                                                                                                  \n",
            " conv2d_3 (Conv2D)              (None, 14, 14, 128)  1280        ['average_pooling2d[0][0]']      \n",
            "                                                                                                  \n",
            " conv2d_6 (Conv2D)              (None, 14, 14, 128)  147584      ['conv2d_5[0][0]']               \n",
            "                                                                                                  \n",
            " concatenate (Concatenate)      (None, 14, 14, 512)  0           ['conv2d[0][0]',                 \n",
            "                                                                  'conv2d_2[0][0]',               \n",
            "                                                                  'conv2d_3[0][0]',               \n",
            "                                                                  'conv2d_6[0][0]']               \n",
            "                                                                                                  \n",
            " flatten (Flatten)              (None, 100352)       0           ['concatenate[0][0]']            \n",
            "                                                                                                  \n",
            " dense (Dense)                  (None, 512)          51380736    ['flatten[0][0]']                \n",
            "                                                                                                  \n",
            " dense_1 (Dense)                (None, 10)           5130        ['dense[0][0]']                  \n",
            "                                                                                                  \n",
            "==================================================================================================\n",
            "Total params: 51,830,666\n",
            "Trainable params: 51,830,666\n",
            "Non-trainable params: 0\n",
            "__________________________________________________________________________________________________\n",
            "1000/1000 [==============================] - 132s 132ms/step - loss: 49.5698 - accuracy: 0.9846\n",
            "\n",
            "Test accuracy: 0.9846000075340271\n"
          ]
        }
      ],
      "source": [
        "# Clean up the TF session.\n",
        "K.clear_session()\n",
        "\n",
        "# Second session to test loading trained model without tensors.\n",
        "x_test = x_test.astype(np.float32)\n",
        "x_test = np.expand_dims(x_test, -1)\n",
        "\n",
        "x_test_inp = layers.Input(shape=x_test.shape[1:])\n",
        "test_out = cnn_layers(x_test_inp)\n",
        "test_model = keras.models.Model(inputs=x_test_inp, outputs=test_out)\n",
        "\n",
        "weight_path = os.path.join(tempfile.gettempdir(), 'saved_Inception_wt.h5')\n",
        "test_model.load_weights(weight_path)\n",
        "\n",
        "test_model.compile(optimizer='rmsprop',\n",
        "                   loss='sparse_categorical_crossentropy',\n",
        "                   metrics=['accuracy'])\n",
        "test_model.summary()\n",
        "\n",
        "SVG(model_to_dot(test_model).create(prog='dot', format='svg'))\n",
        "\n",
        "loss, acc = test_model.evaluate(x_test, y_test, num_classes)\n",
        "print('\\nTest accuracy: {0}'.format(acc))"
      ]
    },
    {
      "cell_type": "markdown",
      "metadata": {
        "id": "NsNH-ffHfF4R"
      },
      "source": [
        "**Residual connections - ResNET**\n",
        "Residual connections or ResNET are a common graph-like network component found in many post-2015 network architectures, including Xception. They were introduced by He et al. from Microsoft and are figthing two common problems with large-scale deep-learning model: vanishing gradients and representational bottlenecks.\n",
        "\n",
        "A residual connection consists of making the output of an earlier layer available as input to a later layer, effectively creating a shortcut in a sequential network. Rather than being concatenated to the later activation, the earlier output is summed with the later activation, which assumes that both activations are the same size. If they’re different sizes, you can use a linear transformation to reshape the earlier activation into the target shape (for example, a Dense layer without an activation or, for convolutional feature maps, a 1 × 1 convolution without an activation).\n",
        "\n",
        "ResNET implementation when the feature-map sizes are the same\n",
        "Here’s how to implement a residual connection in Keras when the feature-map sizes are the same, using identity residual connections. This example assumes the existence of a 4D input tensor x:"
      ]
    },
    {
      "cell_type": "code",
      "execution_count": 18,
      "metadata": {
        "id": "1yDmb2unfKnI",
        "colab": {
          "base_uri": "https://localhost:8080/"
        },
        "outputId": "97fea854-2871-493b-c6d8-73a75b5917ef"
      },
      "outputs": [
        {
          "output_type": "stream",
          "name": "stdout",
          "text": [
            "x.shape: (None, 28, 28, 1)\n"
          ]
        }
      ],
      "source": [
        "from keras import layers \n",
        "from keras.layers import Input\n",
        "\n",
        "# This example assumes the existence of a 4D input tensor x:\n",
        "# This returns a typical image tensor like those of MNIST dataset \n",
        "x = Input(shape=(28, 28, 1), dtype='float32', name='images')\n",
        "print(\"x.shape:\",x.shape)\n",
        "\n",
        "# Applies a transformation to x\n",
        "y = layers.Conv2D(128, 3, activation='relu', padding='same')(x)\n",
        "y = layers.Conv2D(128, 3, activation='relu', padding='same')(y)\n",
        "y = layers.Conv2D(128, 3, activation='relu', padding='same')(y)\n",
        "\n",
        "# Adds the original x back to the output features\n",
        "output = layers.add([y, x])\n",
        "\n",
        "# Adding a classifier on top of the convnet\n",
        "output = layers.Flatten()(output)\n",
        "output = layers.Dense(512, activation='relu')(output)\n",
        "predictions = layers.Dense(10, activation='softmax')(output)"
      ]
    },
    {
      "cell_type": "code",
      "execution_count": 19,
      "metadata": {
        "id": "x5ZSlN0_fOmR",
        "colab": {
          "base_uri": "https://localhost:8080/",
          "height": 1000
        },
        "outputId": "cab6de6d-bba1-4fd8-f31a-f55548cb59d1"
      },
      "outputs": [
        {
          "output_type": "stream",
          "name": "stdout",
          "text": [
            "Model: \"model_4\"\n",
            "__________________________________________________________________________________________________\n",
            " Layer (type)                   Output Shape         Param #     Connected to                     \n",
            "==================================================================================================\n",
            " input_2 (InputLayer)           [(128, 28, 28, 1)]   0           []                               \n",
            "                                                                                                  \n",
            " conv2d_11 (Conv2D)             (128, 28, 28, 128)   256         ['input_2[0][0]']                \n",
            "                                                                                                  \n",
            " conv2d_8 (Conv2D)              (128, 28, 28, 128)   256         ['input_2[0][0]']                \n",
            "                                                                                                  \n",
            " average_pooling2d_1 (AveragePo  (128, 14, 14, 1)    0           ['input_2[0][0]']                \n",
            " oling2D)                                                                                         \n",
            "                                                                                                  \n",
            " conv2d_12 (Conv2D)             (128, 28, 28, 128)   147584      ['conv2d_11[0][0]']              \n",
            "                                                                                                  \n",
            " conv2d_7 (Conv2D)              (128, 14, 14, 128)   256         ['input_2[0][0]']                \n",
            "                                                                                                  \n",
            " conv2d_9 (Conv2D)              (128, 14, 14, 128)   147584      ['conv2d_8[0][0]']               \n",
            "                                                                                                  \n",
            " conv2d_10 (Conv2D)             (128, 14, 14, 128)   1280        ['average_pooling2d_1[0][0]']    \n",
            "                                                                                                  \n",
            " conv2d_13 (Conv2D)             (128, 14, 14, 128)   147584      ['conv2d_12[0][0]']              \n",
            "                                                                                                  \n",
            " concatenate_2 (Concatenate)    (128, 14, 14, 512)   0           ['conv2d_7[0][0]',               \n",
            "                                                                  'conv2d_9[0][0]',               \n",
            "                                                                  'conv2d_10[0][0]',              \n",
            "                                                                  'conv2d_13[0][0]']              \n",
            "                                                                                                  \n",
            " flatten_1 (Flatten)            (128, 100352)        0           ['concatenate_2[0][0]']          \n",
            "                                                                                                  \n",
            " dense_10 (Dense)               (128, 512)           51380736    ['flatten_1[0][0]']              \n",
            "                                                                                                  \n",
            " dense_11 (Dense)               (128, 10)            5130        ['dense_10[0][0]']               \n",
            "                                                                                                  \n",
            "==================================================================================================\n",
            "Total params: 51,830,666\n",
            "Trainable params: 51,830,666\n",
            "Non-trainable params: 0\n",
            "__________________________________________________________________________________________________\n"
          ]
        },
        {
          "output_type": "execute_result",
          "data": {
            "text/plain": [
              "<IPython.core.display.SVG object>"
            ],
            "image/svg+xml": "<svg height=\"848pt\" viewBox=\"0.00 0.00 1364.50 636.00\" width=\"1819pt\" xmlns=\"http://www.w3.org/2000/svg\" xmlns:xlink=\"http://www.w3.org/1999/xlink\">\n<g class=\"graph\" id=\"graph0\" transform=\"scale(1.3333 1.3333) rotate(0) translate(4 632)\">\n<title>G</title>\n<polygon fill=\"#ffffff\" points=\"-4,4 -4,-632 1360.5,-632 1360.5,4 -4,4\" stroke=\"transparent\"/>\n<!-- 139783300896912 -->\n<g class=\"node\" id=\"node1\">\n<title>139783300896912</title>\n<polygon fill=\"none\" points=\"615.5,-581.5 615.5,-627.5 987.5,-627.5 987.5,-581.5 615.5,-581.5\" stroke=\"#000000\"/>\n<text fill=\"#000000\" font-family=\"Times,serif\" font-size=\"14.00\" text-anchor=\"middle\" x=\"655.5\" y=\"-612.3\">input_2</text>\n<polyline fill=\"none\" points=\"615.5,-604.5 695.5,-604.5 \" stroke=\"#000000\"/>\n<text fill=\"#000000\" font-family=\"Times,serif\" font-size=\"14.00\" text-anchor=\"middle\" x=\"655.5\" y=\"-589.3\">InputLayer</text>\n<polyline fill=\"none\" points=\"695.5,-581.5 695.5,-627.5 \" stroke=\"#000000\"/>\n<text fill=\"#000000\" font-family=\"Times,serif\" font-size=\"14.00\" text-anchor=\"middle\" x=\"724.5\" y=\"-612.3\">input:</text>\n<polyline fill=\"none\" points=\"695.5,-604.5 753.5,-604.5 \" stroke=\"#000000\"/>\n<text fill=\"#000000\" font-family=\"Times,serif\" font-size=\"14.00\" text-anchor=\"middle\" x=\"724.5\" y=\"-589.3\">output:</text>\n<polyline fill=\"none\" points=\"753.5,-581.5 753.5,-627.5 \" stroke=\"#000000\"/>\n<text fill=\"#000000\" font-family=\"Times,serif\" font-size=\"14.00\" text-anchor=\"middle\" x=\"812\" y=\"-600.8\">[(128, 28, 28, 1)]</text>\n<polyline fill=\"none\" points=\"870.5,-581.5 870.5,-627.5 \" stroke=\"#000000\"/>\n<text fill=\"#000000\" font-family=\"Times,serif\" font-size=\"14.00\" text-anchor=\"middle\" x=\"929\" y=\"-600.8\">[(128, 28, 28, 1)]</text>\n</g>\n<!-- 139783302580816 -->\n<g class=\"node\" id=\"node2\">\n<title>139783302580816</title>\n<polygon fill=\"none\" points=\"130,-498.5 130,-544.5 501,-544.5 501,-498.5 130,-498.5\" stroke=\"#000000\"/>\n<text fill=\"#000000\" font-family=\"Times,serif\" font-size=\"14.00\" text-anchor=\"middle\" x=\"171\" y=\"-529.3\">conv2d_11</text>\n<polyline fill=\"none\" points=\"130,-521.5 212,-521.5 \" stroke=\"#000000\"/>\n<text fill=\"#000000\" font-family=\"Times,serif\" font-size=\"14.00\" text-anchor=\"middle\" x=\"171\" y=\"-506.3\">Conv2D</text>\n<polyline fill=\"none\" points=\"212,-498.5 212,-544.5 \" stroke=\"#000000\"/>\n<text fill=\"#000000\" font-family=\"Times,serif\" font-size=\"14.00\" text-anchor=\"middle\" x=\"241\" y=\"-529.3\">input:</text>\n<polyline fill=\"none\" points=\"212,-521.5 270,-521.5 \" stroke=\"#000000\"/>\n<text fill=\"#000000\" font-family=\"Times,serif\" font-size=\"14.00\" text-anchor=\"middle\" x=\"241\" y=\"-506.3\">output:</text>\n<polyline fill=\"none\" points=\"270,-498.5 270,-544.5 \" stroke=\"#000000\"/>\n<text fill=\"#000000\" font-family=\"Times,serif\" font-size=\"14.00\" text-anchor=\"middle\" x=\"324\" y=\"-517.8\">(128, 28, 28, 1)</text>\n<polyline fill=\"none\" points=\"378,-498.5 378,-544.5 \" stroke=\"#000000\"/>\n<text fill=\"#000000\" font-family=\"Times,serif\" font-size=\"14.00\" text-anchor=\"middle\" x=\"439.5\" y=\"-517.8\">(128, 28, 28, 128)</text>\n</g>\n<!-- 139783300896912&#45;&gt;139783302580816 -->\n<g class=\"edge\" id=\"edge1\">\n<title>139783300896912-&gt;139783302580816</title>\n<path d=\"M666.7673,-581.4901C602.6394,-570.5382 525.8664,-557.4268 460.4725,-546.2587\" fill=\"none\" stroke=\"#000000\"/>\n<polygon fill=\"#000000\" points=\"460.9413,-542.7881 450.4948,-544.5547 459.7628,-549.6882 460.9413,-542.7881\" stroke=\"#000000\"/>\n</g>\n<!-- 139783298736464 -->\n<g class=\"node\" id=\"node3\">\n<title>139783298736464</title>\n<polygon fill=\"none\" points=\"405.5,-415.5 405.5,-461.5 769.5,-461.5 769.5,-415.5 405.5,-415.5\" stroke=\"#000000\"/>\n<text fill=\"#000000\" font-family=\"Times,serif\" font-size=\"14.00\" text-anchor=\"middle\" x=\"443\" y=\"-446.3\">conv2d_8</text>\n<polyline fill=\"none\" points=\"405.5,-438.5 480.5,-438.5 \" stroke=\"#000000\"/>\n<text fill=\"#000000\" font-family=\"Times,serif\" font-size=\"14.00\" text-anchor=\"middle\" x=\"443\" y=\"-423.3\">Conv2D</text>\n<polyline fill=\"none\" points=\"480.5,-415.5 480.5,-461.5 \" stroke=\"#000000\"/>\n<text fill=\"#000000\" font-family=\"Times,serif\" font-size=\"14.00\" text-anchor=\"middle\" x=\"509.5\" y=\"-446.3\">input:</text>\n<polyline fill=\"none\" points=\"480.5,-438.5 538.5,-438.5 \" stroke=\"#000000\"/>\n<text fill=\"#000000\" font-family=\"Times,serif\" font-size=\"14.00\" text-anchor=\"middle\" x=\"509.5\" y=\"-423.3\">output:</text>\n<polyline fill=\"none\" points=\"538.5,-415.5 538.5,-461.5 \" stroke=\"#000000\"/>\n<text fill=\"#000000\" font-family=\"Times,serif\" font-size=\"14.00\" text-anchor=\"middle\" x=\"592.5\" y=\"-434.8\">(128, 28, 28, 1)</text>\n<polyline fill=\"none\" points=\"646.5,-415.5 646.5,-461.5 \" stroke=\"#000000\"/>\n<text fill=\"#000000\" font-family=\"Times,serif\" font-size=\"14.00\" text-anchor=\"middle\" x=\"708\" y=\"-434.8\">(128, 28, 28, 128)</text>\n</g>\n<!-- 139783300896912&#45;&gt;139783298736464 -->\n<g class=\"edge\" id=\"edge2\">\n<title>139783300896912-&gt;139783298736464</title>\n<path d=\"M733.448,-581.3665C711.7237,-572.0769 688.429,-559.9678 669.5,-545 643.3222,-524.3003 620.8013,-493.4904 606.0214,-470.3269\" fill=\"none\" stroke=\"#000000\"/>\n<polygon fill=\"#000000\" points=\"608.8117,-468.1865 600.5543,-461.5482 602.8697,-471.8869 608.8117,-468.1865\" stroke=\"#000000\"/>\n</g>\n<!-- 139783300787664 -->\n<g class=\"node\" id=\"node4\">\n<title>139783300787664</title>\n<polygon fill=\"none\" points=\"679,-498.5 679,-544.5 1096,-544.5 1096,-498.5 679,-498.5\" stroke=\"#000000\"/>\n<text fill=\"#000000\" font-family=\"Times,serif\" font-size=\"14.00\" text-anchor=\"middle\" x=\"750.5\" y=\"-529.3\">average_pooling2d_1</text>\n<polyline fill=\"none\" points=\"679,-521.5 822,-521.5 \" stroke=\"#000000\"/>\n<text fill=\"#000000\" font-family=\"Times,serif\" font-size=\"14.00\" text-anchor=\"middle\" x=\"750.5\" y=\"-506.3\">AveragePooling2D</text>\n<polyline fill=\"none\" points=\"822,-498.5 822,-544.5 \" stroke=\"#000000\"/>\n<text fill=\"#000000\" font-family=\"Times,serif\" font-size=\"14.00\" text-anchor=\"middle\" x=\"851\" y=\"-529.3\">input:</text>\n<polyline fill=\"none\" points=\"822,-521.5 880,-521.5 \" stroke=\"#000000\"/>\n<text fill=\"#000000\" font-family=\"Times,serif\" font-size=\"14.00\" text-anchor=\"middle\" x=\"851\" y=\"-506.3\">output:</text>\n<polyline fill=\"none\" points=\"880,-498.5 880,-544.5 \" stroke=\"#000000\"/>\n<text fill=\"#000000\" font-family=\"Times,serif\" font-size=\"14.00\" text-anchor=\"middle\" x=\"934\" y=\"-517.8\">(128, 28, 28, 1)</text>\n<polyline fill=\"none\" points=\"988,-498.5 988,-544.5 \" stroke=\"#000000\"/>\n<text fill=\"#000000\" font-family=\"Times,serif\" font-size=\"14.00\" text-anchor=\"middle\" x=\"1042\" y=\"-517.8\">(128, 14, 14, 1)</text>\n</g>\n<!-- 139783300896912&#45;&gt;139783300787664 -->\n<g class=\"edge\" id=\"edge3\">\n<title>139783300896912-&gt;139783300787664</title>\n<path d=\"M825.4558,-581.3799C834.8818,-572.2827 845.8379,-561.7088 855.8971,-552.0005\" fill=\"none\" stroke=\"#000000\"/>\n<polygon fill=\"#000000\" points=\"858.6095,-554.2469 863.3744,-544.784 853.7484,-549.2101 858.6095,-554.2469\" stroke=\"#000000\"/>\n</g>\n<!-- 139783298694736 -->\n<g class=\"node\" id=\"node6\">\n<title>139783298694736</title>\n<polygon fill=\"none\" points=\"992.5,-332.5 992.5,-378.5 1356.5,-378.5 1356.5,-332.5 992.5,-332.5\" stroke=\"#000000\"/>\n<text fill=\"#000000\" font-family=\"Times,serif\" font-size=\"14.00\" text-anchor=\"middle\" x=\"1030\" y=\"-363.3\">conv2d_7</text>\n<polyline fill=\"none\" points=\"992.5,-355.5 1067.5,-355.5 \" stroke=\"#000000\"/>\n<text fill=\"#000000\" font-family=\"Times,serif\" font-size=\"14.00\" text-anchor=\"middle\" x=\"1030\" y=\"-340.3\">Conv2D</text>\n<polyline fill=\"none\" points=\"1067.5,-332.5 1067.5,-378.5 \" stroke=\"#000000\"/>\n<text fill=\"#000000\" font-family=\"Times,serif\" font-size=\"14.00\" text-anchor=\"middle\" x=\"1096.5\" y=\"-363.3\">input:</text>\n<polyline fill=\"none\" points=\"1067.5,-355.5 1125.5,-355.5 \" stroke=\"#000000\"/>\n<text fill=\"#000000\" font-family=\"Times,serif\" font-size=\"14.00\" text-anchor=\"middle\" x=\"1096.5\" y=\"-340.3\">output:</text>\n<polyline fill=\"none\" points=\"1125.5,-332.5 1125.5,-378.5 \" stroke=\"#000000\"/>\n<text fill=\"#000000\" font-family=\"Times,serif\" font-size=\"14.00\" text-anchor=\"middle\" x=\"1179.5\" y=\"-351.8\">(128, 28, 28, 1)</text>\n<polyline fill=\"none\" points=\"1233.5,-332.5 1233.5,-378.5 \" stroke=\"#000000\"/>\n<text fill=\"#000000\" font-family=\"Times,serif\" font-size=\"14.00\" text-anchor=\"middle\" x=\"1295\" y=\"-351.8\">(128, 14, 14, 128)</text>\n</g>\n<!-- 139783300896912&#45;&gt;139783298694736 -->\n<g class=\"edge\" id=\"edge5\">\n<title>139783300896912-&gt;139783298694736</title>\n<path d=\"M972.8764,-581.4946C1028.1635,-571.8095 1081.1908,-559.417 1104.5,-545 1144.1165,-520.4967 1152.2401,-505.6519 1168.5,-462 1177.182,-438.692 1178.4056,-410.5266 1177.6071,-389.0161\" fill=\"none\" stroke=\"#000000\"/>\n<polygon fill=\"#000000\" points=\"1181.0865,-388.537 1177.0554,-378.739 1174.0966,-388.9122 1181.0865,-388.537\" stroke=\"#000000\"/>\n</g>\n<!-- 139783298773968 -->\n<g class=\"node\" id=\"node5\">\n<title>139783298773968</title>\n<polygon fill=\"none\" points=\"0,-415.5 0,-461.5 387,-461.5 387,-415.5 0,-415.5\" stroke=\"#000000\"/>\n<text fill=\"#000000\" font-family=\"Times,serif\" font-size=\"14.00\" text-anchor=\"middle\" x=\"41.5\" y=\"-446.3\">conv2d_12</text>\n<polyline fill=\"none\" points=\"0,-438.5 83,-438.5 \" stroke=\"#000000\"/>\n<text fill=\"#000000\" font-family=\"Times,serif\" font-size=\"14.00\" text-anchor=\"middle\" x=\"41.5\" y=\"-423.3\">Conv2D</text>\n<polyline fill=\"none\" points=\"83,-415.5 83,-461.5 \" stroke=\"#000000\"/>\n<text fill=\"#000000\" font-family=\"Times,serif\" font-size=\"14.00\" text-anchor=\"middle\" x=\"112\" y=\"-446.3\">input:</text>\n<polyline fill=\"none\" points=\"83,-438.5 141,-438.5 \" stroke=\"#000000\"/>\n<text fill=\"#000000\" font-family=\"Times,serif\" font-size=\"14.00\" text-anchor=\"middle\" x=\"112\" y=\"-423.3\">output:</text>\n<polyline fill=\"none\" points=\"141,-415.5 141,-461.5 \" stroke=\"#000000\"/>\n<text fill=\"#000000\" font-family=\"Times,serif\" font-size=\"14.00\" text-anchor=\"middle\" x=\"202.5\" y=\"-434.8\">(128, 28, 28, 128)</text>\n<polyline fill=\"none\" points=\"264,-415.5 264,-461.5 \" stroke=\"#000000\"/>\n<text fill=\"#000000\" font-family=\"Times,serif\" font-size=\"14.00\" text-anchor=\"middle\" x=\"325.5\" y=\"-434.8\">(128, 28, 28, 128)</text>\n</g>\n<!-- 139783302580816&#45;&gt;139783298773968 -->\n<g class=\"edge\" id=\"edge4\">\n<title>139783302580816-&gt;139783298773968</title>\n<path d=\"M281.5162,-498.3799C267.4889,-488.8367 251.0731,-477.6686 236.2431,-467.5793\" fill=\"none\" stroke=\"#000000\"/>\n<polygon fill=\"#000000\" points=\"237.9615,-464.5152 227.7247,-461.784 234.024,-470.3028 237.9615,-464.5152\" stroke=\"#000000\"/>\n</g>\n<!-- 139783301400976 -->\n<g class=\"node\" id=\"node7\">\n<title>139783301400976</title>\n<polygon fill=\"none\" points=\"526,-332.5 526,-378.5 905,-378.5 905,-332.5 526,-332.5\" stroke=\"#000000\"/>\n<text fill=\"#000000\" font-family=\"Times,serif\" font-size=\"14.00\" text-anchor=\"middle\" x=\"563.5\" y=\"-363.3\">conv2d_9</text>\n<polyline fill=\"none\" points=\"526,-355.5 601,-355.5 \" stroke=\"#000000\"/>\n<text fill=\"#000000\" font-family=\"Times,serif\" font-size=\"14.00\" text-anchor=\"middle\" x=\"563.5\" y=\"-340.3\">Conv2D</text>\n<polyline fill=\"none\" points=\"601,-332.5 601,-378.5 \" stroke=\"#000000\"/>\n<text fill=\"#000000\" font-family=\"Times,serif\" font-size=\"14.00\" text-anchor=\"middle\" x=\"630\" y=\"-363.3\">input:</text>\n<polyline fill=\"none\" points=\"601,-355.5 659,-355.5 \" stroke=\"#000000\"/>\n<text fill=\"#000000\" font-family=\"Times,serif\" font-size=\"14.00\" text-anchor=\"middle\" x=\"630\" y=\"-340.3\">output:</text>\n<polyline fill=\"none\" points=\"659,-332.5 659,-378.5 \" stroke=\"#000000\"/>\n<text fill=\"#000000\" font-family=\"Times,serif\" font-size=\"14.00\" text-anchor=\"middle\" x=\"720.5\" y=\"-351.8\">(128, 28, 28, 128)</text>\n<polyline fill=\"none\" points=\"782,-332.5 782,-378.5 \" stroke=\"#000000\"/>\n<text fill=\"#000000\" font-family=\"Times,serif\" font-size=\"14.00\" text-anchor=\"middle\" x=\"843.5\" y=\"-351.8\">(128, 14, 14, 128)</text>\n</g>\n<!-- 139783298736464&#45;&gt;139783301400976 -->\n<g class=\"edge\" id=\"edge6\">\n<title>139783298736464-&gt;139783301400976</title>\n<path d=\"M623.1551,-415.3799C638.0098,-405.7475 655.4176,-394.4597 671.0906,-384.2967\" fill=\"none\" stroke=\"#000000\"/>\n<polygon fill=\"#000000\" points=\"673.1059,-387.1614 679.5921,-378.784 669.2975,-381.2881 673.1059,-387.1614\" stroke=\"#000000\"/>\n</g>\n<!-- 139783298781840 -->\n<g class=\"node\" id=\"node8\">\n<title>139783298781840</title>\n<polygon fill=\"none\" points=\"787.5,-415.5 787.5,-461.5 1159.5,-461.5 1159.5,-415.5 787.5,-415.5\" stroke=\"#000000\"/>\n<text fill=\"#000000\" font-family=\"Times,serif\" font-size=\"14.00\" text-anchor=\"middle\" x=\"829\" y=\"-446.3\">conv2d_10</text>\n<polyline fill=\"none\" points=\"787.5,-438.5 870.5,-438.5 \" stroke=\"#000000\"/>\n<text fill=\"#000000\" font-family=\"Times,serif\" font-size=\"14.00\" text-anchor=\"middle\" x=\"829\" y=\"-423.3\">Conv2D</text>\n<polyline fill=\"none\" points=\"870.5,-415.5 870.5,-461.5 \" stroke=\"#000000\"/>\n<text fill=\"#000000\" font-family=\"Times,serif\" font-size=\"14.00\" text-anchor=\"middle\" x=\"899.5\" y=\"-446.3\">input:</text>\n<polyline fill=\"none\" points=\"870.5,-438.5 928.5,-438.5 \" stroke=\"#000000\"/>\n<text fill=\"#000000\" font-family=\"Times,serif\" font-size=\"14.00\" text-anchor=\"middle\" x=\"899.5\" y=\"-423.3\">output:</text>\n<polyline fill=\"none\" points=\"928.5,-415.5 928.5,-461.5 \" stroke=\"#000000\"/>\n<text fill=\"#000000\" font-family=\"Times,serif\" font-size=\"14.00\" text-anchor=\"middle\" x=\"982.5\" y=\"-434.8\">(128, 14, 14, 1)</text>\n<polyline fill=\"none\" points=\"1036.5,-415.5 1036.5,-461.5 \" stroke=\"#000000\"/>\n<text fill=\"#000000\" font-family=\"Times,serif\" font-size=\"14.00\" text-anchor=\"middle\" x=\"1098\" y=\"-434.8\">(128, 14, 14, 128)</text>\n</g>\n<!-- 139783300787664&#45;&gt;139783298781840 -->\n<g class=\"edge\" id=\"edge7\">\n<title>139783300787664-&gt;139783298781840</title>\n<path d=\"M911.4558,-498.3799C920.8818,-489.2827 931.8379,-478.7088 941.8971,-469.0005\" fill=\"none\" stroke=\"#000000\"/>\n<polygon fill=\"#000000\" points=\"944.6095,-471.2469 949.3744,-461.784 939.7484,-466.2101 944.6095,-471.2469\" stroke=\"#000000\"/>\n</g>\n<!-- 139783305233936 -->\n<g class=\"node\" id=\"node9\">\n<title>139783305233936</title>\n<polygon fill=\"none\" points=\"81,-332.5 81,-378.5 468,-378.5 468,-332.5 81,-332.5\" stroke=\"#000000\"/>\n<text fill=\"#000000\" font-family=\"Times,serif\" font-size=\"14.00\" text-anchor=\"middle\" x=\"122.5\" y=\"-363.3\">conv2d_13</text>\n<polyline fill=\"none\" points=\"81,-355.5 164,-355.5 \" stroke=\"#000000\"/>\n<text fill=\"#000000\" font-family=\"Times,serif\" font-size=\"14.00\" text-anchor=\"middle\" x=\"122.5\" y=\"-340.3\">Conv2D</text>\n<polyline fill=\"none\" points=\"164,-332.5 164,-378.5 \" stroke=\"#000000\"/>\n<text fill=\"#000000\" font-family=\"Times,serif\" font-size=\"14.00\" text-anchor=\"middle\" x=\"193\" y=\"-363.3\">input:</text>\n<polyline fill=\"none\" points=\"164,-355.5 222,-355.5 \" stroke=\"#000000\"/>\n<text fill=\"#000000\" font-family=\"Times,serif\" font-size=\"14.00\" text-anchor=\"middle\" x=\"193\" y=\"-340.3\">output:</text>\n<polyline fill=\"none\" points=\"222,-332.5 222,-378.5 \" stroke=\"#000000\"/>\n<text fill=\"#000000\" font-family=\"Times,serif\" font-size=\"14.00\" text-anchor=\"middle\" x=\"283.5\" y=\"-351.8\">(128, 28, 28, 128)</text>\n<polyline fill=\"none\" points=\"345,-332.5 345,-378.5 \" stroke=\"#000000\"/>\n<text fill=\"#000000\" font-family=\"Times,serif\" font-size=\"14.00\" text-anchor=\"middle\" x=\"406.5\" y=\"-351.8\">(128, 14, 14, 128)</text>\n</g>\n<!-- 139783298773968&#45;&gt;139783305233936 -->\n<g class=\"edge\" id=\"edge8\">\n<title>139783298773968-&gt;139783305233936</title>\n<path d=\"M216.063,-415.3799C224.941,-406.2827 235.2601,-395.7088 244.7345,-386.0005\" fill=\"none\" stroke=\"#000000\"/>\n<polygon fill=\"#000000\" points=\"247.2976,-388.3853 251.7771,-378.784 242.2878,-383.4963 247.2976,-388.3853\" stroke=\"#000000\"/>\n</g>\n<!-- 139783305943440 -->\n<g class=\"node\" id=\"node10\">\n<title>139783305943440</title>\n<polygon fill=\"none\" points=\"457,-249.5 457,-295.5 1210,-295.5 1210,-249.5 457,-249.5\" stroke=\"#000000\"/>\n<text fill=\"#000000\" font-family=\"Times,serif\" font-size=\"14.00\" text-anchor=\"middle\" x=\"506\" y=\"-280.3\">concatenate_2</text>\n<polyline fill=\"none\" points=\"457,-272.5 555,-272.5 \" stroke=\"#000000\"/>\n<text fill=\"#000000\" font-family=\"Times,serif\" font-size=\"14.00\" text-anchor=\"middle\" x=\"506\" y=\"-257.3\">Concatenate</text>\n<polyline fill=\"none\" points=\"555,-249.5 555,-295.5 \" stroke=\"#000000\"/>\n<text fill=\"#000000\" font-family=\"Times,serif\" font-size=\"14.00\" text-anchor=\"middle\" x=\"584\" y=\"-280.3\">input:</text>\n<polyline fill=\"none\" points=\"555,-272.5 613,-272.5 \" stroke=\"#000000\"/>\n<text fill=\"#000000\" font-family=\"Times,serif\" font-size=\"14.00\" text-anchor=\"middle\" x=\"584\" y=\"-257.3\">output:</text>\n<polyline fill=\"none\" points=\"613,-249.5 613,-295.5 \" stroke=\"#000000\"/>\n<text fill=\"#000000\" font-family=\"Times,serif\" font-size=\"14.00\" text-anchor=\"middle\" x=\"850\" y=\"-268.8\">[(128, 14, 14, 128), (128, 14, 14, 128), (128, 14, 14, 128), (128, 14, 14, 128)]</text>\n<polyline fill=\"none\" points=\"1087,-249.5 1087,-295.5 \" stroke=\"#000000\"/>\n<text fill=\"#000000\" font-family=\"Times,serif\" font-size=\"14.00\" text-anchor=\"middle\" x=\"1148.5\" y=\"-268.8\">(128, 14, 14, 512)</text>\n</g>\n<!-- 139783298694736&#45;&gt;139783305943440 -->\n<g class=\"edge\" id=\"edge9\">\n<title>139783298694736-&gt;139783305943440</title>\n<path d=\"M1079.9653,-332.4901C1035.8941,-321.7631 983.3113,-308.9643 938.0558,-297.9491\" fill=\"none\" stroke=\"#000000\"/>\n<polygon fill=\"#000000\" points=\"938.7627,-294.519 928.2186,-295.5547 937.1071,-301.3204 938.7627,-294.519\" stroke=\"#000000\"/>\n</g>\n<!-- 139783301400976&#45;&gt;139783305943440 -->\n<g class=\"edge\" id=\"edge10\">\n<title>139783301400976-&gt;139783305943440</title>\n<path d=\"M748.3696,-332.3799C761.937,-322.8367 777.8145,-311.6686 792.1583,-301.5793\" fill=\"none\" stroke=\"#000000\"/>\n<polygon fill=\"#000000\" points=\"794.2318,-304.4 800.3974,-295.784 790.2045,-298.6745 794.2318,-304.4\" stroke=\"#000000\"/>\n</g>\n<!-- 139783298781840&#45;&gt;139783305943440 -->\n<g class=\"edge\" id=\"edge11\">\n<title>139783298781840-&gt;139783305943440</title>\n<path d=\"M963.7923,-415.1219C953.5484,-392.2706 935.8049,-357.3195 913.5,-332 903.6458,-320.8139 891.3674,-310.4201 879.4113,-301.5515\" fill=\"none\" stroke=\"#000000\"/>\n<polygon fill=\"#000000\" points=\"881.3823,-298.6579 871.2192,-295.6643 877.2973,-304.3423 881.3823,-298.6579\" stroke=\"#000000\"/>\n</g>\n<!-- 139783305233936&#45;&gt;139783305943440 -->\n<g class=\"edge\" id=\"edge12\">\n<title>139783305233936-&gt;139783305943440</title>\n<path d=\"M429.4703,-332.4901C503.685,-321.4707 592.6238,-308.2652 668.1403,-297.0525\" fill=\"none\" stroke=\"#000000\"/>\n<polygon fill=\"#000000\" points=\"668.8507,-300.4855 678.2282,-295.5547 667.8226,-293.5614 668.8507,-300.4855\" stroke=\"#000000\"/>\n</g>\n<!-- 139783305278352 -->\n<g class=\"node\" id=\"node11\">\n<title>139783305278352</title>\n<polygon fill=\"none\" points=\"659,-166.5 659,-212.5 1008,-212.5 1008,-166.5 659,-166.5\" stroke=\"#000000\"/>\n<text fill=\"#000000\" font-family=\"Times,serif\" font-size=\"14.00\" text-anchor=\"middle\" x=\"692.5\" y=\"-197.3\">flatten_1</text>\n<polyline fill=\"none\" points=\"659,-189.5 726,-189.5 \" stroke=\"#000000\"/>\n<text fill=\"#000000\" font-family=\"Times,serif\" font-size=\"14.00\" text-anchor=\"middle\" x=\"692.5\" y=\"-174.3\">Flatten</text>\n<polyline fill=\"none\" points=\"726,-166.5 726,-212.5 \" stroke=\"#000000\"/>\n<text fill=\"#000000\" font-family=\"Times,serif\" font-size=\"14.00\" text-anchor=\"middle\" x=\"755\" y=\"-197.3\">input:</text>\n<polyline fill=\"none\" points=\"726,-189.5 784,-189.5 \" stroke=\"#000000\"/>\n<text fill=\"#000000\" font-family=\"Times,serif\" font-size=\"14.00\" text-anchor=\"middle\" x=\"755\" y=\"-174.3\">output:</text>\n<polyline fill=\"none\" points=\"784,-166.5 784,-212.5 \" stroke=\"#000000\"/>\n<text fill=\"#000000\" font-family=\"Times,serif\" font-size=\"14.00\" text-anchor=\"middle\" x=\"845.5\" y=\"-185.8\">(128, 14, 14, 512)</text>\n<polyline fill=\"none\" points=\"907,-166.5 907,-212.5 \" stroke=\"#000000\"/>\n<text fill=\"#000000\" font-family=\"Times,serif\" font-size=\"14.00\" text-anchor=\"middle\" x=\"957.5\" y=\"-185.8\">(128, 100352)</text>\n</g>\n<!-- 139783305943440&#45;&gt;139783305278352 -->\n<g class=\"edge\" id=\"edge13\">\n<title>139783305943440-&gt;139783305278352</title>\n<path d=\"M833.5,-249.3799C833.5,-241.1745 833.5,-231.7679 833.5,-222.8786\" fill=\"none\" stroke=\"#000000\"/>\n<polygon fill=\"#000000\" points=\"837.0001,-222.784 833.5,-212.784 830.0001,-222.784 837.0001,-222.784\" stroke=\"#000000\"/>\n</g>\n<!-- 139783305319184 -->\n<g class=\"node\" id=\"node12\">\n<title>139783305319184</title>\n<polygon fill=\"none\" points=\"679.5,-83.5 679.5,-129.5 987.5,-129.5 987.5,-83.5 679.5,-83.5\" stroke=\"#000000\"/>\n<text fill=\"#000000\" font-family=\"Times,serif\" font-size=\"14.00\" text-anchor=\"middle\" x=\"715\" y=\"-114.3\">dense_10</text>\n<polyline fill=\"none\" points=\"679.5,-106.5 750.5,-106.5 \" stroke=\"#000000\"/>\n<text fill=\"#000000\" font-family=\"Times,serif\" font-size=\"14.00\" text-anchor=\"middle\" x=\"715\" y=\"-91.3\">Dense</text>\n<polyline fill=\"none\" points=\"750.5,-83.5 750.5,-129.5 \" stroke=\"#000000\"/>\n<text fill=\"#000000\" font-family=\"Times,serif\" font-size=\"14.00\" text-anchor=\"middle\" x=\"779.5\" y=\"-114.3\">input:</text>\n<polyline fill=\"none\" points=\"750.5,-106.5 808.5,-106.5 \" stroke=\"#000000\"/>\n<text fill=\"#000000\" font-family=\"Times,serif\" font-size=\"14.00\" text-anchor=\"middle\" x=\"779.5\" y=\"-91.3\">output:</text>\n<polyline fill=\"none\" points=\"808.5,-83.5 808.5,-129.5 \" stroke=\"#000000\"/>\n<text fill=\"#000000\" font-family=\"Times,serif\" font-size=\"14.00\" text-anchor=\"middle\" x=\"859\" y=\"-102.8\">(128, 100352)</text>\n<polyline fill=\"none\" points=\"909.5,-83.5 909.5,-129.5 \" stroke=\"#000000\"/>\n<text fill=\"#000000\" font-family=\"Times,serif\" font-size=\"14.00\" text-anchor=\"middle\" x=\"948.5\" y=\"-102.8\">(128, 512)</text>\n</g>\n<!-- 139783305278352&#45;&gt;139783305319184 -->\n<g class=\"edge\" id=\"edge14\">\n<title>139783305278352-&gt;139783305319184</title>\n<path d=\"M833.5,-166.3799C833.5,-158.1745 833.5,-148.7679 833.5,-139.8786\" fill=\"none\" stroke=\"#000000\"/>\n<polygon fill=\"#000000\" points=\"837.0001,-139.784 833.5,-129.784 830.0001,-139.784 837.0001,-139.784\" stroke=\"#000000\"/>\n</g>\n<!-- 139783298776080 -->\n<g class=\"node\" id=\"node13\">\n<title>139783298776080</title>\n<polygon fill=\"none\" points=\"694.5,-.5 694.5,-46.5 972.5,-46.5 972.5,-.5 694.5,-.5\" stroke=\"#000000\"/>\n<text fill=\"#000000\" font-family=\"Times,serif\" font-size=\"14.00\" text-anchor=\"middle\" x=\"730\" y=\"-31.3\">dense_11</text>\n<polyline fill=\"none\" points=\"694.5,-23.5 765.5,-23.5 \" stroke=\"#000000\"/>\n<text fill=\"#000000\" font-family=\"Times,serif\" font-size=\"14.00\" text-anchor=\"middle\" x=\"730\" y=\"-8.3\">Dense</text>\n<polyline fill=\"none\" points=\"765.5,-.5 765.5,-46.5 \" stroke=\"#000000\"/>\n<text fill=\"#000000\" font-family=\"Times,serif\" font-size=\"14.00\" text-anchor=\"middle\" x=\"794.5\" y=\"-31.3\">input:</text>\n<polyline fill=\"none\" points=\"765.5,-23.5 823.5,-23.5 \" stroke=\"#000000\"/>\n<text fill=\"#000000\" font-family=\"Times,serif\" font-size=\"14.00\" text-anchor=\"middle\" x=\"794.5\" y=\"-8.3\">output:</text>\n<polyline fill=\"none\" points=\"823.5,-.5 823.5,-46.5 \" stroke=\"#000000\"/>\n<text fill=\"#000000\" font-family=\"Times,serif\" font-size=\"14.00\" text-anchor=\"middle\" x=\"862.5\" y=\"-19.8\">(128, 512)</text>\n<polyline fill=\"none\" points=\"901.5,-.5 901.5,-46.5 \" stroke=\"#000000\"/>\n<text fill=\"#000000\" font-family=\"Times,serif\" font-size=\"14.00\" text-anchor=\"middle\" x=\"937\" y=\"-19.8\">(128, 10)</text>\n</g>\n<!-- 139783305319184&#45;&gt;139783298776080 -->\n<g class=\"edge\" id=\"edge15\">\n<title>139783305319184-&gt;139783298776080</title>\n<path d=\"M833.5,-83.3799C833.5,-75.1745 833.5,-65.7679 833.5,-56.8786\" fill=\"none\" stroke=\"#000000\"/>\n<polygon fill=\"#000000\" points=\"837.0001,-56.784 833.5,-46.784 830.0001,-56.784 837.0001,-56.784\" stroke=\"#000000\"/>\n</g>\n</g>\n</svg>"
          },
          "metadata": {},
          "execution_count": 19
        }
      ],
      "source": [
        "model.summary()\n",
        "\n",
        "from IPython.display import SVG\n",
        "from keras.utils.vis_utils import model_to_dot\n",
        "\n",
        "SVG(model_to_dot(model,show_shapes=True).create(prog='dot', format='svg'))"
      ]
    },
    {
      "cell_type": "markdown",
      "metadata": {
        "id": "EIKs2hHxfSnR"
      },
      "source": [
        "**ResNET implementation when the feature-map sizes differ**\n",
        "And the following implements a residual connection when the feature-map sizes differ, using a linear residual connection (again, assuming the existence of a 4D input tensor x):"
      ]
    },
    {
      "cell_type": "code",
      "execution_count": 20,
      "metadata": {
        "id": "qgLRBX1KfYOY",
        "colab": {
          "base_uri": "https://localhost:8080/"
        },
        "outputId": "48c8debd-6283-4cd8-e3c4-49062fb3b0bb"
      },
      "outputs": [
        {
          "output_type": "stream",
          "name": "stdout",
          "text": [
            "x.shape: (None, 28, 28, 1)\n"
          ]
        }
      ],
      "source": [
        "from keras import layers \n",
        "from keras.layers import Input\n",
        "\n",
        "# This example assumes the existence of a 4D input tensor x:\n",
        "# This returns a typical image tensor like those of MNIST dataset \n",
        "x = Input(shape=(28, 28, 1), dtype='float32', name='images')\n",
        "print(\"x.shape:\",x.shape)\n",
        "\n",
        "# Applies a transformation to x\n",
        "y = layers.Conv2D(128, 3, activation='relu', padding='same')(x)\n",
        "y = layers.Conv2D(128, 3, activation='relu', padding='same')(y)\n",
        "y = layers.MaxPooling2D(2, strides=2)(y)\n",
        "\n",
        "# Uses a 1 × 1 convolution to linearly downsample the original x tensor to the same shape as y\n",
        "residual = layers.Conv2D(128, 1, strides=2, padding='same')(x)\n",
        "\n",
        "# Adds the residual tensor back to the output features\n",
        "output = layers.add([y, residual])\n",
        "\n",
        "# Adding a classifier on top of the convnet\n",
        "output = layers.Flatten()(output)\n",
        "output = layers.Dense(512, activation='relu')(output)\n",
        "predictions = layers.Dense(10, activation='softmax')(output)\n",
        "model = keras.models.Model(inputs=x, outputs=predictions)"
      ]
    },
    {
      "cell_type": "code",
      "execution_count": 21,
      "metadata": {
        "id": "Qf-_vNrffbhf",
        "colab": {
          "base_uri": "https://localhost:8080/",
          "height": 1000
        },
        "outputId": "3ff10c99-f598-4ead-b081-253642827187"
      },
      "outputs": [
        {
          "output_type": "stream",
          "name": "stdout",
          "text": [
            "Model: \"model_1\"\n",
            "__________________________________________________________________________________________________\n",
            " Layer (type)                   Output Shape         Param #     Connected to                     \n",
            "==================================================================================================\n",
            " images (InputLayer)            [(None, 28, 28, 1)]  0           []                               \n",
            "                                                                                                  \n",
            " conv2d_10 (Conv2D)             (None, 28, 28, 128)  1280        ['images[0][0]']                 \n",
            "                                                                                                  \n",
            " conv2d_11 (Conv2D)             (None, 28, 28, 128)  147584      ['conv2d_10[0][0]']              \n",
            "                                                                                                  \n",
            " max_pooling2d (MaxPooling2D)   (None, 14, 14, 128)  0           ['conv2d_11[0][0]']              \n",
            "                                                                                                  \n",
            " conv2d_12 (Conv2D)             (None, 14, 14, 128)  256         ['images[0][0]']                 \n",
            "                                                                                                  \n",
            " add_1 (Add)                    (None, 14, 14, 128)  0           ['max_pooling2d[0][0]',          \n",
            "                                                                  'conv2d_12[0][0]']              \n",
            "                                                                                                  \n",
            " flatten_2 (Flatten)            (None, 25088)        0           ['add_1[0][0]']                  \n",
            "                                                                                                  \n",
            " dense_4 (Dense)                (None, 512)          12845568    ['flatten_2[0][0]']              \n",
            "                                                                                                  \n",
            " dense_5 (Dense)                (None, 10)           5130        ['dense_4[0][0]']                \n",
            "                                                                                                  \n",
            "==================================================================================================\n",
            "Total params: 12,999,818\n",
            "Trainable params: 12,999,818\n",
            "Non-trainable params: 0\n",
            "__________________________________________________________________________________________________\n"
          ]
        },
        {
          "output_type": "execute_result",
          "data": {
            "text/plain": [
              "<IPython.core.display.SVG object>"
            ],
            "image/svg+xml": "<svg height=\"848pt\" viewBox=\"0.00 0.00 820.00 636.00\" width=\"1093pt\" xmlns=\"http://www.w3.org/2000/svg\" xmlns:xlink=\"http://www.w3.org/1999/xlink\">\n<g class=\"graph\" id=\"graph0\" transform=\"scale(1.3333 1.3333) rotate(0) translate(4 632)\">\n<title>G</title>\n<polygon fill=\"#ffffff\" points=\"-4,4 -4,-632 816,-632 816,4 -4,4\" stroke=\"transparent\"/>\n<!-- 139783314538256 -->\n<g class=\"node\" id=\"node1\">\n<title>139783314538256</title>\n<polygon fill=\"none\" points=\"214,-581.5 214,-627.5 604,-627.5 604,-581.5 214,-581.5\" stroke=\"#000000\"/>\n<text fill=\"#000000\" font-family=\"Times,serif\" font-size=\"14.00\" text-anchor=\"middle\" x=\"254\" y=\"-612.3\">images</text>\n<polyline fill=\"none\" points=\"214,-604.5 294,-604.5 \" stroke=\"#000000\"/>\n<text fill=\"#000000\" font-family=\"Times,serif\" font-size=\"14.00\" text-anchor=\"middle\" x=\"254\" y=\"-589.3\">InputLayer</text>\n<polyline fill=\"none\" points=\"294,-581.5 294,-627.5 \" stroke=\"#000000\"/>\n<text fill=\"#000000\" font-family=\"Times,serif\" font-size=\"14.00\" text-anchor=\"middle\" x=\"323\" y=\"-612.3\">input:</text>\n<polyline fill=\"none\" points=\"294,-604.5 352,-604.5 \" stroke=\"#000000\"/>\n<text fill=\"#000000\" font-family=\"Times,serif\" font-size=\"14.00\" text-anchor=\"middle\" x=\"323\" y=\"-589.3\">output:</text>\n<polyline fill=\"none\" points=\"352,-581.5 352,-627.5 \" stroke=\"#000000\"/>\n<text fill=\"#000000\" font-family=\"Times,serif\" font-size=\"14.00\" text-anchor=\"middle\" x=\"415\" y=\"-600.8\">[(None, 28, 28, 1)]</text>\n<polyline fill=\"none\" points=\"478,-581.5 478,-627.5 \" stroke=\"#000000\"/>\n<text fill=\"#000000\" font-family=\"Times,serif\" font-size=\"14.00\" text-anchor=\"middle\" x=\"541\" y=\"-600.8\">[(None, 28, 28, 1)]</text>\n</g>\n<!-- 139783314569296 -->\n<g class=\"node\" id=\"node2\">\n<title>139783314569296</title>\n<polygon fill=\"none\" points=\"103,-498.5 103,-544.5 493,-544.5 493,-498.5 103,-498.5\" stroke=\"#000000\"/>\n<text fill=\"#000000\" font-family=\"Times,serif\" font-size=\"14.00\" text-anchor=\"middle\" x=\"144.5\" y=\"-529.3\">conv2d_10</text>\n<polyline fill=\"none\" points=\"103,-521.5 186,-521.5 \" stroke=\"#000000\"/>\n<text fill=\"#000000\" font-family=\"Times,serif\" font-size=\"14.00\" text-anchor=\"middle\" x=\"144.5\" y=\"-506.3\">Conv2D</text>\n<polyline fill=\"none\" points=\"186,-498.5 186,-544.5 \" stroke=\"#000000\"/>\n<text fill=\"#000000\" font-family=\"Times,serif\" font-size=\"14.00\" text-anchor=\"middle\" x=\"215\" y=\"-529.3\">input:</text>\n<polyline fill=\"none\" points=\"186,-521.5 244,-521.5 \" stroke=\"#000000\"/>\n<text fill=\"#000000\" font-family=\"Times,serif\" font-size=\"14.00\" text-anchor=\"middle\" x=\"215\" y=\"-506.3\">output:</text>\n<polyline fill=\"none\" points=\"244,-498.5 244,-544.5 \" stroke=\"#000000\"/>\n<text fill=\"#000000\" font-family=\"Times,serif\" font-size=\"14.00\" text-anchor=\"middle\" x=\"302.5\" y=\"-517.8\">(None, 28, 28, 1)</text>\n<polyline fill=\"none\" points=\"361,-498.5 361,-544.5 \" stroke=\"#000000\"/>\n<text fill=\"#000000\" font-family=\"Times,serif\" font-size=\"14.00\" text-anchor=\"middle\" x=\"427\" y=\"-517.8\">(None, 28, 28, 128)</text>\n</g>\n<!-- 139783314538256&#45;&gt;139783314569296 -->\n<g class=\"edge\" id=\"edge1\">\n<title>139783314538256-&gt;139783314569296</title>\n<path d=\"M378.0803,-581.3799C365.4371,-571.9259 350.6611,-560.8772 337.2679,-550.8625\" fill=\"none\" stroke=\"#000000\"/>\n<polygon fill=\"#000000\" points=\"339.2435,-547.9695 329.1389,-544.784 335.0515,-553.5755 339.2435,-547.9695\" stroke=\"#000000\"/>\n</g>\n<!-- 139783314450576 -->\n<g class=\"node\" id=\"node5\">\n<title>139783314450576</title>\n<polygon fill=\"none\" points=\"422,-415.5 422,-461.5 812,-461.5 812,-415.5 422,-415.5\" stroke=\"#000000\"/>\n<text fill=\"#000000\" font-family=\"Times,serif\" font-size=\"14.00\" text-anchor=\"middle\" x=\"463.5\" y=\"-446.3\">conv2d_12</text>\n<polyline fill=\"none\" points=\"422,-438.5 505,-438.5 \" stroke=\"#000000\"/>\n<text fill=\"#000000\" font-family=\"Times,serif\" font-size=\"14.00\" text-anchor=\"middle\" x=\"463.5\" y=\"-423.3\">Conv2D</text>\n<polyline fill=\"none\" points=\"505,-415.5 505,-461.5 \" stroke=\"#000000\"/>\n<text fill=\"#000000\" font-family=\"Times,serif\" font-size=\"14.00\" text-anchor=\"middle\" x=\"534\" y=\"-446.3\">input:</text>\n<polyline fill=\"none\" points=\"505,-438.5 563,-438.5 \" stroke=\"#000000\"/>\n<text fill=\"#000000\" font-family=\"Times,serif\" font-size=\"14.00\" text-anchor=\"middle\" x=\"534\" y=\"-423.3\">output:</text>\n<polyline fill=\"none\" points=\"563,-415.5 563,-461.5 \" stroke=\"#000000\"/>\n<text fill=\"#000000\" font-family=\"Times,serif\" font-size=\"14.00\" text-anchor=\"middle\" x=\"621.5\" y=\"-434.8\">(None, 28, 28, 1)</text>\n<polyline fill=\"none\" points=\"680,-415.5 680,-461.5 \" stroke=\"#000000\"/>\n<text fill=\"#000000\" font-family=\"Times,serif\" font-size=\"14.00\" text-anchor=\"middle\" x=\"746\" y=\"-434.8\">(None, 14, 14, 128)</text>\n</g>\n<!-- 139783314538256&#45;&gt;139783314450576 -->\n<g class=\"edge\" id=\"edge4\">\n<title>139783314538256-&gt;139783314450576</title>\n<path d=\"M448.5087,-581.3821C465.4475,-570.9272 485.1674,-558.0127 502,-545 532.5606,-521.3746 564.5889,-491.2039 587.0605,-469.0109\" fill=\"none\" stroke=\"#000000\"/>\n<polygon fill=\"#000000\" points=\"589.6771,-471.3449 594.2991,-461.8114 584.7407,-466.3818 589.6771,-471.3449\" stroke=\"#000000\"/>\n</g>\n<!-- 139783314467856 -->\n<g class=\"node\" id=\"node3\">\n<title>139783314467856</title>\n<polygon fill=\"none\" points=\"0,-415.5 0,-461.5 404,-461.5 404,-415.5 0,-415.5\" stroke=\"#000000\"/>\n<text fill=\"#000000\" font-family=\"Times,serif\" font-size=\"14.00\" text-anchor=\"middle\" x=\"41\" y=\"-446.3\">conv2d_11</text>\n<polyline fill=\"none\" points=\"0,-438.5 82,-438.5 \" stroke=\"#000000\"/>\n<text fill=\"#000000\" font-family=\"Times,serif\" font-size=\"14.00\" text-anchor=\"middle\" x=\"41\" y=\"-423.3\">Conv2D</text>\n<polyline fill=\"none\" points=\"82,-415.5 82,-461.5 \" stroke=\"#000000\"/>\n<text fill=\"#000000\" font-family=\"Times,serif\" font-size=\"14.00\" text-anchor=\"middle\" x=\"111\" y=\"-446.3\">input:</text>\n<polyline fill=\"none\" points=\"82,-438.5 140,-438.5 \" stroke=\"#000000\"/>\n<text fill=\"#000000\" font-family=\"Times,serif\" font-size=\"14.00\" text-anchor=\"middle\" x=\"111\" y=\"-423.3\">output:</text>\n<polyline fill=\"none\" points=\"140,-415.5 140,-461.5 \" stroke=\"#000000\"/>\n<text fill=\"#000000\" font-family=\"Times,serif\" font-size=\"14.00\" text-anchor=\"middle\" x=\"206\" y=\"-434.8\">(None, 28, 28, 128)</text>\n<polyline fill=\"none\" points=\"272,-415.5 272,-461.5 \" stroke=\"#000000\"/>\n<text fill=\"#000000\" font-family=\"Times,serif\" font-size=\"14.00\" text-anchor=\"middle\" x=\"338\" y=\"-434.8\">(None, 28, 28, 128)</text>\n</g>\n<!-- 139783314569296&#45;&gt;139783314467856 -->\n<g class=\"edge\" id=\"edge2\">\n<title>139783314569296-&gt;139783314467856</title>\n<path d=\"M271.2586,-498.3799C260.5303,-489.1043 248.0263,-478.2936 236.6183,-468.4304\" fill=\"none\" stroke=\"#000000\"/>\n<polygon fill=\"#000000\" points=\"238.7847,-465.6767 228.9309,-461.784 234.2065,-470.972 238.7847,-465.6767\" stroke=\"#000000\"/>\n</g>\n<!-- 139783314527760 -->\n<g class=\"node\" id=\"node4\">\n<title>139783314527760</title>\n<polygon fill=\"none\" points=\"71.5,-332.5 71.5,-378.5 502.5,-378.5 502.5,-332.5 71.5,-332.5\" stroke=\"#000000\"/>\n<text fill=\"#000000\" font-family=\"Times,serif\" font-size=\"14.00\" text-anchor=\"middle\" x=\"126\" y=\"-363.3\">max_pooling2d</text>\n<polyline fill=\"none\" points=\"71.5,-355.5 180.5,-355.5 \" stroke=\"#000000\"/>\n<text fill=\"#000000\" font-family=\"Times,serif\" font-size=\"14.00\" text-anchor=\"middle\" x=\"126\" y=\"-340.3\">MaxPooling2D</text>\n<polyline fill=\"none\" points=\"180.5,-332.5 180.5,-378.5 \" stroke=\"#000000\"/>\n<text fill=\"#000000\" font-family=\"Times,serif\" font-size=\"14.00\" text-anchor=\"middle\" x=\"209.5\" y=\"-363.3\">input:</text>\n<polyline fill=\"none\" points=\"180.5,-355.5 238.5,-355.5 \" stroke=\"#000000\"/>\n<text fill=\"#000000\" font-family=\"Times,serif\" font-size=\"14.00\" text-anchor=\"middle\" x=\"209.5\" y=\"-340.3\">output:</text>\n<polyline fill=\"none\" points=\"238.5,-332.5 238.5,-378.5 \" stroke=\"#000000\"/>\n<text fill=\"#000000\" font-family=\"Times,serif\" font-size=\"14.00\" text-anchor=\"middle\" x=\"304.5\" y=\"-351.8\">(None, 28, 28, 128)</text>\n<polyline fill=\"none\" points=\"370.5,-332.5 370.5,-378.5 \" stroke=\"#000000\"/>\n<text fill=\"#000000\" font-family=\"Times,serif\" font-size=\"14.00\" text-anchor=\"middle\" x=\"436.5\" y=\"-351.8\">(None, 14, 14, 128)</text>\n</g>\n<!-- 139783314467856&#45;&gt;139783314527760 -->\n<g class=\"edge\" id=\"edge3\">\n<title>139783314467856-&gt;139783314527760</title>\n<path d=\"M225.6772,-415.3799C234.9937,-406.2827 245.8223,-395.7088 255.7646,-386.0005\" fill=\"none\" stroke=\"#000000\"/>\n<polygon fill=\"#000000\" points=\"258.4454,-388.2746 263.1549,-378.784 253.5549,-383.2663 258.4454,-388.2746\" stroke=\"#000000\"/>\n</g>\n<!-- 139783314442576 -->\n<g class=\"node\" id=\"node6\">\n<title>139783314442576</title>\n<polygon fill=\"none\" points=\"155.5,-249.5 155.5,-295.5 662.5,-295.5 662.5,-249.5 155.5,-249.5\" stroke=\"#000000\"/>\n<text fill=\"#000000\" font-family=\"Times,serif\" font-size=\"14.00\" text-anchor=\"middle\" x=\"182\" y=\"-280.3\">add_1</text>\n<polyline fill=\"none\" points=\"155.5,-272.5 208.5,-272.5 \" stroke=\"#000000\"/>\n<text fill=\"#000000\" font-family=\"Times,serif\" font-size=\"14.00\" text-anchor=\"middle\" x=\"182\" y=\"-257.3\">Add</text>\n<polyline fill=\"none\" points=\"208.5,-249.5 208.5,-295.5 \" stroke=\"#000000\"/>\n<text fill=\"#000000\" font-family=\"Times,serif\" font-size=\"14.00\" text-anchor=\"middle\" x=\"237.5\" y=\"-280.3\">input:</text>\n<polyline fill=\"none\" points=\"208.5,-272.5 266.5,-272.5 \" stroke=\"#000000\"/>\n<text fill=\"#000000\" font-family=\"Times,serif\" font-size=\"14.00\" text-anchor=\"middle\" x=\"237.5\" y=\"-257.3\">output:</text>\n<polyline fill=\"none\" points=\"266.5,-249.5 266.5,-295.5 \" stroke=\"#000000\"/>\n<text fill=\"#000000\" font-family=\"Times,serif\" font-size=\"14.00\" text-anchor=\"middle\" x=\"398.5\" y=\"-268.8\">[(None, 14, 14, 128), (None, 14, 14, 128)]</text>\n<polyline fill=\"none\" points=\"530.5,-249.5 530.5,-295.5 \" stroke=\"#000000\"/>\n<text fill=\"#000000\" font-family=\"Times,serif\" font-size=\"14.00\" text-anchor=\"middle\" x=\"596.5\" y=\"-268.8\">(None, 14, 14, 128)</text>\n</g>\n<!-- 139783314527760&#45;&gt;139783314442576 -->\n<g class=\"edge\" id=\"edge5\">\n<title>139783314527760-&gt;139783314442576</title>\n<path d=\"M320.9838,-332.3799C335.0111,-322.8367 351.4269,-311.6686 366.2569,-301.5793\" fill=\"none\" stroke=\"#000000\"/>\n<polygon fill=\"#000000\" points=\"368.476,-304.3028 374.7753,-295.784 364.5385,-298.5152 368.476,-304.3028\" stroke=\"#000000\"/>\n</g>\n<!-- 139783314450576&#45;&gt;139783314442576 -->\n<g class=\"edge\" id=\"edge6\">\n<title>139783314450576-&gt;139783314442576</title>\n<path d=\"M597.0136,-415.1404C576.762,-392.3032 543.8205,-357.3625 511,-332 496.2179,-320.5769 479.0354,-309.747 463.0344,-300.5355\" fill=\"none\" stroke=\"#000000\"/>\n<polygon fill=\"#000000\" points=\"464.7168,-297.4661 454.2892,-295.591 461.2715,-303.5596 464.7168,-297.4661\" stroke=\"#000000\"/>\n</g>\n<!-- 139783314440912 -->\n<g class=\"node\" id=\"node7\">\n<title>139783314440912</title>\n<polygon fill=\"none\" points=\"229.5,-166.5 229.5,-212.5 588.5,-212.5 588.5,-166.5 229.5,-166.5\" stroke=\"#000000\"/>\n<text fill=\"#000000\" font-family=\"Times,serif\" font-size=\"14.00\" text-anchor=\"middle\" x=\"263\" y=\"-197.3\">flatten_2</text>\n<polyline fill=\"none\" points=\"229.5,-189.5 296.5,-189.5 \" stroke=\"#000000\"/>\n<text fill=\"#000000\" font-family=\"Times,serif\" font-size=\"14.00\" text-anchor=\"middle\" x=\"263\" y=\"-174.3\">Flatten</text>\n<polyline fill=\"none\" points=\"296.5,-166.5 296.5,-212.5 \" stroke=\"#000000\"/>\n<text fill=\"#000000\" font-family=\"Times,serif\" font-size=\"14.00\" text-anchor=\"middle\" x=\"325.5\" y=\"-197.3\">input:</text>\n<polyline fill=\"none\" points=\"296.5,-189.5 354.5,-189.5 \" stroke=\"#000000\"/>\n<text fill=\"#000000\" font-family=\"Times,serif\" font-size=\"14.00\" text-anchor=\"middle\" x=\"325.5\" y=\"-174.3\">output:</text>\n<polyline fill=\"none\" points=\"354.5,-166.5 354.5,-212.5 \" stroke=\"#000000\"/>\n<text fill=\"#000000\" font-family=\"Times,serif\" font-size=\"14.00\" text-anchor=\"middle\" x=\"420.5\" y=\"-185.8\">(None, 14, 14, 128)</text>\n<polyline fill=\"none\" points=\"486.5,-166.5 486.5,-212.5 \" stroke=\"#000000\"/>\n<text fill=\"#000000\" font-family=\"Times,serif\" font-size=\"14.00\" text-anchor=\"middle\" x=\"537.5\" y=\"-185.8\">(None, 25088)</text>\n</g>\n<!-- 139783314442576&#45;&gt;139783314440912 -->\n<g class=\"edge\" id=\"edge7\">\n<title>139783314442576-&gt;139783314440912</title>\n<path d=\"M409,-249.3799C409,-241.1745 409,-231.7679 409,-222.8786\" fill=\"none\" stroke=\"#000000\"/>\n<polygon fill=\"#000000\" points=\"412.5001,-222.784 409,-212.784 405.5001,-222.784 412.5001,-222.784\" stroke=\"#000000\"/>\n</g>\n<!-- 139783314467216 -->\n<g class=\"node\" id=\"node8\">\n<title>139783314467216</title>\n<polygon fill=\"none\" points=\"253.5,-83.5 253.5,-129.5 564.5,-129.5 564.5,-83.5 253.5,-83.5\" stroke=\"#000000\"/>\n<text fill=\"#000000\" font-family=\"Times,serif\" font-size=\"14.00\" text-anchor=\"middle\" x=\"285.5\" y=\"-114.3\">dense_4</text>\n<polyline fill=\"none\" points=\"253.5,-106.5 317.5,-106.5 \" stroke=\"#000000\"/>\n<text fill=\"#000000\" font-family=\"Times,serif\" font-size=\"14.00\" text-anchor=\"middle\" x=\"285.5\" y=\"-91.3\">Dense</text>\n<polyline fill=\"none\" points=\"317.5,-83.5 317.5,-129.5 \" stroke=\"#000000\"/>\n<text fill=\"#000000\" font-family=\"Times,serif\" font-size=\"14.00\" text-anchor=\"middle\" x=\"346.5\" y=\"-114.3\">input:</text>\n<polyline fill=\"none\" points=\"317.5,-106.5 375.5,-106.5 \" stroke=\"#000000\"/>\n<text fill=\"#000000\" font-family=\"Times,serif\" font-size=\"14.00\" text-anchor=\"middle\" x=\"346.5\" y=\"-91.3\">output:</text>\n<polyline fill=\"none\" points=\"375.5,-83.5 375.5,-129.5 \" stroke=\"#000000\"/>\n<text fill=\"#000000\" font-family=\"Times,serif\" font-size=\"14.00\" text-anchor=\"middle\" x=\"426.5\" y=\"-102.8\">(None, 25088)</text>\n<polyline fill=\"none\" points=\"477.5,-83.5 477.5,-129.5 \" stroke=\"#000000\"/>\n<text fill=\"#000000\" font-family=\"Times,serif\" font-size=\"14.00\" text-anchor=\"middle\" x=\"521\" y=\"-102.8\">(None, 512)</text>\n</g>\n<!-- 139783314440912&#45;&gt;139783314467216 -->\n<g class=\"edge\" id=\"edge8\">\n<title>139783314440912-&gt;139783314467216</title>\n<path d=\"M409,-166.3799C409,-158.1745 409,-148.7679 409,-139.8786\" fill=\"none\" stroke=\"#000000\"/>\n<polygon fill=\"#000000\" points=\"412.5001,-139.784 409,-129.784 405.5001,-139.784 412.5001,-139.784\" stroke=\"#000000\"/>\n</g>\n<!-- 139783314390800 -->\n<g class=\"node\" id=\"node9\">\n<title>139783314390800</title>\n<polygon fill=\"none\" points=\"264.5,-.5 264.5,-46.5 553.5,-46.5 553.5,-.5 264.5,-.5\" stroke=\"#000000\"/>\n<text fill=\"#000000\" font-family=\"Times,serif\" font-size=\"14.00\" text-anchor=\"middle\" x=\"296.5\" y=\"-31.3\">dense_5</text>\n<polyline fill=\"none\" points=\"264.5,-23.5 328.5,-23.5 \" stroke=\"#000000\"/>\n<text fill=\"#000000\" font-family=\"Times,serif\" font-size=\"14.00\" text-anchor=\"middle\" x=\"296.5\" y=\"-8.3\">Dense</text>\n<polyline fill=\"none\" points=\"328.5,-.5 328.5,-46.5 \" stroke=\"#000000\"/>\n<text fill=\"#000000\" font-family=\"Times,serif\" font-size=\"14.00\" text-anchor=\"middle\" x=\"357.5\" y=\"-31.3\">input:</text>\n<polyline fill=\"none\" points=\"328.5,-23.5 386.5,-23.5 \" stroke=\"#000000\"/>\n<text fill=\"#000000\" font-family=\"Times,serif\" font-size=\"14.00\" text-anchor=\"middle\" x=\"357.5\" y=\"-8.3\">output:</text>\n<polyline fill=\"none\" points=\"386.5,-.5 386.5,-46.5 \" stroke=\"#000000\"/>\n<text fill=\"#000000\" font-family=\"Times,serif\" font-size=\"14.00\" text-anchor=\"middle\" x=\"430\" y=\"-19.8\">(None, 512)</text>\n<polyline fill=\"none\" points=\"473.5,-.5 473.5,-46.5 \" stroke=\"#000000\"/>\n<text fill=\"#000000\" font-family=\"Times,serif\" font-size=\"14.00\" text-anchor=\"middle\" x=\"513.5\" y=\"-19.8\">(None, 10)</text>\n</g>\n<!-- 139783314467216&#45;&gt;139783314390800 -->\n<g class=\"edge\" id=\"edge9\">\n<title>139783314467216-&gt;139783314390800</title>\n<path d=\"M409,-83.3799C409,-75.1745 409,-65.7679 409,-56.8786\" fill=\"none\" stroke=\"#000000\"/>\n<polygon fill=\"#000000\" points=\"412.5001,-56.784 409,-46.784 405.5001,-56.784 412.5001,-56.784\" stroke=\"#000000\"/>\n</g>\n</g>\n</svg>"
          },
          "metadata": {},
          "execution_count": 21
        }
      ],
      "source": [
        "model.summary()\n",
        "\n",
        "from IPython.display import SVG\n",
        "from keras.utils.vis_utils import model_to_dot\n",
        "\n",
        "SVG(model_to_dot(model,show_shapes=True).create(prog='dot', format='svg'))"
      ]
    },
    {
      "cell_type": "markdown",
      "metadata": {
        "id": "NhtjEeL5fgTX"
      },
      "source": [
        "**Train the ResNET model using the Dataset API and the MNIST data**\n",
        "(when the feature-map sizes are the same)"
      ]
    },
    {
      "cell_type": "code",
      "execution_count": 23,
      "metadata": {
        "id": "VCwegAGOfncn",
        "colab": {
          "base_uri": "https://localhost:8080/"
        },
        "outputId": "61108b32-9450-4fec-8dcc-5f4cd42ace86"
      },
      "outputs": [
        {
          "output_type": "stream",
          "name": "stdout",
          "text": [
            "inputs.shape: (128, 28, 28, 1)\n",
            "targets.shape: (128, 10)\n",
            "x.shape: (128, 28, 28, 1)\n"
          ]
        },
        {
          "output_type": "stream",
          "name": "stderr",
          "text": [
            "/usr/local/lib/python3.7/dist-packages/keras/optimizer_v2/rmsprop.py:130: UserWarning: The `lr` argument is deprecated, use `learning_rate` instead.\n",
            "  super(RMSprop, self).__init__(name, **kwargs)\n"
          ]
        }
      ],
      "source": [
        "import numpy as np\n",
        "import os\n",
        "import tempfile\n",
        "\n",
        "import keras\n",
        "from keras import backend as K\n",
        "from keras import layers\n",
        "from keras.datasets import mnist\n",
        "\n",
        "import tensorflow as tf\n",
        "\n",
        "if K.backend() != 'tensorflow':\n",
        "    raise RuntimeError('This example can only run with the TensorFlow backend,'\n",
        "                       ' because it requires the Dataset API, which is not'\n",
        "                       ' supported on other platforms.')\n",
        "\n",
        "batch_size = 128\n",
        "buffer_size = 10000\n",
        "steps_per_epoch = int(np.ceil(60000 / float(batch_size)))  # = 469\n",
        "epochs = 5\n",
        "num_classes = 10\n",
        "\n",
        "def cnn_layers(x):\n",
        "    # This example assumes the existence of a 4D input tensor x:\n",
        "    # This returns a typical image tensor like those of MNIST dataset \n",
        "    print(\"x.shape:\",x.shape)\n",
        "    # Applies a transformation to x\n",
        "    y = layers.Conv2D(128, 3, activation='relu', padding='same')(x)\n",
        "    y = layers.Conv2D(128, 3, activation='relu', padding='same')(y)\n",
        "    y = layers.Conv2D(128, 3, activation='relu', padding='same')(y)\n",
        "    # Adds the original x back to the output features\n",
        "    output = layers.add([y, x])\n",
        "\n",
        "    # Adding a classifier on top of the convnet\n",
        "    output = layers.Flatten()(output)\n",
        "    output = layers.Dense(512, activation='relu')(output)\n",
        "    predictions = layers.Dense(10, activation='softmax')(output)\n",
        "    return predictions\n",
        "\n",
        "(x_train, y_train), (x_test, y_test) = mnist.load_data()\n",
        "x_train = x_train.astype(np.float32) / 255\n",
        "x_train = np.expand_dims(x_train, -1)\n",
        "y_train = tf.one_hot(y_train, num_classes)\n",
        "\n",
        "# Create the dataset and its associated one-shot iterator.\n",
        "dataset = tf.data.Dataset.from_tensor_slices((x_train, y_train))\n",
        "dataset = dataset.repeat()\n",
        "dataset = dataset.shuffle(buffer_size)\n",
        "dataset = dataset.batch(batch_size)\n",
        "#iterator = dataset.make_one_shot_iterator()\n",
        "iter = iter(dataset)\n",
        "# Model creation using tensors from the get_next() graph node.\n",
        "inputs, targets = iterator.get_next()\n",
        "\n",
        "print(\"inputs.shape:\",inputs.shape)\n",
        "print(\"targets.shape:\",targets.shape)\n",
        "\n",
        "model_input = layers.Input(tensor=inputs)\n",
        "model_output = cnn_layers(model_input)\n",
        "\n",
        "model = keras.models.Model(inputs=model_input, outputs=model_output)\n",
        "\n",
        "model.compile(optimizer=RMSprop(lr=2e-3, decay=1e-5),\n",
        "              loss='categorical_crossentropy',\n",
        "              metrics=['accuracy'],\n",
        "              )#target_tensors=[targets]"
      ]
    },
    {
      "cell_type": "code",
      "execution_count": 24,
      "metadata": {
        "id": "zotvLZZNfszh",
        "colab": {
          "base_uri": "https://localhost:8080/",
          "height": 1000
        },
        "outputId": "46467fd0-5c11-4a66-d3d9-cad8b2ef4742"
      },
      "outputs": [
        {
          "output_type": "stream",
          "name": "stdout",
          "text": [
            "Model: \"model_2\"\n",
            "__________________________________________________________________________________________________\n",
            " Layer (type)                   Output Shape         Param #     Connected to                     \n",
            "==================================================================================================\n",
            " input_2 (InputLayer)           [(128, 28, 28, 1)]   0           []                               \n",
            "                                                                                                  \n",
            " conv2d_13 (Conv2D)             (128, 28, 28, 128)   1280        ['input_2[0][0]']                \n",
            "                                                                                                  \n",
            " conv2d_14 (Conv2D)             (128, 28, 28, 128)   147584      ['conv2d_13[0][0]']              \n",
            "                                                                                                  \n",
            " conv2d_15 (Conv2D)             (128, 28, 28, 128)   147584      ['conv2d_14[0][0]']              \n",
            "                                                                                                  \n",
            " add_2 (Add)                    (128, 28, 28, 128)   0           ['conv2d_15[0][0]',              \n",
            "                                                                  'input_2[0][0]']                \n",
            "                                                                                                  \n",
            " flatten_3 (Flatten)            (128, 100352)        0           ['add_2[0][0]']                  \n",
            "                                                                                                  \n",
            " dense_6 (Dense)                (128, 512)           51380736    ['flatten_3[0][0]']              \n",
            "                                                                                                  \n",
            " dense_7 (Dense)                (128, 10)            5130        ['dense_6[0][0]']                \n",
            "                                                                                                  \n",
            "==================================================================================================\n",
            "Total params: 51,682,314\n",
            "Trainable params: 51,682,314\n",
            "Non-trainable params: 0\n",
            "__________________________________________________________________________________________________\n"
          ]
        },
        {
          "output_type": "execute_result",
          "data": {
            "text/plain": [
              "<IPython.core.display.SVG object>"
            ],
            "image/svg+xml": "<svg height=\"848pt\" viewBox=\"0.00 0.00 545.00 636.00\" width=\"727pt\" xmlns=\"http://www.w3.org/2000/svg\" xmlns:xlink=\"http://www.w3.org/1999/xlink\">\n<g class=\"graph\" id=\"graph0\" transform=\"scale(1.3333 1.3333) rotate(0) translate(4 632)\">\n<title>G</title>\n<polygon fill=\"#ffffff\" points=\"-4,4 -4,-632 541,-632 541,4 -4,4\" stroke=\"transparent\"/>\n<!-- 139783256803408 -->\n<g class=\"node\" id=\"node1\">\n<title>139783256803408</title>\n<polygon fill=\"none\" points=\"118.5,-581.5 118.5,-627.5 490.5,-627.5 490.5,-581.5 118.5,-581.5\" stroke=\"#000000\"/>\n<text fill=\"#000000\" font-family=\"Times,serif\" font-size=\"14.00\" text-anchor=\"middle\" x=\"158.5\" y=\"-612.3\">input_2</text>\n<polyline fill=\"none\" points=\"118.5,-604.5 198.5,-604.5 \" stroke=\"#000000\"/>\n<text fill=\"#000000\" font-family=\"Times,serif\" font-size=\"14.00\" text-anchor=\"middle\" x=\"158.5\" y=\"-589.3\">InputLayer</text>\n<polyline fill=\"none\" points=\"198.5,-581.5 198.5,-627.5 \" stroke=\"#000000\"/>\n<text fill=\"#000000\" font-family=\"Times,serif\" font-size=\"14.00\" text-anchor=\"middle\" x=\"227.5\" y=\"-612.3\">input:</text>\n<polyline fill=\"none\" points=\"198.5,-604.5 256.5,-604.5 \" stroke=\"#000000\"/>\n<text fill=\"#000000\" font-family=\"Times,serif\" font-size=\"14.00\" text-anchor=\"middle\" x=\"227.5\" y=\"-589.3\">output:</text>\n<polyline fill=\"none\" points=\"256.5,-581.5 256.5,-627.5 \" stroke=\"#000000\"/>\n<text fill=\"#000000\" font-family=\"Times,serif\" font-size=\"14.00\" text-anchor=\"middle\" x=\"315\" y=\"-600.8\">[(128, 28, 28, 1)]</text>\n<polyline fill=\"none\" points=\"373.5,-581.5 373.5,-627.5 \" stroke=\"#000000\"/>\n<text fill=\"#000000\" font-family=\"Times,serif\" font-size=\"14.00\" text-anchor=\"middle\" x=\"432\" y=\"-600.8\">[(128, 28, 28, 1)]</text>\n</g>\n<!-- 139783314476304 -->\n<g class=\"node\" id=\"node2\">\n<title>139783314476304</title>\n<polygon fill=\"none\" points=\"11.5,-498.5 11.5,-544.5 383.5,-544.5 383.5,-498.5 11.5,-498.5\" stroke=\"#000000\"/>\n<text fill=\"#000000\" font-family=\"Times,serif\" font-size=\"14.00\" text-anchor=\"middle\" x=\"53\" y=\"-529.3\">conv2d_13</text>\n<polyline fill=\"none\" points=\"11.5,-521.5 94.5,-521.5 \" stroke=\"#000000\"/>\n<text fill=\"#000000\" font-family=\"Times,serif\" font-size=\"14.00\" text-anchor=\"middle\" x=\"53\" y=\"-506.3\">Conv2D</text>\n<polyline fill=\"none\" points=\"94.5,-498.5 94.5,-544.5 \" stroke=\"#000000\"/>\n<text fill=\"#000000\" font-family=\"Times,serif\" font-size=\"14.00\" text-anchor=\"middle\" x=\"123.5\" y=\"-529.3\">input:</text>\n<polyline fill=\"none\" points=\"94.5,-521.5 152.5,-521.5 \" stroke=\"#000000\"/>\n<text fill=\"#000000\" font-family=\"Times,serif\" font-size=\"14.00\" text-anchor=\"middle\" x=\"123.5\" y=\"-506.3\">output:</text>\n<polyline fill=\"none\" points=\"152.5,-498.5 152.5,-544.5 \" stroke=\"#000000\"/>\n<text fill=\"#000000\" font-family=\"Times,serif\" font-size=\"14.00\" text-anchor=\"middle\" x=\"206.5\" y=\"-517.8\">(128, 28, 28, 1)</text>\n<polyline fill=\"none\" points=\"260.5,-498.5 260.5,-544.5 \" stroke=\"#000000\"/>\n<text fill=\"#000000\" font-family=\"Times,serif\" font-size=\"14.00\" text-anchor=\"middle\" x=\"322\" y=\"-517.8\">(128, 28, 28, 128)</text>\n</g>\n<!-- 139783256803408&#45;&gt;139783314476304 -->\n<g class=\"edge\" id=\"edge1\">\n<title>139783256803408-&gt;139783314476304</title>\n<path d=\"M274.6945,-581.3799C262.6219,-572.0151 248.5319,-561.0855 235.7186,-551.1462\" fill=\"none\" stroke=\"#000000\"/>\n<polygon fill=\"#000000\" points=\"237.5634,-548.1477 227.5167,-544.784 233.273,-553.6787 237.5634,-548.1477\" stroke=\"#000000\"/>\n</g>\n<!-- 139783314422864 -->\n<g class=\"node\" id=\"node5\">\n<title>139783314422864</title>\n<polygon fill=\"none\" points=\"72,-249.5 72,-295.5 537,-295.5 537,-249.5 72,-249.5\" stroke=\"#000000\"/>\n<text fill=\"#000000\" font-family=\"Times,serif\" font-size=\"14.00\" text-anchor=\"middle\" x=\"98.5\" y=\"-280.3\">add_2</text>\n<polyline fill=\"none\" points=\"72,-272.5 125,-272.5 \" stroke=\"#000000\"/>\n<text fill=\"#000000\" font-family=\"Times,serif\" font-size=\"14.00\" text-anchor=\"middle\" x=\"98.5\" y=\"-257.3\">Add</text>\n<polyline fill=\"none\" points=\"125,-249.5 125,-295.5 \" stroke=\"#000000\"/>\n<text fill=\"#000000\" font-family=\"Times,serif\" font-size=\"14.00\" text-anchor=\"middle\" x=\"154\" y=\"-280.3\">input:</text>\n<polyline fill=\"none\" points=\"125,-272.5 183,-272.5 \" stroke=\"#000000\"/>\n<text fill=\"#000000\" font-family=\"Times,serif\" font-size=\"14.00\" text-anchor=\"middle\" x=\"154\" y=\"-257.3\">output:</text>\n<polyline fill=\"none\" points=\"183,-249.5 183,-295.5 \" stroke=\"#000000\"/>\n<text fill=\"#000000\" font-family=\"Times,serif\" font-size=\"14.00\" text-anchor=\"middle\" x=\"298.5\" y=\"-268.8\">[(128, 28, 28, 128), (128, 28, 28, 1)]</text>\n<polyline fill=\"none\" points=\"414,-249.5 414,-295.5 \" stroke=\"#000000\"/>\n<text fill=\"#000000\" font-family=\"Times,serif\" font-size=\"14.00\" text-anchor=\"middle\" x=\"475.5\" y=\"-268.8\">(128, 28, 28, 128)</text>\n</g>\n<!-- 139783256803408&#45;&gt;139783314422864 -->\n<g class=\"edge\" id=\"edge5\">\n<title>139783256803408-&gt;139783314422864</title>\n<path d=\"M355.5212,-581.3899C369.9973,-572.2112 384.0947,-560.1617 392.5,-545 404.9129,-522.6093 405.4015,-350.3043 395.5,-332 388.8513,-319.7089 378.4378,-309.5508 366.9931,-301.3198\" fill=\"none\" stroke=\"#000000\"/>\n<polygon fill=\"#000000\" points=\"368.7774,-298.3028 358.5164,-295.6641 364.8923,-304.1257 368.7774,-298.3028\" stroke=\"#000000\"/>\n</g>\n<!-- 139783256054416 -->\n<g class=\"node\" id=\"node3\">\n<title>139783256054416</title>\n<polygon fill=\"none\" points=\"0,-415.5 0,-461.5 387,-461.5 387,-415.5 0,-415.5\" stroke=\"#000000\"/>\n<text fill=\"#000000\" font-family=\"Times,serif\" font-size=\"14.00\" text-anchor=\"middle\" x=\"41.5\" y=\"-446.3\">conv2d_14</text>\n<polyline fill=\"none\" points=\"0,-438.5 83,-438.5 \" stroke=\"#000000\"/>\n<text fill=\"#000000\" font-family=\"Times,serif\" font-size=\"14.00\" text-anchor=\"middle\" x=\"41.5\" y=\"-423.3\">Conv2D</text>\n<polyline fill=\"none\" points=\"83,-415.5 83,-461.5 \" stroke=\"#000000\"/>\n<text fill=\"#000000\" font-family=\"Times,serif\" font-size=\"14.00\" text-anchor=\"middle\" x=\"112\" y=\"-446.3\">input:</text>\n<polyline fill=\"none\" points=\"83,-438.5 141,-438.5 \" stroke=\"#000000\"/>\n<text fill=\"#000000\" font-family=\"Times,serif\" font-size=\"14.00\" text-anchor=\"middle\" x=\"112\" y=\"-423.3\">output:</text>\n<polyline fill=\"none\" points=\"141,-415.5 141,-461.5 \" stroke=\"#000000\"/>\n<text fill=\"#000000\" font-family=\"Times,serif\" font-size=\"14.00\" text-anchor=\"middle\" x=\"202.5\" y=\"-434.8\">(128, 28, 28, 128)</text>\n<polyline fill=\"none\" points=\"264,-415.5 264,-461.5 \" stroke=\"#000000\"/>\n<text fill=\"#000000\" font-family=\"Times,serif\" font-size=\"14.00\" text-anchor=\"middle\" x=\"325.5\" y=\"-434.8\">(128, 28, 28, 128)</text>\n</g>\n<!-- 139783314476304&#45;&gt;139783256054416 -->\n<g class=\"edge\" id=\"edge2\">\n<title>139783314476304-&gt;139783256054416</title>\n<path d=\"M196.3858,-498.3799C195.9903,-490.1745 195.537,-480.7679 195.1086,-471.8786\" fill=\"none\" stroke=\"#000000\"/>\n<polygon fill=\"#000000\" points=\"198.5995,-471.6039 194.6221,-461.784 191.6076,-471.9409 198.5995,-471.6039\" stroke=\"#000000\"/>\n</g>\n<!-- 139783255978576 -->\n<g class=\"node\" id=\"node4\">\n<title>139783255978576</title>\n<polygon fill=\"none\" points=\"0,-332.5 0,-378.5 387,-378.5 387,-332.5 0,-332.5\" stroke=\"#000000\"/>\n<text fill=\"#000000\" font-family=\"Times,serif\" font-size=\"14.00\" text-anchor=\"middle\" x=\"41.5\" y=\"-363.3\">conv2d_15</text>\n<polyline fill=\"none\" points=\"0,-355.5 83,-355.5 \" stroke=\"#000000\"/>\n<text fill=\"#000000\" font-family=\"Times,serif\" font-size=\"14.00\" text-anchor=\"middle\" x=\"41.5\" y=\"-340.3\">Conv2D</text>\n<polyline fill=\"none\" points=\"83,-332.5 83,-378.5 \" stroke=\"#000000\"/>\n<text fill=\"#000000\" font-family=\"Times,serif\" font-size=\"14.00\" text-anchor=\"middle\" x=\"112\" y=\"-363.3\">input:</text>\n<polyline fill=\"none\" points=\"83,-355.5 141,-355.5 \" stroke=\"#000000\"/>\n<text fill=\"#000000\" font-family=\"Times,serif\" font-size=\"14.00\" text-anchor=\"middle\" x=\"112\" y=\"-340.3\">output:</text>\n<polyline fill=\"none\" points=\"141,-332.5 141,-378.5 \" stroke=\"#000000\"/>\n<text fill=\"#000000\" font-family=\"Times,serif\" font-size=\"14.00\" text-anchor=\"middle\" x=\"202.5\" y=\"-351.8\">(128, 28, 28, 128)</text>\n<polyline fill=\"none\" points=\"264,-332.5 264,-378.5 \" stroke=\"#000000\"/>\n<text fill=\"#000000\" font-family=\"Times,serif\" font-size=\"14.00\" text-anchor=\"middle\" x=\"325.5\" y=\"-351.8\">(128, 28, 28, 128)</text>\n</g>\n<!-- 139783256054416&#45;&gt;139783255978576 -->\n<g class=\"edge\" id=\"edge3\">\n<title>139783256054416-&gt;139783255978576</title>\n<path d=\"M193.5,-415.3799C193.5,-407.1745 193.5,-397.7679 193.5,-388.8786\" fill=\"none\" stroke=\"#000000\"/>\n<polygon fill=\"#000000\" points=\"197.0001,-388.784 193.5,-378.784 190.0001,-388.784 197.0001,-388.784\" stroke=\"#000000\"/>\n</g>\n<!-- 139783255978576&#45;&gt;139783314422864 -->\n<g class=\"edge\" id=\"edge4\">\n<title>139783255978576-&gt;139783314422864</title>\n<path d=\"M224.4197,-332.3799C237.0629,-322.9259 251.8389,-311.8772 265.2321,-301.8625\" fill=\"none\" stroke=\"#000000\"/>\n<polygon fill=\"#000000\" points=\"267.4485,-304.5755 273.3611,-295.784 263.2565,-298.9695 267.4485,-304.5755\" stroke=\"#000000\"/>\n</g>\n<!-- 139783255999248 -->\n<g class=\"node\" id=\"node6\">\n<title>139783255999248</title>\n<polygon fill=\"none\" points=\"130,-166.5 130,-212.5 479,-212.5 479,-166.5 130,-166.5\" stroke=\"#000000\"/>\n<text fill=\"#000000\" font-family=\"Times,serif\" font-size=\"14.00\" text-anchor=\"middle\" x=\"163.5\" y=\"-197.3\">flatten_3</text>\n<polyline fill=\"none\" points=\"130,-189.5 197,-189.5 \" stroke=\"#000000\"/>\n<text fill=\"#000000\" font-family=\"Times,serif\" font-size=\"14.00\" text-anchor=\"middle\" x=\"163.5\" y=\"-174.3\">Flatten</text>\n<polyline fill=\"none\" points=\"197,-166.5 197,-212.5 \" stroke=\"#000000\"/>\n<text fill=\"#000000\" font-family=\"Times,serif\" font-size=\"14.00\" text-anchor=\"middle\" x=\"226\" y=\"-197.3\">input:</text>\n<polyline fill=\"none\" points=\"197,-189.5 255,-189.5 \" stroke=\"#000000\"/>\n<text fill=\"#000000\" font-family=\"Times,serif\" font-size=\"14.00\" text-anchor=\"middle\" x=\"226\" y=\"-174.3\">output:</text>\n<polyline fill=\"none\" points=\"255,-166.5 255,-212.5 \" stroke=\"#000000\"/>\n<text fill=\"#000000\" font-family=\"Times,serif\" font-size=\"14.00\" text-anchor=\"middle\" x=\"316.5\" y=\"-185.8\">(128, 28, 28, 128)</text>\n<polyline fill=\"none\" points=\"378,-166.5 378,-212.5 \" stroke=\"#000000\"/>\n<text fill=\"#000000\" font-family=\"Times,serif\" font-size=\"14.00\" text-anchor=\"middle\" x=\"428.5\" y=\"-185.8\">(128, 100352)</text>\n</g>\n<!-- 139783314422864&#45;&gt;139783255999248 -->\n<g class=\"edge\" id=\"edge6\">\n<title>139783314422864-&gt;139783255999248</title>\n<path d=\"M304.5,-249.3799C304.5,-241.1745 304.5,-231.7679 304.5,-222.8786\" fill=\"none\" stroke=\"#000000\"/>\n<polygon fill=\"#000000\" points=\"308.0001,-222.784 304.5,-212.784 301.0001,-222.784 308.0001,-222.784\" stroke=\"#000000\"/>\n</g>\n<!-- 139783257642000 -->\n<g class=\"node\" id=\"node7\">\n<title>139783257642000</title>\n<polygon fill=\"none\" points=\"154,-83.5 154,-129.5 455,-129.5 455,-83.5 154,-83.5\" stroke=\"#000000\"/>\n<text fill=\"#000000\" font-family=\"Times,serif\" font-size=\"14.00\" text-anchor=\"middle\" x=\"186\" y=\"-114.3\">dense_6</text>\n<polyline fill=\"none\" points=\"154,-106.5 218,-106.5 \" stroke=\"#000000\"/>\n<text fill=\"#000000\" font-family=\"Times,serif\" font-size=\"14.00\" text-anchor=\"middle\" x=\"186\" y=\"-91.3\">Dense</text>\n<polyline fill=\"none\" points=\"218,-83.5 218,-129.5 \" stroke=\"#000000\"/>\n<text fill=\"#000000\" font-family=\"Times,serif\" font-size=\"14.00\" text-anchor=\"middle\" x=\"247\" y=\"-114.3\">input:</text>\n<polyline fill=\"none\" points=\"218,-106.5 276,-106.5 \" stroke=\"#000000\"/>\n<text fill=\"#000000\" font-family=\"Times,serif\" font-size=\"14.00\" text-anchor=\"middle\" x=\"247\" y=\"-91.3\">output:</text>\n<polyline fill=\"none\" points=\"276,-83.5 276,-129.5 \" stroke=\"#000000\"/>\n<text fill=\"#000000\" font-family=\"Times,serif\" font-size=\"14.00\" text-anchor=\"middle\" x=\"326.5\" y=\"-102.8\">(128, 100352)</text>\n<polyline fill=\"none\" points=\"377,-83.5 377,-129.5 \" stroke=\"#000000\"/>\n<text fill=\"#000000\" font-family=\"Times,serif\" font-size=\"14.00\" text-anchor=\"middle\" x=\"416\" y=\"-102.8\">(128, 512)</text>\n</g>\n<!-- 139783255999248&#45;&gt;139783257642000 -->\n<g class=\"edge\" id=\"edge7\">\n<title>139783255999248-&gt;139783257642000</title>\n<path d=\"M304.5,-166.3799C304.5,-158.1745 304.5,-148.7679 304.5,-139.8786\" fill=\"none\" stroke=\"#000000\"/>\n<polygon fill=\"#000000\" points=\"308.0001,-139.784 304.5,-129.784 301.0001,-139.784 308.0001,-139.784\" stroke=\"#000000\"/>\n</g>\n<!-- 139783298701264 -->\n<g class=\"node\" id=\"node8\">\n<title>139783298701264</title>\n<polygon fill=\"none\" points=\"169,-.5 169,-46.5 440,-46.5 440,-.5 169,-.5\" stroke=\"#000000\"/>\n<text fill=\"#000000\" font-family=\"Times,serif\" font-size=\"14.00\" text-anchor=\"middle\" x=\"201\" y=\"-31.3\">dense_7</text>\n<polyline fill=\"none\" points=\"169,-23.5 233,-23.5 \" stroke=\"#000000\"/>\n<text fill=\"#000000\" font-family=\"Times,serif\" font-size=\"14.00\" text-anchor=\"middle\" x=\"201\" y=\"-8.3\">Dense</text>\n<polyline fill=\"none\" points=\"233,-.5 233,-46.5 \" stroke=\"#000000\"/>\n<text fill=\"#000000\" font-family=\"Times,serif\" font-size=\"14.00\" text-anchor=\"middle\" x=\"262\" y=\"-31.3\">input:</text>\n<polyline fill=\"none\" points=\"233,-23.5 291,-23.5 \" stroke=\"#000000\"/>\n<text fill=\"#000000\" font-family=\"Times,serif\" font-size=\"14.00\" text-anchor=\"middle\" x=\"262\" y=\"-8.3\">output:</text>\n<polyline fill=\"none\" points=\"291,-.5 291,-46.5 \" stroke=\"#000000\"/>\n<text fill=\"#000000\" font-family=\"Times,serif\" font-size=\"14.00\" text-anchor=\"middle\" x=\"330\" y=\"-19.8\">(128, 512)</text>\n<polyline fill=\"none\" points=\"369,-.5 369,-46.5 \" stroke=\"#000000\"/>\n<text fill=\"#000000\" font-family=\"Times,serif\" font-size=\"14.00\" text-anchor=\"middle\" x=\"404.5\" y=\"-19.8\">(128, 10)</text>\n</g>\n<!-- 139783257642000&#45;&gt;139783298701264 -->\n<g class=\"edge\" id=\"edge8\">\n<title>139783257642000-&gt;139783298701264</title>\n<path d=\"M304.5,-83.3799C304.5,-75.1745 304.5,-65.7679 304.5,-56.8786\" fill=\"none\" stroke=\"#000000\"/>\n<polygon fill=\"#000000\" points=\"308.0001,-56.784 304.5,-46.784 301.0001,-56.784 308.0001,-56.784\" stroke=\"#000000\"/>\n</g>\n</g>\n</svg>"
          },
          "metadata": {},
          "execution_count": 24
        }
      ],
      "source": [
        "model.summary()\n",
        "\n",
        "from IPython.display import SVG\n",
        "from keras.utils.vis_utils import model_to_dot\n",
        "\n",
        "SVG(model_to_dot(model,show_shapes=True).create(prog='dot', format='svg'))"
      ]
    },
    {
      "cell_type": "markdown",
      "metadata": {
        "id": "4aRNZrSlfxGf"
      },
      "source": [
        "**Train and Save the ResNet model**"
      ]
    },
    {
      "cell_type": "code",
      "execution_count": 26,
      "metadata": {
        "id": "EOqy0JXVf0Wn",
        "colab": {
          "base_uri": "https://localhost:8080/"
        },
        "outputId": "98fbb0cf-354f-4ace-fa12-b185d26ea661"
      },
      "outputs": [
        {
          "output_type": "stream",
          "name": "stdout",
          "text": [
            "Epoch 1/5\n",
            "469/469 [==============================] - 2505s 5s/step - loss: 3.2489 - accuracy: 0.8866\n",
            "Epoch 2/5\n",
            "469/469 [==============================] - 2486s 5s/step - loss: 0.3125 - accuracy: 0.9476\n",
            "Epoch 3/5\n",
            "469/469 [==============================] - 2408s 5s/step - loss: 0.2391 - accuracy: 0.9594\n",
            "Epoch 4/5\n",
            "469/469 [==============================] - 2388s 5s/step - loss: 0.2052 - accuracy: 0.9654\n",
            "Epoch 5/5\n",
            "469/469 [==============================] - 2398s 5s/step - loss: 0.1942 - accuracy: 0.9710\n"
          ]
        }
      ],
      "source": [
        "model.fit(dataset, epochs=epochs,\n",
        "          steps_per_epoch=steps_per_epoch)\n",
        "\n",
        "# Save the model weights.\n",
        "weight_path = os.path.join(tempfile.gettempdir(), 'saved_ResNet_wt.h5')\n",
        "model.save_weights(weight_path)"
      ]
    },
    {
      "cell_type": "markdown",
      "metadata": {
        "id": "JeetVigdf4Ff"
      },
      "source": [
        "**Second session to test loading trained model without tensors.**"
      ]
    },
    {
      "cell_type": "code",
      "execution_count": 27,
      "metadata": {
        "id": "hKR1nTYRf69v",
        "colab": {
          "base_uri": "https://localhost:8080/"
        },
        "outputId": "149aa5b0-c7f4-4e0a-b080-f8525c07af0b"
      },
      "outputs": [
        {
          "output_type": "stream",
          "name": "stdout",
          "text": [
            "x.shape: (None, 28, 28, 1)\n",
            "Model: \"model\"\n",
            "__________________________________________________________________________________________________\n",
            " Layer (type)                   Output Shape         Param #     Connected to                     \n",
            "==================================================================================================\n",
            " input_1 (InputLayer)           [(None, 28, 28, 1)]  0           []                               \n",
            "                                                                                                  \n",
            " conv2d (Conv2D)                (None, 28, 28, 128)  1280        ['input_1[0][0]']                \n",
            "                                                                                                  \n",
            " conv2d_1 (Conv2D)              (None, 28, 28, 128)  147584      ['conv2d[0][0]']                 \n",
            "                                                                                                  \n",
            " conv2d_2 (Conv2D)              (None, 28, 28, 128)  147584      ['conv2d_1[0][0]']               \n",
            "                                                                                                  \n",
            " add (Add)                      (None, 28, 28, 128)  0           ['conv2d_2[0][0]',               \n",
            "                                                                  'input_1[0][0]']                \n",
            "                                                                                                  \n",
            " flatten (Flatten)              (None, 100352)       0           ['add[0][0]']                    \n",
            "                                                                                                  \n",
            " dense (Dense)                  (None, 512)          51380736    ['flatten[0][0]']                \n",
            "                                                                                                  \n",
            " dense_1 (Dense)                (None, 10)           5130        ['dense[0][0]']                  \n",
            "                                                                                                  \n",
            "==================================================================================================\n",
            "Total params: 51,682,314\n",
            "Trainable params: 51,682,314\n",
            "Non-trainable params: 0\n",
            "__________________________________________________________________________________________________\n",
            "1000/1000 [==============================] - 141s 141ms/step - loss: 108.9336 - accuracy: 0.9545\n",
            "\n",
            "Test accuracy: 0.9545000195503235\n"
          ]
        }
      ],
      "source": [
        "# Clean up the TF session.\n",
        "K.clear_session()\n",
        "\n",
        "# Second session to test loading trained model without tensors.\n",
        "x_test = x_test.astype(np.float32)\n",
        "x_test = np.expand_dims(x_test, -1)\n",
        "\n",
        "x_test_inp = layers.Input(shape=x_test.shape[1:])\n",
        "test_out = cnn_layers(x_test_inp)\n",
        "test_model = keras.models.Model(inputs=x_test_inp, outputs=test_out)\n",
        "\n",
        "weight_path = os.path.join(tempfile.gettempdir(), 'saved_ResNet_wt.h5')\n",
        "test_model.load_weights(weight_path)\n",
        "test_model.compile(optimizer='rmsprop',\n",
        "                   loss='sparse_categorical_crossentropy',\n",
        "                   metrics=['accuracy'])\n",
        "test_model.summary()\n",
        "\n",
        "loss, acc = test_model.evaluate(x_test, y_test, num_classes)\n",
        "print('\\nTest accuracy: {0}'.format(acc))"
      ]
    },
    {
      "cell_type": "markdown",
      "metadata": {
        "id": "hGPHBTCfgBSe"
      },
      "source": [
        "Not very good... probably normal since residual connection are good with very deep network but here we have only 2 hidden layers.\n",
        "\n",
        "**7.1.5. Layer weights sharing**\n",
        "One more important feature of the functional API is the ability to reuse a layer instance several times where instead of instantiating a new layer for each call, you reuse the same weights with every call. This allows you to build models that have shared branches—several branches that all share the same knowledge and perform the same operations.\n",
        "\n",
        "Example - semantic similarity between two sentences\n",
        "For example, consider a model that attempts to assess the semantic similarity between two sentences. The model has two inputs (the two sentences to compare) and outputs a score between 0 and 1, where 0 means unrelated sentences and 1 means sentences that are either identical or reformulations of each other. Such a model could be useful in many applications, including deduplicating natural-language queries in a dialog system.\n",
        "\n",
        "In this setup, the two input sentences are interchangeable, because semantic similarity is a symmetrical relationship: the similarity of A to B is identical to the similarity of B to A. For this reason, it wouldn’t make sense to learn two independent models for processing each input sentence. Rather, you want to process both with a single LSTM layer. The representations of this LSTM layer (its weights) are learned based on both inputs simultaneously. This is what we call a Siamese LSTM model or a shared LSTM.\n",
        "\n",
        "Note: Siamese network is a special type of neural network architecture. Instead of learning to classify its\n",
        "inputs, the Siamese neural network learns to differentiate between two inputs. It learns the similarity.\n",
        "\n",
        "Here’s how to implement such a model using layer sharing (layer reuse) in the Keras functional API:"
      ]
    },
    {
      "cell_type": "code",
      "execution_count": 28,
      "metadata": {
        "id": "Pm5kChfnhKXz"
      },
      "outputs": [],
      "source": [
        "from keras import layers\n",
        "from keras import Input\n",
        "from keras.models import Model\n",
        "\n",
        "# Instantiates a single LSTM layer, once\n",
        "lstm = layers.LSTM(32)\n",
        "\n",
        "# Building the left branch of the model: \n",
        "# inputs are variable-length sequences of vectors of size 128.\n",
        "left_input = Input(shape=(None, 128))\n",
        "left_output = lstm(left_input)\n",
        "\n",
        "# Building the right branch of the model:\n",
        "# when you call an existing layer instance, you reuse its weights.\n",
        "right_input = Input(shape=(None, 128))\n",
        "right_output = lstm(right_input)\n",
        "\n",
        "# Builds the classifier on top\n",
        "merged = layers.concatenate([left_output, right_output], axis=-1)\n",
        "predictions = layers.Dense(1, activation='sigmoid')(merged)\n",
        "\n",
        "# Instantiating the model\n",
        "model = Model([left_input, right_input], predictions)"
      ]
    },
    {
      "cell_type": "code",
      "execution_count": 29,
      "metadata": {
        "id": "HEEpj2LchM2z",
        "colab": {
          "base_uri": "https://localhost:8080/",
          "height": 946
        },
        "outputId": "ddc0fdbf-a555-4e22-88dc-17a23017e62a"
      },
      "outputs": [
        {
          "output_type": "stream",
          "name": "stdout",
          "text": [
            "Model: \"model_1\"\n",
            "__________________________________________________________________________________________________\n",
            " Layer (type)                   Output Shape         Param #     Connected to                     \n",
            "==================================================================================================\n",
            " input_2 (InputLayer)           [(None, None, 128)]  0           []                               \n",
            "                                                                                                  \n",
            " input_3 (InputLayer)           [(None, None, 128)]  0           []                               \n",
            "                                                                                                  \n",
            " lstm (LSTM)                    (None, 32)           20608       ['input_2[0][0]',                \n",
            "                                                                  'input_3[0][0]']                \n",
            "                                                                                                  \n",
            " concatenate (Concatenate)      (None, 64)           0           ['lstm[0][0]',                   \n",
            "                                                                  'lstm[1][0]']                   \n",
            "                                                                                                  \n",
            " dense_2 (Dense)                (None, 1)            65          ['concatenate[0][0]']            \n",
            "                                                                                                  \n",
            "==================================================================================================\n",
            "Total params: 20,673\n",
            "Trainable params: 20,673\n",
            "Non-trainable params: 0\n",
            "__________________________________________________________________________________________________\n"
          ]
        },
        {
          "output_type": "execute_result",
          "data": {
            "text/plain": [
              "<IPython.core.display.SVG object>"
            ],
            "image/svg+xml": "<svg height=\"405pt\" viewBox=\"0.00 0.00 842.00 304.00\" width=\"1123pt\" xmlns=\"http://www.w3.org/2000/svg\" xmlns:xlink=\"http://www.w3.org/1999/xlink\">\n<g class=\"graph\" id=\"graph0\" transform=\"scale(1.3333 1.3333) rotate(0) translate(4 300)\">\n<title>G</title>\n<polygon fill=\"#ffffff\" points=\"-4,4 -4,-300 838,-300 838,4 -4,4\" stroke=\"transparent\"/>\n<!-- 139783309990544 -->\n<g class=\"node\" id=\"node1\">\n<title>139783309990544</title>\n<polygon fill=\"none\" points=\"0,-249.5 0,-295.5 408,-295.5 408,-249.5 0,-249.5\" stroke=\"#000000\"/>\n<text fill=\"#000000\" font-family=\"Times,serif\" font-size=\"14.00\" text-anchor=\"middle\" x=\"40\" y=\"-280.3\">input_2</text>\n<polyline fill=\"none\" points=\"0,-272.5 80,-272.5 \" stroke=\"#000000\"/>\n<text fill=\"#000000\" font-family=\"Times,serif\" font-size=\"14.00\" text-anchor=\"middle\" x=\"40\" y=\"-257.3\">InputLayer</text>\n<polyline fill=\"none\" points=\"80,-249.5 80,-295.5 \" stroke=\"#000000\"/>\n<text fill=\"#000000\" font-family=\"Times,serif\" font-size=\"14.00\" text-anchor=\"middle\" x=\"109\" y=\"-280.3\">input:</text>\n<polyline fill=\"none\" points=\"80,-272.5 138,-272.5 \" stroke=\"#000000\"/>\n<text fill=\"#000000\" font-family=\"Times,serif\" font-size=\"14.00\" text-anchor=\"middle\" x=\"109\" y=\"-257.3\">output:</text>\n<polyline fill=\"none\" points=\"138,-249.5 138,-295.5 \" stroke=\"#000000\"/>\n<text fill=\"#000000\" font-family=\"Times,serif\" font-size=\"14.00\" text-anchor=\"middle\" x=\"205.5\" y=\"-268.8\">[(None, None, 128)]</text>\n<polyline fill=\"none\" points=\"273,-249.5 273,-295.5 \" stroke=\"#000000\"/>\n<text fill=\"#000000\" font-family=\"Times,serif\" font-size=\"14.00\" text-anchor=\"middle\" x=\"340.5\" y=\"-268.8\">[(None, None, 128)]</text>\n</g>\n<!-- 139783309987984 -->\n<g class=\"node\" id=\"node3\">\n<title>139783309987984</title>\n<polygon fill=\"none\" points=\"257,-166.5 257,-212.5 577,-212.5 577,-166.5 257,-166.5\" stroke=\"#000000\"/>\n<text fill=\"#000000\" font-family=\"Times,serif\" font-size=\"14.00\" text-anchor=\"middle\" x=\"285\" y=\"-197.3\">lstm</text>\n<polyline fill=\"none\" points=\"257,-189.5 313,-189.5 \" stroke=\"#000000\"/>\n<text fill=\"#000000\" font-family=\"Times,serif\" font-size=\"14.00\" text-anchor=\"middle\" x=\"285\" y=\"-174.3\">LSTM</text>\n<polyline fill=\"none\" points=\"313,-166.5 313,-212.5 \" stroke=\"#000000\"/>\n<text fill=\"#000000\" font-family=\"Times,serif\" font-size=\"14.00\" text-anchor=\"middle\" x=\"342\" y=\"-197.3\">input:</text>\n<polyline fill=\"none\" points=\"313,-189.5 371,-189.5 \" stroke=\"#000000\"/>\n<text fill=\"#000000\" font-family=\"Times,serif\" font-size=\"14.00\" text-anchor=\"middle\" x=\"342\" y=\"-174.3\">output:</text>\n<polyline fill=\"none\" points=\"371,-166.5 371,-212.5 \" stroke=\"#000000\"/>\n<text fill=\"#000000\" font-family=\"Times,serif\" font-size=\"14.00\" text-anchor=\"middle\" x=\"434\" y=\"-185.8\">(None, None, 128)</text>\n<polyline fill=\"none\" points=\"497,-166.5 497,-212.5 \" stroke=\"#000000\"/>\n<text fill=\"#000000\" font-family=\"Times,serif\" font-size=\"14.00\" text-anchor=\"middle\" x=\"537\" y=\"-185.8\">(None, 32)</text>\n</g>\n<!-- 139783309990544&#45;&gt;139783309987984 -->\n<g class=\"edge\" id=\"edge1\">\n<title>139783309990544-&gt;139783309987984</title>\n<path d=\"M263.0495,-249.4901C289.4813,-239.1904 320.8147,-226.9806 348.2918,-216.2736\" fill=\"none\" stroke=\"#000000\"/>\n<polygon fill=\"#000000\" points=\"349.7888,-219.4467 357.8356,-212.5547 347.2472,-212.9244 349.7888,-219.4467\" stroke=\"#000000\"/>\n</g>\n<!-- 139783311935440 -->\n<g class=\"node\" id=\"node2\">\n<title>139783311935440</title>\n<polygon fill=\"none\" points=\"426,-249.5 426,-295.5 834,-295.5 834,-249.5 426,-249.5\" stroke=\"#000000\"/>\n<text fill=\"#000000\" font-family=\"Times,serif\" font-size=\"14.00\" text-anchor=\"middle\" x=\"466\" y=\"-280.3\">input_3</text>\n<polyline fill=\"none\" points=\"426,-272.5 506,-272.5 \" stroke=\"#000000\"/>\n<text fill=\"#000000\" font-family=\"Times,serif\" font-size=\"14.00\" text-anchor=\"middle\" x=\"466\" y=\"-257.3\">InputLayer</text>\n<polyline fill=\"none\" points=\"506,-249.5 506,-295.5 \" stroke=\"#000000\"/>\n<text fill=\"#000000\" font-family=\"Times,serif\" font-size=\"14.00\" text-anchor=\"middle\" x=\"535\" y=\"-280.3\">input:</text>\n<polyline fill=\"none\" points=\"506,-272.5 564,-272.5 \" stroke=\"#000000\"/>\n<text fill=\"#000000\" font-family=\"Times,serif\" font-size=\"14.00\" text-anchor=\"middle\" x=\"535\" y=\"-257.3\">output:</text>\n<polyline fill=\"none\" points=\"564,-249.5 564,-295.5 \" stroke=\"#000000\"/>\n<text fill=\"#000000\" font-family=\"Times,serif\" font-size=\"14.00\" text-anchor=\"middle\" x=\"631.5\" y=\"-268.8\">[(None, None, 128)]</text>\n<polyline fill=\"none\" points=\"699,-249.5 699,-295.5 \" stroke=\"#000000\"/>\n<text fill=\"#000000\" font-family=\"Times,serif\" font-size=\"14.00\" text-anchor=\"middle\" x=\"766.5\" y=\"-268.8\">[(None, None, 128)]</text>\n</g>\n<!-- 139783311935440&#45;&gt;139783309987984 -->\n<g class=\"edge\" id=\"edge2\">\n<title>139783311935440-&gt;139783309987984</title>\n<path d=\"M570.9505,-249.4901C544.5187,-239.1904 513.1853,-226.9806 485.7082,-216.2736\" fill=\"none\" stroke=\"#000000\"/>\n<polygon fill=\"#000000\" points=\"486.7528,-212.9244 476.1644,-212.5547 484.2112,-219.4467 486.7528,-212.9244\" stroke=\"#000000\"/>\n</g>\n<!-- 139783311771024 -->\n<g class=\"node\" id=\"node4\">\n<title>139783311771024</title>\n<polygon fill=\"none\" points=\"225.5,-83.5 225.5,-129.5 608.5,-129.5 608.5,-83.5 225.5,-83.5\" stroke=\"#000000\"/>\n<text fill=\"#000000\" font-family=\"Times,serif\" font-size=\"14.00\" text-anchor=\"middle\" x=\"268.5\" y=\"-114.3\">concatenate</text>\n<polyline fill=\"none\" points=\"225.5,-106.5 311.5,-106.5 \" stroke=\"#000000\"/>\n<text fill=\"#000000\" font-family=\"Times,serif\" font-size=\"14.00\" text-anchor=\"middle\" x=\"268.5\" y=\"-91.3\">Concatenate</text>\n<polyline fill=\"none\" points=\"311.5,-83.5 311.5,-129.5 \" stroke=\"#000000\"/>\n<text fill=\"#000000\" font-family=\"Times,serif\" font-size=\"14.00\" text-anchor=\"middle\" x=\"340.5\" y=\"-114.3\">input:</text>\n<polyline fill=\"none\" points=\"311.5,-106.5 369.5,-106.5 \" stroke=\"#000000\"/>\n<text fill=\"#000000\" font-family=\"Times,serif\" font-size=\"14.00\" text-anchor=\"middle\" x=\"340.5\" y=\"-91.3\">output:</text>\n<polyline fill=\"none\" points=\"369.5,-83.5 369.5,-129.5 \" stroke=\"#000000\"/>\n<text fill=\"#000000\" font-family=\"Times,serif\" font-size=\"14.00\" text-anchor=\"middle\" x=\"449\" y=\"-102.8\">[(None, 32), (None, 32)]</text>\n<polyline fill=\"none\" points=\"528.5,-83.5 528.5,-129.5 \" stroke=\"#000000\"/>\n<text fill=\"#000000\" font-family=\"Times,serif\" font-size=\"14.00\" text-anchor=\"middle\" x=\"568.5\" y=\"-102.8\">(None, 64)</text>\n</g>\n<!-- 139783309987984&#45;&gt;139783311771024 -->\n<g class=\"edge\" id=\"edge3\">\n<title>139783309987984-&gt;139783311771024</title>\n<path d=\"M417,-166.3799C417,-158.1745 417,-148.7679 417,-139.8786\" fill=\"none\" stroke=\"#000000\"/>\n<polygon fill=\"#000000\" points=\"420.5001,-139.784 417,-129.784 413.5001,-139.784 420.5001,-139.784\" stroke=\"#000000\"/>\n</g>\n<!-- 139783332213072 -->\n<g class=\"node\" id=\"node5\">\n<title>139783332213072</title>\n<polygon fill=\"none\" points=\"280,-.5 280,-46.5 554,-46.5 554,-.5 280,-.5\" stroke=\"#000000\"/>\n<text fill=\"#000000\" font-family=\"Times,serif\" font-size=\"14.00\" text-anchor=\"middle\" x=\"312\" y=\"-31.3\">dense_2</text>\n<polyline fill=\"none\" points=\"280,-23.5 344,-23.5 \" stroke=\"#000000\"/>\n<text fill=\"#000000\" font-family=\"Times,serif\" font-size=\"14.00\" text-anchor=\"middle\" x=\"312\" y=\"-8.3\">Dense</text>\n<polyline fill=\"none\" points=\"344,-.5 344,-46.5 \" stroke=\"#000000\"/>\n<text fill=\"#000000\" font-family=\"Times,serif\" font-size=\"14.00\" text-anchor=\"middle\" x=\"373\" y=\"-31.3\">input:</text>\n<polyline fill=\"none\" points=\"344,-23.5 402,-23.5 \" stroke=\"#000000\"/>\n<text fill=\"#000000\" font-family=\"Times,serif\" font-size=\"14.00\" text-anchor=\"middle\" x=\"373\" y=\"-8.3\">output:</text>\n<polyline fill=\"none\" points=\"402,-.5 402,-46.5 \" stroke=\"#000000\"/>\n<text fill=\"#000000\" font-family=\"Times,serif\" font-size=\"14.00\" text-anchor=\"middle\" x=\"442\" y=\"-19.8\">(None, 64)</text>\n<polyline fill=\"none\" points=\"482,-.5 482,-46.5 \" stroke=\"#000000\"/>\n<text fill=\"#000000\" font-family=\"Times,serif\" font-size=\"14.00\" text-anchor=\"middle\" x=\"518\" y=\"-19.8\">(None, 1)</text>\n</g>\n<!-- 139783311771024&#45;&gt;139783332213072 -->\n<g class=\"edge\" id=\"edge4\">\n<title>139783311771024-&gt;139783332213072</title>\n<path d=\"M417,-83.3799C417,-75.1745 417,-65.7679 417,-56.8786\" fill=\"none\" stroke=\"#000000\"/>\n<polygon fill=\"#000000\" points=\"420.5001,-56.784 417,-46.784 413.5001,-56.784 420.5001,-56.784\" stroke=\"#000000\"/>\n</g>\n</g>\n</svg>"
          },
          "metadata": {},
          "execution_count": 29
        }
      ],
      "source": [
        "model.summary()\n",
        "\n",
        "from IPython.display import SVG\n",
        "from keras.utils.vis_utils import model_to_dot\n",
        "\n",
        "SVG(model_to_dot(model,show_shapes=True).create(prog='dot', format='svg'))"
      ]
    },
    {
      "cell_type": "code",
      "execution_count": 30,
      "metadata": {
        "id": "X65DKgOuhQvS",
        "colab": {
          "base_uri": "https://localhost:8080/"
        },
        "outputId": "e766d990-8e0e-4cc8-f767-65328ddf3727"
      },
      "outputs": [
        {
          "output_type": "stream",
          "name": "stdout",
          "text": [
            "4/4 [==============================] - 5s 9ms/step - loss: 0.6908 - acc: 0.5500\n"
          ]
        },
        {
          "output_type": "execute_result",
          "data": {
            "text/plain": [
              "<keras.callbacks.History at 0x7f21d6ce6390>"
            ]
          },
          "metadata": {},
          "execution_count": 30
        }
      ],
      "source": [
        "import numpy as np\n",
        "\n",
        "num_samples = 100\n",
        "num_symbols = 2\n",
        "\n",
        "TRACE = False\n",
        "\n",
        "left_data = np.random.randint(0,num_symbols, size=(num_samples,1,128))\n",
        "if TRACE:\n",
        "    print(type(left_data))\n",
        "    print(left_data.shape)\n",
        "    print(left_data)\n",
        "    print('-'*50)\n",
        "\n",
        "right_data = np.random.randint(0,num_symbols, size=(num_samples,1,128))\n",
        "if TRACE:\n",
        "    print(type(right_data))\n",
        "    print(right_data.shape)\n",
        "    print(right_data)\n",
        "    print('-'*50)\n",
        "\n",
        "matching_list = [np.random.randint(0,num_symbols) for _ in range(num_samples)]\n",
        "targets = np.array(matching_list)\n",
        "if TRACE:\n",
        "    print(type(targets))\n",
        "    print(targets.shape)\n",
        "    print(targets)\n",
        "    print('-'*50)\n",
        "\n",
        "# We must compile a model before training/testing.\n",
        "model.compile(optimizer='rmsprop',loss='binary_crossentropy',metrics=['acc'])\n",
        "\n",
        "# Training the model: when you train such a model,\n",
        "# the weights of the LSTM layer are updated based on both inputs.\n",
        "model.fit([left_data, right_data],targets)"
      ]
    },
    {
      "cell_type": "markdown",
      "metadata": {
        "id": "tNZIPj7uhUxN"
      },
      "source": [
        "**7.1.6. Models as layers**\n",
        "\n",
        "Importantly, in the functional API, models can be used as you’d use layers—effectively, you can think of a model as a “bigger layer.” This is true of both the Sequential and Model classes. This means you can call a model on an input tensor and retrieve an output tensor:\n",
        "\n",
        "y = model(x)\n",
        "\n",
        "If the model has multiple input tensors and multiple output tensors, it should be called with a list of tensors:\n",
        "\n",
        "y1, y2 = model([x1, x2])\n",
        "\n",
        "When you call a model instance, you’re reusing the weights of the model—exactly like what happens when you call a layer instance. Calling an instance, whether it’s a layer instance or a model instance, will always reuse the existing learned representations of the instance—which is intuitive."
      ]
    },
    {
      "cell_type": "code",
      "execution_count": 32,
      "metadata": {
        "id": "nvGREKF6haCK"
      },
      "outputs": [],
      "source": [
        "from keras import layers\n",
        "from tensorflow.keras import applications \n",
        "from keras import Input\n",
        "\n",
        "nbr_classes = 10\n",
        "\n",
        "# The base image-processing model is the Xception network (convolutional base only).\n",
        "xception_base = applications.Xception(weights=None,include_top=False)\n",
        "\n",
        "# The inputs are 250 × 250 RGB images.\n",
        "left_input = Input(shape=(250, 250, 3))\n",
        "right_input = Input(shape=(250, 250, 3))\n",
        "\n",
        "left_features = xception_base(left_input)\n",
        "# right_input = xception_base(right_input)\n",
        "right_features = xception_base(right_input)\n",
        "\n",
        "merged_features = layers.concatenate([left_features, right_features], axis=-1)\n",
        "\n",
        "predictions = layers.Dense(nbr_classes, activation='softmax')(merged_features)\n",
        "\n",
        "# Instantiating the model\n",
        "model = Model([left_input, right_input], predictions)"
      ]
    },
    {
      "cell_type": "code",
      "execution_count": 33,
      "metadata": {
        "id": "O7kQBkK0hdLS",
        "colab": {
          "base_uri": "https://localhost:8080/",
          "height": 981
        },
        "outputId": "1e71d81e-e3be-4649-fa62-7f123197b946"
      },
      "outputs": [
        {
          "output_type": "stream",
          "name": "stdout",
          "text": [
            "Model: \"model_2\"\n",
            "__________________________________________________________________________________________________\n",
            " Layer (type)                   Output Shape         Param #     Connected to                     \n",
            "==================================================================================================\n",
            " input_5 (InputLayer)           [(None, 250, 250, 3  0           []                               \n",
            "                                )]                                                                \n",
            "                                                                                                  \n",
            " input_6 (InputLayer)           [(None, 250, 250, 3  0           []                               \n",
            "                                )]                                                                \n",
            "                                                                                                  \n",
            " xception (Functional)          (None, None, None,   20861480    ['input_5[0][0]',                \n",
            "                                2048)                             'input_6[0][0]']                \n",
            "                                                                                                  \n",
            " concatenate_1 (Concatenate)    (None, 8, 8, 4096)   0           ['xception[0][0]',               \n",
            "                                                                  'xception[1][0]']               \n",
            "                                                                                                  \n",
            " dense_3 (Dense)                (None, 8, 8, 10)     40970       ['concatenate_1[0][0]']          \n",
            "                                                                                                  \n",
            "==================================================================================================\n",
            "Total params: 20,902,450\n",
            "Trainable params: 20,847,922\n",
            "Non-trainable params: 54,528\n",
            "__________________________________________________________________________________________________\n"
          ]
        },
        {
          "output_type": "execute_result",
          "data": {
            "text/plain": [
              "<IPython.core.display.SVG object>"
            ],
            "image/svg+xml": "<svg height=\"405pt\" viewBox=\"0.00 0.00 866.00 304.00\" width=\"1155pt\" xmlns=\"http://www.w3.org/2000/svg\" xmlns:xlink=\"http://www.w3.org/1999/xlink\">\n<g class=\"graph\" id=\"graph0\" transform=\"scale(1.3333 1.3333) rotate(0) translate(4 300)\">\n<title>G</title>\n<polygon fill=\"#ffffff\" points=\"-4,4 -4,-300 862,-300 862,4 -4,4\" stroke=\"transparent\"/>\n<!-- 139783334831568 -->\n<g class=\"node\" id=\"node1\">\n<title>139783334831568</title>\n<polygon fill=\"none\" points=\"0,-249.5 0,-295.5 420,-295.5 420,-249.5 0,-249.5\" stroke=\"#000000\"/>\n<text fill=\"#000000\" font-family=\"Times,serif\" font-size=\"14.00\" text-anchor=\"middle\" x=\"40\" y=\"-280.3\">input_5</text>\n<polyline fill=\"none\" points=\"0,-272.5 80,-272.5 \" stroke=\"#000000\"/>\n<text fill=\"#000000\" font-family=\"Times,serif\" font-size=\"14.00\" text-anchor=\"middle\" x=\"40\" y=\"-257.3\">InputLayer</text>\n<polyline fill=\"none\" points=\"80,-249.5 80,-295.5 \" stroke=\"#000000\"/>\n<text fill=\"#000000\" font-family=\"Times,serif\" font-size=\"14.00\" text-anchor=\"middle\" x=\"109\" y=\"-280.3\">input:</text>\n<polyline fill=\"none\" points=\"80,-272.5 138,-272.5 \" stroke=\"#000000\"/>\n<text fill=\"#000000\" font-family=\"Times,serif\" font-size=\"14.00\" text-anchor=\"middle\" x=\"109\" y=\"-257.3\">output:</text>\n<polyline fill=\"none\" points=\"138,-249.5 138,-295.5 \" stroke=\"#000000\"/>\n<text fill=\"#000000\" font-family=\"Times,serif\" font-size=\"14.00\" text-anchor=\"middle\" x=\"208.5\" y=\"-268.8\">[(None, 250, 250, 3)]</text>\n<polyline fill=\"none\" points=\"279,-249.5 279,-295.5 \" stroke=\"#000000\"/>\n<text fill=\"#000000\" font-family=\"Times,serif\" font-size=\"14.00\" text-anchor=\"middle\" x=\"349.5\" y=\"-268.8\">[(None, 250, 250, 3)]</text>\n</g>\n<!-- 139783305341904 -->\n<g class=\"node\" id=\"node3\">\n<title>139783305341904</title>\n<polygon fill=\"none\" points=\"199.5,-166.5 199.5,-212.5 658.5,-212.5 658.5,-166.5 199.5,-166.5\" stroke=\"#000000\"/>\n<text fill=\"#000000\" font-family=\"Times,serif\" font-size=\"14.00\" text-anchor=\"middle\" x=\"238.5\" y=\"-197.3\">xception</text>\n<polyline fill=\"none\" points=\"199.5,-189.5 277.5,-189.5 \" stroke=\"#000000\"/>\n<text fill=\"#000000\" font-family=\"Times,serif\" font-size=\"14.00\" text-anchor=\"middle\" x=\"238.5\" y=\"-174.3\">Functional</text>\n<polyline fill=\"none\" points=\"277.5,-166.5 277.5,-212.5 \" stroke=\"#000000\"/>\n<text fill=\"#000000\" font-family=\"Times,serif\" font-size=\"14.00\" text-anchor=\"middle\" x=\"306.5\" y=\"-197.3\">input:</text>\n<polyline fill=\"none\" points=\"277.5,-189.5 335.5,-189.5 \" stroke=\"#000000\"/>\n<text fill=\"#000000\" font-family=\"Times,serif\" font-size=\"14.00\" text-anchor=\"middle\" x=\"306.5\" y=\"-174.3\">output:</text>\n<polyline fill=\"none\" points=\"335.5,-166.5 335.5,-212.5 \" stroke=\"#000000\"/>\n<text fill=\"#000000\" font-family=\"Times,serif\" font-size=\"14.00\" text-anchor=\"middle\" x=\"410.5\" y=\"-185.8\">(None, None, None, 3)</text>\n<polyline fill=\"none\" points=\"485.5,-166.5 485.5,-212.5 \" stroke=\"#000000\"/>\n<text fill=\"#000000\" font-family=\"Times,serif\" font-size=\"14.00\" text-anchor=\"middle\" x=\"572\" y=\"-185.8\">(None, None, None, 2048)</text>\n</g>\n<!-- 139783334831568&#45;&gt;139783305341904 -->\n<g class=\"edge\" id=\"edge1\">\n<title>139783334831568-&gt;139783305341904</title>\n<path d=\"M270.7129,-249.4901C298.0079,-239.1454 330.3867,-226.874 358.7263,-216.1334\" fill=\"none\" stroke=\"#000000\"/>\n<polygon fill=\"#000000\" points=\"360.0585,-219.3715 368.169,-212.5547 357.5776,-212.8259 360.0585,-219.3715\" stroke=\"#000000\"/>\n</g>\n<!-- 139783257342480 -->\n<g class=\"node\" id=\"node2\">\n<title>139783257342480</title>\n<polygon fill=\"none\" points=\"438,-249.5 438,-295.5 858,-295.5 858,-249.5 438,-249.5\" stroke=\"#000000\"/>\n<text fill=\"#000000\" font-family=\"Times,serif\" font-size=\"14.00\" text-anchor=\"middle\" x=\"478\" y=\"-280.3\">input_6</text>\n<polyline fill=\"none\" points=\"438,-272.5 518,-272.5 \" stroke=\"#000000\"/>\n<text fill=\"#000000\" font-family=\"Times,serif\" font-size=\"14.00\" text-anchor=\"middle\" x=\"478\" y=\"-257.3\">InputLayer</text>\n<polyline fill=\"none\" points=\"518,-249.5 518,-295.5 \" stroke=\"#000000\"/>\n<text fill=\"#000000\" font-family=\"Times,serif\" font-size=\"14.00\" text-anchor=\"middle\" x=\"547\" y=\"-280.3\">input:</text>\n<polyline fill=\"none\" points=\"518,-272.5 576,-272.5 \" stroke=\"#000000\"/>\n<text fill=\"#000000\" font-family=\"Times,serif\" font-size=\"14.00\" text-anchor=\"middle\" x=\"547\" y=\"-257.3\">output:</text>\n<polyline fill=\"none\" points=\"576,-249.5 576,-295.5 \" stroke=\"#000000\"/>\n<text fill=\"#000000\" font-family=\"Times,serif\" font-size=\"14.00\" text-anchor=\"middle\" x=\"646.5\" y=\"-268.8\">[(None, 250, 250, 3)]</text>\n<polyline fill=\"none\" points=\"717,-249.5 717,-295.5 \" stroke=\"#000000\"/>\n<text fill=\"#000000\" font-family=\"Times,serif\" font-size=\"14.00\" text-anchor=\"middle\" x=\"787.5\" y=\"-268.8\">[(None, 250, 250, 3)]</text>\n</g>\n<!-- 139783257342480&#45;&gt;139783305341904 -->\n<g class=\"edge\" id=\"edge2\">\n<title>139783257342480-&gt;139783305341904</title>\n<path d=\"M587.2871,-249.4901C559.9921,-239.1454 527.6133,-226.874 499.2737,-216.1334\" fill=\"none\" stroke=\"#000000\"/>\n<polygon fill=\"#000000\" points=\"500.4224,-212.8259 489.831,-212.5547 497.9415,-219.3715 500.4224,-212.8259\" stroke=\"#000000\"/>\n</g>\n<!-- 139783290259664 -->\n<g class=\"node\" id=\"node4\">\n<title>139783290259664</title>\n<polygon fill=\"none\" points=\"164,-83.5 164,-129.5 694,-129.5 694,-83.5 164,-83.5\" stroke=\"#000000\"/>\n<text fill=\"#000000\" font-family=\"Times,serif\" font-size=\"14.00\" text-anchor=\"middle\" x=\"213\" y=\"-114.3\">concatenate_1</text>\n<polyline fill=\"none\" points=\"164,-106.5 262,-106.5 \" stroke=\"#000000\"/>\n<text fill=\"#000000\" font-family=\"Times,serif\" font-size=\"14.00\" text-anchor=\"middle\" x=\"213\" y=\"-91.3\">Concatenate</text>\n<polyline fill=\"none\" points=\"262,-83.5 262,-129.5 \" stroke=\"#000000\"/>\n<text fill=\"#000000\" font-family=\"Times,serif\" font-size=\"14.00\" text-anchor=\"middle\" x=\"291\" y=\"-114.3\">input:</text>\n<polyline fill=\"none\" points=\"262,-106.5 320,-106.5 \" stroke=\"#000000\"/>\n<text fill=\"#000000\" font-family=\"Times,serif\" font-size=\"14.00\" text-anchor=\"middle\" x=\"291\" y=\"-91.3\">output:</text>\n<polyline fill=\"none\" points=\"320,-83.5 320,-129.5 \" stroke=\"#000000\"/>\n<text fill=\"#000000\" font-family=\"Times,serif\" font-size=\"14.00\" text-anchor=\"middle\" x=\"444.5\" y=\"-102.8\">[(None, 8, 8, 2048), (None, 8, 8, 2048)]</text>\n<polyline fill=\"none\" points=\"569,-83.5 569,-129.5 \" stroke=\"#000000\"/>\n<text fill=\"#000000\" font-family=\"Times,serif\" font-size=\"14.00\" text-anchor=\"middle\" x=\"631.5\" y=\"-102.8\">(None, 8, 8, 4096)</text>\n</g>\n<!-- 139783305341904&#45;&gt;139783290259664 -->\n<g class=\"edge\" id=\"edge3\">\n<title>139783305341904-&gt;139783290259664</title>\n<path d=\"M429,-166.3799C429,-158.1745 429,-148.7679 429,-139.8786\" fill=\"none\" stroke=\"#000000\"/>\n<polygon fill=\"#000000\" points=\"432.5001,-139.784 429,-129.784 425.5001,-139.784 432.5001,-139.784\" stroke=\"#000000\"/>\n</g>\n<!-- 139783290282768 -->\n<g class=\"node\" id=\"node5\">\n<title>139783290282768</title>\n<polygon fill=\"none\" points=\"250.5,-.5 250.5,-46.5 607.5,-46.5 607.5,-.5 250.5,-.5\" stroke=\"#000000\"/>\n<text fill=\"#000000\" font-family=\"Times,serif\" font-size=\"14.00\" text-anchor=\"middle\" x=\"282.5\" y=\"-31.3\">dense_3</text>\n<polyline fill=\"none\" points=\"250.5,-23.5 314.5,-23.5 \" stroke=\"#000000\"/>\n<text fill=\"#000000\" font-family=\"Times,serif\" font-size=\"14.00\" text-anchor=\"middle\" x=\"282.5\" y=\"-8.3\">Dense</text>\n<polyline fill=\"none\" points=\"314.5,-.5 314.5,-46.5 \" stroke=\"#000000\"/>\n<text fill=\"#000000\" font-family=\"Times,serif\" font-size=\"14.00\" text-anchor=\"middle\" x=\"343.5\" y=\"-31.3\">input:</text>\n<polyline fill=\"none\" points=\"314.5,-23.5 372.5,-23.5 \" stroke=\"#000000\"/>\n<text fill=\"#000000\" font-family=\"Times,serif\" font-size=\"14.00\" text-anchor=\"middle\" x=\"343.5\" y=\"-8.3\">output:</text>\n<polyline fill=\"none\" points=\"372.5,-.5 372.5,-46.5 \" stroke=\"#000000\"/>\n<text fill=\"#000000\" font-family=\"Times,serif\" font-size=\"14.00\" text-anchor=\"middle\" x=\"435\" y=\"-19.8\">(None, 8, 8, 4096)</text>\n<polyline fill=\"none\" points=\"497.5,-.5 497.5,-46.5 \" stroke=\"#000000\"/>\n<text fill=\"#000000\" font-family=\"Times,serif\" font-size=\"14.00\" text-anchor=\"middle\" x=\"552.5\" y=\"-19.8\">(None, 8, 8, 10)</text>\n</g>\n<!-- 139783290259664&#45;&gt;139783290282768 -->\n<g class=\"edge\" id=\"edge4\">\n<title>139783290259664-&gt;139783290282768</title>\n<path d=\"M429,-83.3799C429,-75.1745 429,-65.7679 429,-56.8786\" fill=\"none\" stroke=\"#000000\"/>\n<polygon fill=\"#000000\" points=\"432.5001,-56.784 429,-46.784 425.5001,-56.784 432.5001,-56.784\" stroke=\"#000000\"/>\n</g>\n</g>\n</svg>"
          },
          "metadata": {},
          "execution_count": 33
        }
      ],
      "source": [
        "model.summary()\n",
        "\n",
        "from IPython.display import SVG\n",
        "from keras.utils.vis_utils import model_to_dot\n",
        "\n",
        "SVG(model_to_dot(model,show_shapes=True).create(prog='dot', format='svg'))"
      ]
    }
  ],
  "metadata": {
    "accelerator": "TPU",
    "colab": {
      "name": "KERAS FUNCTIONAL API.ipynb",
      "provenance": [],
      "collapsed_sections": [],
      "authorship_tag": "ABX9TyNyWl9C6AewhJ1+vVf1lUVA",
      "include_colab_link": true
    },
    "kernelspec": {
      "display_name": "Python 3",
      "name": "python3"
    },
    "language_info": {
      "name": "python"
    }
  },
  "nbformat": 4,
  "nbformat_minor": 0
}