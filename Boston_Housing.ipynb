{
  "nbformat": 4,
  "nbformat_minor": 0,
  "metadata": {
    "colab": {
      "name": "Boston Housing.ipynb",
      "provenance": [],
      "collapsed_sections": [],
      "authorship_tag": "ABX9TyOYs+APxeGxW1XWXq/nc1zf",
      "include_colab_link": true
    },
    "kernelspec": {
      "name": "python3",
      "display_name": "Python 3"
    },
    "language_info": {
      "name": "python"
    },
    "accelerator": "TPU"
  },
  "cells": [
    {
      "cell_type": "markdown",
      "metadata": {
        "id": "view-in-github",
        "colab_type": "text"
      },
      "source": [
        "<a href=\"https://colab.research.google.com/github/Rimshay/DEEP-LEARNING/blob/main/Boston_Housing.ipynb\" target=\"_parent\"><img src=\"https://colab.research.google.com/assets/colab-badge.svg\" alt=\"Open In Colab\"/></a>"
      ]
    },
    {
      "cell_type": "markdown",
      "source": [
        "## 3.6 Predicting house prices: a regression example\n",
        "### 3.6.1 The Boston Housing Price dataset\n",
        "we have to predict price\n",
        "boston housing mid-1970\n",
        "506 data samples\n",
        "404 training and 102 testing samples\n",
        "13 Features (number of columns in X)\n",
        "### Listing 3.24 Loading the Boston housing dataset"
      ],
      "metadata": {
        "id": "8dCLiJuMZ5yv"
      }
    },
    {
      "cell_type": "code",
      "execution_count": 1,
      "metadata": {
        "colab": {
          "base_uri": "https://localhost:8080/"
        },
        "id": "953AJuzbZ4z2",
        "outputId": "7dd1dcba-d06c-4ca9-c01b-f46b2cebc66e"
      },
      "outputs": [
        {
          "output_type": "stream",
          "name": "stdout",
          "text": [
            "Downloading data from https://storage.googleapis.com/tensorflow/tf-keras-datasets/boston_housing.npz\n",
            "57344/57026 [==============================] - 0s 0us/step\n",
            "65536/57026 [==================================] - 0s 0us/step\n"
          ]
        }
      ],
      "source": [
        "from tensorflow.keras.datasets import boston_housing\n",
        "(train_data, train_targets), (test_data, test_targets) = boston_housing.load_data()"
      ]
    },
    {
      "cell_type": "code",
      "source": [
        "train_data.shape"
      ],
      "metadata": {
        "colab": {
          "base_uri": "https://localhost:8080/"
        },
        "id": "2fwj2wWXaE5k",
        "outputId": "a4453d98-ecc6-493a-9c70-e89379cbe982"
      },
      "execution_count": 2,
      "outputs": [
        {
          "output_type": "execute_result",
          "data": {
            "text/plain": [
              "(404, 13)"
            ]
          },
          "metadata": {},
          "execution_count": 2
        }
      ]
    },
    {
      "cell_type": "code",
      "source": [
        "test_data.shape"
      ],
      "metadata": {
        "colab": {
          "base_uri": "https://localhost:8080/"
        },
        "id": "Z0GmcsMraHrj",
        "outputId": "29080f17-ce89-4402-c6be-73c59f896948"
      },
      "execution_count": 3,
      "outputs": [
        {
          "output_type": "execute_result",
          "data": {
            "text/plain": [
              "(102, 13)"
            ]
          },
          "metadata": {},
          "execution_count": 3
        }
      ]
    },
    {
      "cell_type": "code",
      "source": [
        "train_data[0]"
      ],
      "metadata": {
        "colab": {
          "base_uri": "https://localhost:8080/"
        },
        "id": "m30x9ouhaJvW",
        "outputId": "9cf309aa-ae9b-4724-981f-f35b622b7137"
      },
      "execution_count": 4,
      "outputs": [
        {
          "output_type": "execute_result",
          "data": {
            "text/plain": [
              "array([  1.23247,   0.     ,   8.14   ,   0.     ,   0.538  ,   6.142  ,\n",
              "        91.7    ,   3.9769 ,   4.     , 307.     ,  21.     , 396.9    ,\n",
              "        18.72   ])"
            ]
          },
          "metadata": {},
          "execution_count": 4
        }
      ]
    },
    {
      "cell_type": "code",
      "source": [
        "train_targets[0]"
      ],
      "metadata": {
        "colab": {
          "base_uri": "https://localhost:8080/"
        },
        "id": "sY9qbdw3aMi6",
        "outputId": "ef9daa8a-671d-4652-a363-803cfad76753"
      },
      "execution_count": 5,
      "outputs": [
        {
          "output_type": "execute_result",
          "data": {
            "text/plain": [
              "15.2"
            ]
          },
          "metadata": {},
          "execution_count": 5
        }
      ]
    },
    {
      "cell_type": "markdown",
      "source": [
        "### 3.6.2 Preparing the data\n",
        "Listing 3.25 Normalizing the data"
      ],
      "metadata": {
        "id": "mBMWOu66aPry"
      }
    },
    {
      "cell_type": "code",
      "source": [
        "mean = train_data.mean(axis=0)\n",
        "train_data -= mean\n",
        "\n",
        "std = train_data.std(axis=0)\n",
        "\n",
        "train_data /= std\n",
        "test_data -= mean\n",
        "test_data /= std"
      ],
      "metadata": {
        "id": "UnYluwRoaRaR"
      },
      "execution_count": 6,
      "outputs": []
    },
    {
      "cell_type": "code",
      "source": [
        "mean"
      ],
      "metadata": {
        "colab": {
          "base_uri": "https://localhost:8080/"
        },
        "id": "vJdQgIbCaU5x",
        "outputId": "b20f77fa-ba82-49d2-bc08-7b347b0975f5"
      },
      "execution_count": 7,
      "outputs": [
        {
          "output_type": "execute_result",
          "data": {
            "text/plain": [
              "array([3.74511057e+00, 1.14801980e+01, 1.11044307e+01, 6.18811881e-02,\n",
              "       5.57355941e-01, 6.26708168e+00, 6.90106436e+01, 3.74027079e+00,\n",
              "       9.44059406e+00, 4.05898515e+02, 1.84759901e+01, 3.54783168e+02,\n",
              "       1.27408168e+01])"
            ]
          },
          "metadata": {},
          "execution_count": 7
        }
      ]
    },
    {
      "cell_type": "code",
      "source": [
        "std"
      ],
      "metadata": {
        "colab": {
          "base_uri": "https://localhost:8080/"
        },
        "id": "MIJCaJzVaWyj",
        "outputId": "8da41f04-47d2-40ab-917b-889c882040bd"
      },
      "execution_count": 8,
      "outputs": [
        {
          "output_type": "execute_result",
          "data": {
            "text/plain": [
              "array([9.22929073e+00, 2.37382770e+01, 6.80287253e+00, 2.40939633e-01,\n",
              "       1.17147847e-01, 7.08908627e-01, 2.79060634e+01, 2.02770050e+00,\n",
              "       8.68758849e+00, 1.66168506e+02, 2.19765689e+00, 9.39946015e+01,\n",
              "       7.24556085e+00])"
            ]
          },
          "metadata": {},
          "execution_count": 8
        }
      ]
    },
    {
      "cell_type": "code",
      "source": [
        "train_data[0]"
      ],
      "metadata": {
        "colab": {
          "base_uri": "https://localhost:8080/"
        },
        "id": "NMNpPL6zaZ2C",
        "outputId": "03fdb499-0015-426e-dc0d-18c8c1c02524"
      },
      "execution_count": 9,
      "outputs": [
        {
          "output_type": "execute_result",
          "data": {
            "text/plain": [
              "array([-0.27224633, -0.48361547, -0.43576161, -0.25683275, -0.1652266 ,\n",
              "       -0.1764426 ,  0.81306188,  0.1166983 , -0.62624905, -0.59517003,\n",
              "        1.14850044,  0.44807713,  0.8252202 ])"
            ]
          },
          "metadata": {},
          "execution_count": 9
        }
      ]
    },
    {
      "cell_type": "code",
      "source": [
        "(21 - 1.84759901e+01)/2.19765689e+00"
      ],
      "metadata": {
        "colab": {
          "base_uri": "https://localhost:8080/"
        },
        "id": "0gkDLwFTab3p",
        "outputId": "f314c259-016c-4e1b-d2e3-10e1e2a599e5"
      },
      "execution_count": 10,
      "outputs": [
        {
          "output_type": "execute_result",
          "data": {
            "text/plain": [
              "1.1485004376638608"
            ]
          },
          "metadata": {},
          "execution_count": 10
        }
      ]
    },
    {
      "cell_type": "code",
      "source": [
        "train_data.std(axis=0)"
      ],
      "metadata": {
        "colab": {
          "base_uri": "https://localhost:8080/"
        },
        "id": "1kJVegWiaeNp",
        "outputId": "416b5cd5-8271-4663-d4a4-2b25205e5d98"
      },
      "execution_count": 11,
      "outputs": [
        {
          "output_type": "execute_result",
          "data": {
            "text/plain": [
              "array([1., 1., 1., 1., 1., 1., 1., 1., 1., 1., 1., 1., 1.])"
            ]
          },
          "metadata": {},
          "execution_count": 11
        }
      ]
    },
    {
      "cell_type": "markdown",
      "source": [
        "## 3.6.3 Building your network"
      ],
      "metadata": {
        "id": "ZikrPy6PahOK"
      }
    },
    {
      "cell_type": "code",
      "source": [
        "from tensorflow.keras import models\n",
        "from tensorflow.keras import layers\n",
        "\n",
        "def build_model():\n",
        "    model = models.Sequential()\n",
        "    model.add(layers.Dense(64, activation='relu',\n",
        "                           input_shape=(train_data.shape[1],)))\n",
        "    model.add(layers.Dense(64, activation='relu'))\n",
        "    model.add(layers.Dense(1))\n",
        "    model.compile(optimizer='rmsprop', loss='mse', metrics=['mae'])\n",
        "    return model"
      ],
      "metadata": {
        "id": "ocjO7WHTaiyh"
      },
      "execution_count": 12,
      "outputs": []
    },
    {
      "cell_type": "markdown",
      "source": [
        "### Listing 3.27 K-fold validation"
      ],
      "metadata": {
        "id": "t78L9UO7an7B"
      }
    },
    {
      "cell_type": "code",
      "source": [
        "import numpy as np\n",
        "k=4\n",
        "num_val_samples = len(train_data) // k\n",
        "num_epochs = 100\n",
        "all_scores = []\n",
        "\n",
        "num_epochs = 500\n",
        "all_mae_histories = []\n",
        "for i in range(k):\n",
        "    print('processing fold #', i)\n",
        "    val_data = train_data[i * num_val_samples: (i + 1) * num_val_samples]\n",
        "    val_targets = train_targets[i * num_val_samples: (i + 1) * num_val_samples]\n",
        "    \n",
        "    partial_train_data = np.concatenate(\n",
        "        [train_data[:i * num_val_samples],\n",
        "         train_data[(i + 1) * num_val_samples:]],\n",
        "        axis=0)\n",
        "    \n",
        "    partial_train_targets = np.concatenate(\n",
        "        [train_targets[:i * num_val_samples],\n",
        "         train_targets[(i + 1) * num_val_samples:]],\n",
        "        axis=0)\n",
        "    \n",
        "model = build_model()\n",
        "history = model.fit(partial_train_data, partial_train_targets,\n",
        "                    validation_data=(val_data, val_targets),\n",
        "                    epochs=num_epochs, batch_size=1, verbose=0)\n",
        "mae_history = history.history['val_mae']\n",
        "all_mae_histories.append(mae_history)"
      ],
      "metadata": {
        "colab": {
          "base_uri": "https://localhost:8080/"
        },
        "id": "2lP7xGTZaqWi",
        "outputId": "00d27d5e-5878-45a3-bae9-ad846226b9d0"
      },
      "execution_count": 13,
      "outputs": [
        {
          "output_type": "stream",
          "name": "stdout",
          "text": [
            "processing fold # 0\n",
            "processing fold # 1\n",
            "processing fold # 2\n",
            "processing fold # 3\n"
          ]
        }
      ]
    },
    {
      "cell_type": "code",
      "source": [
        "history.history.keys()"
      ],
      "metadata": {
        "colab": {
          "base_uri": "https://localhost:8080/"
        },
        "id": "hQfLLEAYbhR6",
        "outputId": "fe15e2c6-8b1c-4d8a-acba-de03f45dc288"
      },
      "execution_count": 14,
      "outputs": [
        {
          "output_type": "execute_result",
          "data": {
            "text/plain": [
              "dict_keys(['loss', 'mae', 'val_loss', 'val_mae'])"
            ]
          },
          "metadata": {},
          "execution_count": 14
        }
      ]
    },
    {
      "cell_type": "markdown",
      "source": [
        "### Listing 3.29 Building the history of successive mean K-fold validation scores"
      ],
      "metadata": {
        "id": "KIC3Oc23bj8Z"
      }
    },
    {
      "cell_type": "code",
      "source": [
        "average_mae_history = [\n",
        "np.mean([x[i] for x in all_mae_histories]) for i in range(num_epochs)]"
      ],
      "metadata": {
        "id": "TlLytiDubl2Q"
      },
      "execution_count": 15,
      "outputs": []
    },
    {
      "cell_type": "code",
      "source": [
        "average_mae_history"
      ],
      "metadata": {
        "colab": {
          "base_uri": "https://localhost:8080/"
        },
        "id": "InVqoZOybnpx",
        "outputId": "165827fc-2871-4d01-fffd-077af7ec2f79"
      },
      "execution_count": 16,
      "outputs": [
        {
          "output_type": "execute_result",
          "data": {
            "text/plain": [
              "[4.696352005004883,\n",
              " 3.6434824466705322,\n",
              " 3.3847780227661133,\n",
              " 3.3189806938171387,\n",
              " 3.0412697792053223,\n",
              " 3.1840829849243164,\n",
              " 2.729905128479004,\n",
              " 2.8113315105438232,\n",
              " 2.8124289512634277,\n",
              " 2.7896668910980225,\n",
              " 2.8055005073547363,\n",
              " 2.8383731842041016,\n",
              " 2.9381158351898193,\n",
              " 2.662489891052246,\n",
              " 2.6567413806915283,\n",
              " 2.5403456687927246,\n",
              " 2.5006463527679443,\n",
              " 2.721064805984497,\n",
              " 2.5427143573760986,\n",
              " 2.652876853942871,\n",
              " 2.7312769889831543,\n",
              " 2.6544694900512695,\n",
              " 3.0830392837524414,\n",
              " 2.9195666313171387,\n",
              " 2.6448094844818115,\n",
              " 2.5328328609466553,\n",
              " 2.6978206634521484,\n",
              " 2.581739902496338,\n",
              " 2.6119935512542725,\n",
              " 2.6092300415039062,\n",
              " 2.4994864463806152,\n",
              " 2.572598695755005,\n",
              " 2.7485339641571045,\n",
              " 2.506246328353882,\n",
              " 2.475775957107544,\n",
              " 2.498103618621826,\n",
              " 2.417396306991577,\n",
              " 2.4489030838012695,\n",
              " 2.6210339069366455,\n",
              " 2.6165859699249268,\n",
              " 2.455536127090454,\n",
              " 2.599461317062378,\n",
              " 2.6110434532165527,\n",
              " 2.637448787689209,\n",
              " 2.4747087955474854,\n",
              " 2.7798616886138916,\n",
              " 2.7146108150482178,\n",
              " 2.5643274784088135,\n",
              " 2.686387538909912,\n",
              " 2.6846187114715576,\n",
              " 2.5183939933776855,\n",
              " 2.5154643058776855,\n",
              " 2.509751796722412,\n",
              " 2.518855333328247,\n",
              " 2.648212432861328,\n",
              " 2.447674036026001,\n",
              " 2.664792537689209,\n",
              " 2.3446240425109863,\n",
              " 2.3809003829956055,\n",
              " 2.4641003608703613,\n",
              " 2.627408266067505,\n",
              " 2.444380283355713,\n",
              " 2.6751885414123535,\n",
              " 2.645294427871704,\n",
              " 2.3742754459381104,\n",
              " 2.6120100021362305,\n",
              " 2.36746883392334,\n",
              " 2.485962152481079,\n",
              " 2.6559438705444336,\n",
              " 2.7049198150634766,\n",
              " 2.60896897315979,\n",
              " 2.49902606010437,\n",
              " 2.58029842376709,\n",
              " 2.492647171020508,\n",
              " 2.5968286991119385,\n",
              " 2.7290828227996826,\n",
              " 2.408113718032837,\n",
              " 2.359830856323242,\n",
              " 2.489736318588257,\n",
              " 2.5254886150360107,\n",
              " 2.3380043506622314,\n",
              " 2.4469635486602783,\n",
              " 2.679774761199951,\n",
              " 2.4313011169433594,\n",
              " 2.6004841327667236,\n",
              " 2.593519449234009,\n",
              " 2.4214134216308594,\n",
              " 2.359055519104004,\n",
              " 2.661215305328369,\n",
              " 2.455538034439087,\n",
              " 2.4259464740753174,\n",
              " 2.480613946914673,\n",
              " 2.482501983642578,\n",
              " 2.8090288639068604,\n",
              " 2.5249745845794678,\n",
              " 2.458796977996826,\n",
              " 2.4580438137054443,\n",
              " 2.376079797744751,\n",
              " 2.433095693588257,\n",
              " 2.4561383724212646,\n",
              " 2.55078125,\n",
              " 2.4188082218170166,\n",
              " 2.5121512413024902,\n",
              " 2.5743818283081055,\n",
              " 2.477391481399536,\n",
              " 2.530456781387329,\n",
              " 2.4824883937835693,\n",
              " 2.5011706352233887,\n",
              " 2.5694282054901123,\n",
              " 2.4788403511047363,\n",
              " 2.536487579345703,\n",
              " 2.3920793533325195,\n",
              " 2.4223110675811768,\n",
              " 2.63205623626709,\n",
              " 3.119699001312256,\n",
              " 2.453261375427246,\n",
              " 2.4301164150238037,\n",
              " 2.3735296726226807,\n",
              " 2.460753917694092,\n",
              " 2.741530418395996,\n",
              " 2.5151941776275635,\n",
              " 2.584580183029175,\n",
              " 2.3663253784179688,\n",
              " 2.3530733585357666,\n",
              " 2.513807773590088,\n",
              " 2.697481393814087,\n",
              " 2.457651376724243,\n",
              " 2.439645290374756,\n",
              " 2.3451642990112305,\n",
              " 2.4596283435821533,\n",
              " 2.3629047870635986,\n",
              " 2.3718655109405518,\n",
              " 2.620512008666992,\n",
              " 2.4296810626983643,\n",
              " 2.536761522293091,\n",
              " 2.3195252418518066,\n",
              " 2.4795100688934326,\n",
              " 2.407741069793701,\n",
              " 2.3852310180664062,\n",
              " 2.4695003032684326,\n",
              " 2.5890603065490723,\n",
              " 2.3849024772644043,\n",
              " 2.4729180335998535,\n",
              " 2.4763383865356445,\n",
              " 2.4680733680725098,\n",
              " 2.4392857551574707,\n",
              " 2.423607587814331,\n",
              " 2.5574679374694824,\n",
              " 2.588512659072876,\n",
              " 2.451507329940796,\n",
              " 2.488719940185547,\n",
              " 2.7072439193725586,\n",
              " 2.4344005584716797,\n",
              " 2.513486862182617,\n",
              " 2.478239059448242,\n",
              " 2.4906575679779053,\n",
              " 2.4616312980651855,\n",
              " 2.645855665206909,\n",
              " 2.6290838718414307,\n",
              " 2.5367672443389893,\n",
              " 2.47406268119812,\n",
              " 2.528411626815796,\n",
              " 2.4865481853485107,\n",
              " 2.509904384613037,\n",
              " 2.4575626850128174,\n",
              " 2.469813585281372,\n",
              " 2.5684494972229004,\n",
              " 2.513188600540161,\n",
              " 2.4978976249694824,\n",
              " 2.5258705615997314,\n",
              " 2.5295708179473877,\n",
              " 2.6851251125335693,\n",
              " 2.4621119499206543,\n",
              " 2.4186763763427734,\n",
              " 2.6260569095611572,\n",
              " 2.5029842853546143,\n",
              " 2.5484044551849365,\n",
              " 2.3601834774017334,\n",
              " 2.4354641437530518,\n",
              " 2.5183067321777344,\n",
              " 2.475738286972046,\n",
              " 2.3880767822265625,\n",
              " 2.7012782096862793,\n",
              " 2.482450008392334,\n",
              " 2.392132520675659,\n",
              " 2.7001376152038574,\n",
              " 2.566351890563965,\n",
              " 2.516097068786621,\n",
              " 2.5107672214508057,\n",
              " 2.9370646476745605,\n",
              " 2.549048900604248,\n",
              " 2.4913206100463867,\n",
              " 2.481950044631958,\n",
              " 2.8550193309783936,\n",
              " 2.5346076488494873,\n",
              " 2.9391674995422363,\n",
              " 2.4066901206970215,\n",
              " 2.3477892875671387,\n",
              " 2.6018669605255127,\n",
              " 2.3967080116271973,\n",
              " 2.5539348125457764,\n",
              " 2.599538564682007,\n",
              " 2.598876714706421,\n",
              " 2.7422120571136475,\n",
              " 2.689476490020752,\n",
              " 2.564410448074341,\n",
              " 2.493845224380493,\n",
              " 2.7539031505584717,\n",
              " 2.596644878387451,\n",
              " 2.5287694931030273,\n",
              " 2.6845552921295166,\n",
              " 2.640408754348755,\n",
              " 2.7352705001831055,\n",
              " 2.534876823425293,\n",
              " 2.5011043548583984,\n",
              " 2.4610097408294678,\n",
              " 2.518497943878174,\n",
              " 2.395261287689209,\n",
              " 2.5068650245666504,\n",
              " 2.584524393081665,\n",
              " 2.4575536251068115,\n",
              " 2.623077630996704,\n",
              " 2.6738522052764893,\n",
              " 2.5720245838165283,\n",
              " 2.7510433197021484,\n",
              " 2.4632339477539062,\n",
              " 2.6662800312042236,\n",
              " 2.7525107860565186,\n",
              " 3.269879102706909,\n",
              " 2.6934032440185547,\n",
              " 2.5330045223236084,\n",
              " 2.672865390777588,\n",
              " 2.5213541984558105,\n",
              " 2.551413059234619,\n",
              " 2.5793800354003906,\n",
              " 2.621176242828369,\n",
              " 2.6062545776367188,\n",
              " 2.6646347045898438,\n",
              " 2.7006845474243164,\n",
              " 2.6334645748138428,\n",
              " 2.699244499206543,\n",
              " 2.6204073429107666,\n",
              " 2.652606964111328,\n",
              " 2.8480100631713867,\n",
              " 2.7008399963378906,\n",
              " 2.5453572273254395,\n",
              " 2.4897379875183105,\n",
              " 2.8644533157348633,\n",
              " 2.5850753784179688,\n",
              " 2.743234395980835,\n",
              " 2.7101666927337646,\n",
              " 2.7260031700134277,\n",
              " 2.62597393989563,\n",
              " 2.7168102264404297,\n",
              " 2.793137550354004,\n",
              " 2.928349256515503,\n",
              " 2.7769229412078857,\n",
              " 2.9411540031433105,\n",
              " 2.7062220573425293,\n",
              " 2.6041929721832275,\n",
              " 2.6519477367401123,\n",
              " 2.7185111045837402,\n",
              " 2.5163824558258057,\n",
              " 2.8880505561828613,\n",
              " 2.7981016635894775,\n",
              " 2.5599331855773926,\n",
              " 2.8207318782806396,\n",
              " 2.5179786682128906,\n",
              " 2.718956708908081,\n",
              " 2.7921760082244873,\n",
              " 2.9129528999328613,\n",
              " 2.6799960136413574,\n",
              " 2.6599249839782715,\n",
              " 2.665177345275879,\n",
              " 2.6799588203430176,\n",
              " 2.8731794357299805,\n",
              " 2.575824737548828,\n",
              " 2.6203413009643555,\n",
              " 2.6052727699279785,\n",
              " 2.7651546001434326,\n",
              " 2.9863526821136475,\n",
              " 2.780181646347046,\n",
              " 2.760538339614868,\n",
              " 2.6859796047210693,\n",
              " 2.5571019649505615,\n",
              " 2.8372952938079834,\n",
              " 2.693965435028076,\n",
              " 2.554842710494995,\n",
              " 2.5927555561065674,\n",
              " 2.7501461505889893,\n",
              " 2.7569808959960938,\n",
              " 2.6039509773254395,\n",
              " 2.753657817840576,\n",
              " 2.565993547439575,\n",
              " 2.7275612354278564,\n",
              " 2.932844400405884,\n",
              " 2.9007883071899414,\n",
              " 2.8214855194091797,\n",
              " 2.656358242034912,\n",
              " 2.90663743019104,\n",
              " 2.6555235385894775,\n",
              " 2.781564235687256,\n",
              " 2.687972068786621,\n",
              " 2.693755865097046,\n",
              " 2.6181704998016357,\n",
              " 2.7827060222625732,\n",
              " 2.8625078201293945,\n",
              " 2.9981279373168945,\n",
              " 2.6609065532684326,\n",
              " 2.764516592025757,\n",
              " 2.6208090782165527,\n",
              " 2.6771962642669678,\n",
              " 2.7806665897369385,\n",
              " 3.056065559387207,\n",
              " 2.763085126876831,\n",
              " 2.7049310207366943,\n",
              " 2.6778838634490967,\n",
              " 2.737816333770752,\n",
              " 3.085421085357666,\n",
              " 2.6789326667785645,\n",
              " 2.68947434425354,\n",
              " 2.740278482437134,\n",
              " 2.9909443855285645,\n",
              " 2.9064829349517822,\n",
              " 2.668755531311035,\n",
              " 2.7613143920898438,\n",
              " 2.7637104988098145,\n",
              " 2.683035373687744,\n",
              " 2.7806315422058105,\n",
              " 2.619960308074951,\n",
              " 2.714287519454956,\n",
              " 3.067167043685913,\n",
              " 2.7683939933776855,\n",
              " 2.746701955795288,\n",
              " 2.6534175872802734,\n",
              " 2.5827016830444336,\n",
              " 2.7673163414001465,\n",
              " 2.7719647884368896,\n",
              " 2.6858971118927,\n",
              " 2.7156577110290527,\n",
              " 2.6012632846832275,\n",
              " 2.8777077198028564,\n",
              " 2.7862017154693604,\n",
              " 2.88873028755188,\n",
              " 2.9418447017669678,\n",
              " 2.8632938861846924,\n",
              " 2.8309662342071533,\n",
              " 2.8535068035125732,\n",
              " 2.743720531463623,\n",
              " 2.8068439960479736,\n",
              " 2.732184648513794,\n",
              " 3.150824785232544,\n",
              " 2.6703619956970215,\n",
              " 2.757736921310425,\n",
              " 2.750377893447876,\n",
              " 2.6699419021606445,\n",
              " 2.8556058406829834,\n",
              " 2.701843500137329,\n",
              " 2.8453619480133057,\n",
              " 2.752667188644409,\n",
              " 2.9232587814331055,\n",
              " 2.7169442176818848,\n",
              " 2.7263479232788086,\n",
              " 2.9301998615264893,\n",
              " 2.82794451713562,\n",
              " 2.7804369926452637,\n",
              " 2.8068087100982666,\n",
              " 2.6531870365142822,\n",
              " 2.7307071685791016,\n",
              " 2.895279884338379,\n",
              " 2.7572877407073975,\n",
              " 2.865427255630493,\n",
              " 2.748979330062866,\n",
              " 2.9092845916748047,\n",
              " 2.7300496101379395,\n",
              " 2.8159866333007812,\n",
              " 2.783841371536255,\n",
              " 2.793135643005371,\n",
              " 2.6634647846221924,\n",
              " 2.84611439704895,\n",
              " 2.7239584922790527,\n",
              " 2.872066020965576,\n",
              " 2.9308032989501953,\n",
              " 2.8961381912231445,\n",
              " 2.7766621112823486,\n",
              " 2.952420949935913,\n",
              " 2.9563302993774414,\n",
              " 2.8110947608947754,\n",
              " 2.8709352016448975,\n",
              " 3.2123467922210693,\n",
              " 3.105149030685425,\n",
              " 2.9300031661987305,\n",
              " 2.904198408126831,\n",
              " 2.8126800060272217,\n",
              " 3.0759494304656982,\n",
              " 2.9047493934631348,\n",
              " 2.895535707473755,\n",
              " 2.8073244094848633,\n",
              " 2.824892520904541,\n",
              " 2.989694356918335,\n",
              " 2.7746400833129883,\n",
              " 2.890383243560791,\n",
              " 2.750525951385498,\n",
              " 2.919570207595825,\n",
              " 2.892523765563965,\n",
              " 2.812521457672119,\n",
              " 2.9270317554473877,\n",
              " 2.982318639755249,\n",
              " 2.7321417331695557,\n",
              " 2.8790500164031982,\n",
              " 2.78414249420166,\n",
              " 2.8668224811553955,\n",
              " 2.652033805847168,\n",
              " 2.82205867767334,\n",
              " 2.918788433074951,\n",
              " 2.8385093212127686,\n",
              " 2.886265754699707,\n",
              " 2.871159553527832,\n",
              " 2.8381247520446777,\n",
              " 2.801939010620117,\n",
              " 2.8982858657836914,\n",
              " 2.84261417388916,\n",
              " 2.907763719558716,\n",
              " 2.863645315170288,\n",
              " 2.813001871109009,\n",
              " 2.8488054275512695,\n",
              " 2.857057809829712,\n",
              " 2.8626158237457275,\n",
              " 2.762204647064209,\n",
              " 3.0286827087402344,\n",
              " 2.8819241523742676,\n",
              " 2.837836503982544,\n",
              " 2.8945608139038086,\n",
              " 2.8471248149871826,\n",
              " 2.894331455230713,\n",
              " 3.2268221378326416,\n",
              " 2.7136945724487305,\n",
              " 2.9379794597625732,\n",
              " 2.9891676902770996,\n",
              " 2.7907304763793945,\n",
              " 2.8093204498291016,\n",
              " 2.830280303955078,\n",
              " 2.7419745922088623,\n",
              " 2.7844972610473633,\n",
              " 2.8538129329681396,\n",
              " 2.9126625061035156,\n",
              " 2.8463568687438965,\n",
              " 2.7887537479400635,\n",
              " 2.8461086750030518,\n",
              " 2.9334073066711426,\n",
              " 2.784064769744873,\n",
              " 2.9504823684692383,\n",
              " 2.7389981746673584,\n",
              " 2.848724126815796,\n",
              " 2.8317713737487793,\n",
              " 2.819697380065918,\n",
              " 2.856768846511841,\n",
              " 2.9080288410186768,\n",
              " 2.9503135681152344,\n",
              " 2.8795359134674072,\n",
              " 2.850592613220215,\n",
              " 2.925898790359497,\n",
              " 3.1562106609344482,\n",
              " 2.83929443359375,\n",
              " 2.8877034187316895,\n",
              " 2.7186224460601807,\n",
              " 2.825532913208008,\n",
              " 2.9026780128479004,\n",
              " 2.8459832668304443,\n",
              " 2.8840627670288086,\n",
              " 3.029794454574585,\n",
              " 2.960684299468994,\n",
              " 2.87062668800354,\n",
              " 2.8491110801696777,\n",
              " 2.8637897968292236,\n",
              " 2.7771427631378174,\n",
              " 2.788761854171753,\n",
              " 2.8597071170806885,\n",
              " 2.796286106109619,\n",
              " 2.8403968811035156,\n",
              " 2.948443651199341,\n",
              " 2.854743242263794,\n",
              " 2.8205513954162598,\n",
              " 2.9986495971679688,\n",
              " 2.8814632892608643,\n",
              " 2.917891025543213,\n",
              " 2.947303295135498,\n",
              " 3.023818254470825,\n",
              " 2.9485228061676025,\n",
              " 2.8799021244049072,\n",
              " 2.8630247116088867,\n",
              " 2.8561108112335205,\n",
              " 2.962580680847168,\n",
              " 2.9327361583709717,\n",
              " 2.9096462726593018,\n",
              " 2.9112801551818848,\n",
              " 2.9455788135528564,\n",
              " 2.912665843963623,\n",
              " 3.064523935317993,\n",
              " 2.9282987117767334]"
            ]
          },
          "metadata": {},
          "execution_count": 16
        }
      ]
    },
    {
      "cell_type": "markdown",
      "source": [
        "### Listing 3.30 Plotting validation scores"
      ],
      "metadata": {
        "id": "diuX_YwUbtdy"
      }
    },
    {
      "cell_type": "code",
      "source": [
        "import matplotlib.pyplot as plt\n",
        "plt.plot(average_mae_history)\n",
        "plt.xlabel('Epochs')\n",
        "plt.ylabel('Validation MAE')\n",
        "plt.show()"
      ],
      "metadata": {
        "colab": {
          "base_uri": "https://localhost:8080/",
          "height": 279
        },
        "id": "o0Pwx6QkbqYY",
        "outputId": "3e22cc3d-37a0-4a1a-ec76-04dd01b92052"
      },
      "execution_count": 17,
      "outputs": [
        {
          "output_type": "display_data",
          "data": {
            "image/png": "[encoded data removed]",
            "text/plain": [
              "<Figure size 432x288 with 1 Axes>"
            ]
          },
          "metadata": {
            "needs_background": "light"
          }
        }
      ]
    },
    {
      "cell_type": "code",
      "source": [
        "import matplotlib.pyplot as plt\n",
        "plt.plot(range(1, len(average_mae_history) + 1), average_mae_history)\n",
        "plt.xlabel('Epochs')\n",
        "plt.ylabel('Validation MAE')\n",
        "plt.show()"
      ],
      "metadata": {
        "colab": {
          "base_uri": "https://localhost:8080/",
          "height": 279
        },
        "id": "iJzZrHu_bx3b",
        "outputId": "5f178ffc-604a-4fb4-94d1-b5f90aa2b865"
      },
      "execution_count": 18,
      "outputs": [
        {
          "output_type": "display_data",
          "data": {
            "image/png": "[encoded data removed]",
            "text/plain": [
              "<Figure size 432x288 with 1 Axes>"
            ]
          },
          "metadata": {
            "needs_background": "light"
          }
        }
      ]
    },
    {
      "cell_type": "markdown",
      "source": [
        "### Listing 3.31 Plotting validation scores, excluding the first 10 data points"
      ],
      "metadata": {
        "id": "vSODa_qPb0oA"
      }
    },
    {
      "cell_type": "code",
      "source": [
        "def smooth_curve(points, factor=0.9):\n",
        "    smoothed_points = []\n",
        "    for point in points:\n",
        "        if smoothed_points:\n",
        "            previous = smoothed_points[-1]\n",
        "            smoothed_points.append(previous * factor + point * (1 - factor))\n",
        "        else:\n",
        "            smoothed_points.append(point)\n",
        "    return smoothed_points\n",
        "    \n",
        "smooth_mae_history = smooth_curve(average_mae_history[10:])\n",
        "plt.plot(range(1, len(smooth_mae_history) + 1), smooth_mae_history)\n",
        "plt.xlabel('Epochs')\n",
        "plt.ylabel('Validation MAE')\n",
        "plt.show()"
      ],
      "metadata": {
        "colab": {
          "base_uri": "https://localhost:8080/",
          "height": 279
        },
        "id": "-VAv-hXhb4S3",
        "outputId": "eecf636f-47f2-49c0-a2ce-7fba5c899235"
      },
      "execution_count": 19,
      "outputs": [
        {
          "output_type": "display_data",
          "data": {
            "image/png": "[encoded data removed]",
            "text/plain": [
              "<Figure size 432x288 with 1 Axes>"
            ]
          },
          "metadata": {
            "needs_background": "light"
          }
        }
      ]
    },
    {
      "cell_type": "markdown",
      "source": [
        "### Listing 3.32 Training the final model"
      ],
      "metadata": {
        "id": "8Qo8YiP7b7sj"
      }
    },
    {
      "cell_type": "code",
      "source": [
        "model = build_model()\n",
        "model.fit(train_data, train_targets,\n",
        "          epochs=100, batch_size=16, verbose=0)\n",
        "test_mse_score, test_mae_score = model.evaluate(test_data, test_targets)"
      ],
      "metadata": {
        "colab": {
          "base_uri": "https://localhost:8080/"
        },
        "id": "gi2adCpAb8_4",
        "outputId": "5fe30b85-6b02-4fa3-c4ef-11fc6f331998"
      },
      "execution_count": 20,
      "outputs": [
        {
          "output_type": "stream",
          "name": "stdout",
          "text": [
            "4/4 [==============================] - 0s 7ms/step - loss: 16.4607 - mae: 2.5150\n"
          ]
        }
      ]
    },
    {
      "cell_type": "code",
      "source": [
        "test_mse_score"
      ],
      "metadata": {
        "colab": {
          "base_uri": "https://localhost:8080/"
        },
        "id": "mCdDsVLqb_Ea",
        "outputId": "ad28b15a-c681-4336-eb67-d29dd5f6d214"
      },
      "execution_count": 21,
      "outputs": [
        {
          "output_type": "execute_result",
          "data": {
            "text/plain": [
              "16.460708618164062"
            ]
          },
          "metadata": {},
          "execution_count": 21
        }
      ]
    },
    {
      "cell_type": "code",
      "source": [
        "test_mae_score"
      ],
      "metadata": {
        "colab": {
          "base_uri": "https://localhost:8080/"
        },
        "id": "gY9c-SlmcCC_",
        "outputId": "f7a30f47-3ec2-4b96-b80c-14b1a45d8c4f"
      },
      "execution_count": 22,
      "outputs": [
        {
          "output_type": "execute_result",
          "data": {
            "text/plain": [
              "2.514993667602539"
            ]
          },
          "metadata": {},
          "execution_count": 22
        }
      ]
    },
    {
      "cell_type": "code",
      "source": [
        "model.predict(test_data)"
      ],
      "metadata": {
        "colab": {
          "base_uri": "https://localhost:8080/"
        },
        "id": "Q8PLNhXDcEMY",
        "outputId": "e9d98ec4-0ae9-445c-b0c4-b3134f187994"
      },
      "execution_count": 23,
      "outputs": [
        {
          "output_type": "execute_result",
          "data": {
            "text/plain": [
              "array([[ 7.913284 ],\n",
              "       [18.512081 ],\n",
              "       [22.697638 ],\n",
              "       [31.278442 ],\n",
              "       [25.806105 ],\n",
              "       [21.841496 ],\n",
              "       [28.854725 ],\n",
              "       [22.61774  ],\n",
              "       [18.958954 ],\n",
              "       [21.549547 ],\n",
              "       [18.785604 ],\n",
              "       [16.935741 ],\n",
              "       [15.234297 ],\n",
              "       [43.41245  ],\n",
              "       [20.072205 ],\n",
              "       [20.553358 ],\n",
              "       [25.876863 ],\n",
              "       [19.35893  ],\n",
              "       [18.442564 ],\n",
              "       [26.620733 ],\n",
              "       [11.386091 ],\n",
              "       [14.873701 ],\n",
              "       [22.072544 ],\n",
              "       [17.072441 ],\n",
              "       [20.90899  ],\n",
              "       [23.902084 ],\n",
              "       [28.528791 ],\n",
              "       [31.311186 ],\n",
              "       [11.321548 ],\n",
              "       [19.826956 ],\n",
              "       [20.521837 ],\n",
              "       [14.170404 ],\n",
              "       [35.407597 ],\n",
              "       [24.149336 ],\n",
              "       [17.85034  ],\n",
              "       [ 7.4447107],\n",
              "       [16.822083 ],\n",
              "       [18.82694  ],\n",
              "       [18.403639 ],\n",
              "       [27.7082   ],\n",
              "       [31.957182 ],\n",
              "       [28.446257 ],\n",
              "       [13.600521 ],\n",
              "       [44.28024  ],\n",
              "       [28.94879  ],\n",
              "       [25.791777 ],\n",
              "       [29.28001  ],\n",
              "       [18.472408 ],\n",
              "       [23.491976 ],\n",
              "       [23.203611 ],\n",
              "       [37.74648  ],\n",
              "       [21.399727 ],\n",
              "       [10.751012 ],\n",
              "       [14.7859   ],\n",
              "       [36.97476  ],\n",
              "       [28.461853 ],\n",
              "       [12.23737  ],\n",
              "       [50.692913 ],\n",
              "       [36.452465 ],\n",
              "       [23.839125 ],\n",
              "       [23.506582 ],\n",
              "       [16.563812 ],\n",
              "       [14.732455 ],\n",
              "       [19.966137 ],\n",
              "       [24.17537  ],\n",
              "       [21.69336  ],\n",
              "       [13.076225 ],\n",
              "       [23.268343 ],\n",
              "       [13.434862 ],\n",
              "       [ 7.2602563],\n",
              "       [25.469885 ],\n",
              "       [31.096647 ],\n",
              "       [25.948774 ],\n",
              "       [13.147856 ],\n",
              "       [26.404144 ],\n",
              "       [18.373846 ],\n",
              "       [19.234045 ],\n",
              "       [24.517324 ],\n",
              "       [36.623627 ],\n",
              "       [10.201868 ],\n",
              "       [22.693903 ],\n",
              "       [38.52957  ],\n",
              "       [16.380268 ],\n",
              "       [13.219524 ],\n",
              "       [17.87966  ],\n",
              "       [18.001839 ],\n",
              "       [21.514296 ],\n",
              "       [20.183645 ],\n",
              "       [22.112524 ],\n",
              "       [29.645206 ],\n",
              "       [20.9565   ],\n",
              "       [20.47746  ],\n",
              "       [27.021914 ],\n",
              "       [45.038303 ],\n",
              "       [37.913292 ],\n",
              "       [20.580122 ],\n",
              "       [36.0862   ],\n",
              "       [48.694164 ],\n",
              "       [24.95049  ],\n",
              "       [46.250164 ],\n",
              "       [30.013174 ],\n",
              "       [20.90196  ]], dtype=float32)"
            ]
          },
          "metadata": {},
          "execution_count": 23
        }
      ]
    }
  ]
}